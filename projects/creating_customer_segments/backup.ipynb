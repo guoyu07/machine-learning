{
 "cells": [
  {
   "cell_type": "code",
   "execution_count": null,
   "metadata": {
    "collapsed": true
   },
   "outputs": [],
   "source": [
    "\"\"\"\n",
    "纵向对每类产品数据做归一化，横向再将同一个客户的各类产品归一化后的数据加和，最大的、最小的，即是离群最明显的数据，\n",
    "选择最大的数据里选三条产品类别不一样的作为跟踪对象,因为较小的数据各类产品数量差异不明显，不利于观察变化，刚好top3最大的产品类别都不一样。\n",
    "\"\"\"\n",
    "\n",
    "from collections import OrderedDict\n",
    "from IPython.display import display\n",
    "from matplotlib import pyplot as plt\n",
    "\n",
    "def move_axis(ax, y_axis_base = 0, x_axis_base=0):\n",
    "    ax.spines['right'].set_color('none')\n",
    "    ax.spines['top'].set_color('none')\n",
    "    ax.xaxis.set_ticks_position('bottom')\n",
    "    if(y_axis_base != None):\n",
    "        ax.spines['bottom'].set_position(('data',y_axis_base))\n",
    "    ax.yaxis.set_ticks_position('left')\n",
    "    if(x_axis_base != None):\n",
    "        ax.spines['left'].set_position(('data',x_axis_base))\n",
    "\n",
    "normlize_dict = OrderedDict()\n",
    "normlize_dict['row_sum'] = np.zeros(data.shape[0])\n",
    "normlize_dict['max'] = np.empty(data.shape[0], dtype=np.str)\n",
    "normlize_dict['min'] = np.empty(data.shape[0], dtype=np.str)\n",
    "for column in data.columns:\n",
    "    series_data =(data[column] - data[column].mean())/(data[column].max() - data[column].min())\n",
    "    normlize_dict['row_sum'] += series_data\n",
    "    normlize_dict[column] = series_data\n",
    "    \n",
    "normlize_data = pd.DataFrame(normlize_dict)\n",
    "\n",
    "# 曲线图用于观察数据分布\n",
    "ax = normlize_data.drop(['max', 'min'], axis = 1).plot(figsize=(40,30))\n",
    "move_axis(ax)\n",
    "\n",
    "for index, row in normlize_data.iterrows():\n",
    "    normlize_data.loc[index,'max'] = np.argmax(row.drop(['row_sum', 'max', 'min']))\n",
    "    normlize_data.loc[index,'min'] = np.argmin(row.drop(['row_sum', 'max', 'min']))\n",
    "sorted_normlize_data = normlize_data.sort_values(['row_sum'], ascending=False)\n",
    "display(sorted_normlize_data.head())\n",
    "print \"选择的index是：{}\".format(list(sorted_normlize_data.head().head(3).index))"
   ]
  },
  {
   "cell_type": "code",
   "execution_count": null,
   "metadata": {
    "collapsed": true
   },
   "outputs": [],
   "source": [
    "filtered_df = discrete_df[(discrete_df[\"discrete_count\",'low']>0) & (discrete_df[\"discrete_count\",'high']>0)]\n",
    "grouped_data = filtered_df.groupby([\n",
    "    discrete_df[\"discrete_columns_joined\",\"high_categorys\"], \n",
    "    discrete_df[\"discrete_columns_joined\",\"low_categorys\"], \n",
    "    discrete_df[\"discrete_columns_joined\",\"normal_categorys\"]\n",
    "]).size().sort_values(ascending=False)\n",
    "grouped_df = pd.DataFrame(grouped_data, columns=[\"count\"])\n",
    "grouped_df.head()"
   ]
  }
 ],
 "metadata": {
  "kernelspec": {
   "display_name": "Python 2",
   "language": "python",
   "name": "python2"
  },
  "language_info": {
   "codemirror_mode": {
    "name": "ipython",
    "version": 2
   },
   "file_extension": ".py",
   "mimetype": "text/x-python",
   "name": "python",
   "nbconvert_exporter": "python",
   "pygments_lexer": "ipython2",
   "version": "2.7.13"
  }
 },
 "nbformat": 4,
 "nbformat_minor": 2
}
