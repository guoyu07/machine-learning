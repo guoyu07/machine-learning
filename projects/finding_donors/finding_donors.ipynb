{
 "cells": [
  {
   "cell_type": "markdown",
   "metadata": {},
   "source": [
    "# 机器学习纳米学位\n",
    "## 监督学习\n",
    "## 项目2: 为*CharityML*寻找捐献者"
   ]
  },
  {
   "cell_type": "markdown",
   "metadata": {},
   "source": [
    "欢迎来到机器学习工程师纳米学位的第二个项目！在此文件中，有些示例代码已经提供给你，但你还需要实现更多的功能让项目成功运行。除非有明确要求，你无须修改任何已给出的代码。以**'练习'**开始的标题表示接下来的代码部分中有你必须要实现的功能。每一部分都会有详细的指导，需要实现的部分也会在注释中以'TODO'标出。请仔细阅读所有的提示！\n",
    "\n",
    "除了实现代码外，你还必须回答一些与项目和你的实现有关的问题。每一个需要你回答的问题都会以**'问题 X'**为标题。请仔细阅读每个问题，并且在问题后的**'回答'**文字框中写出完整的答案。我们将根据你对问题的回答和撰写代码所实现的功能来对你提交的项目进行评分。\n",
    ">**提示：**Code 和 Markdown 区域可通过**Shift + Enter**快捷键运行。此外，Markdown可以通过双击进入编辑模式。"
   ]
  },
  {
   "cell_type": "markdown",
   "metadata": {},
   "source": [
    "## 开始\n",
    "\n",
    "在这个项目中，你将使用1994年美国人口普查收集的数据，选用几个监督学习算法以准确地建模被调查者的收入。然后，你将根据初步结果从中选择出最佳的候选算法，并进一步优化该算法以最好地建模这些数据。你的目标是建立一个能够准确地预测被调查者年收入是否超过50000美元的模型。这种类型的任务会出现在那些依赖于捐款而存在的非营利性组织。了解人群的收入情况可以帮助一个非营利性的机构更好地了解他们要多大的捐赠，或是否他们应该接触这些人。虽然我们很难直接从公开的资源中推断出一个人的一般收入阶层，但是我们可以（也正是我们将要做的）从其他的一些公开的可获得的资源中获得一些特征从而推断出该值。\n",
    "\n",
    "这个项目的数据集来自[UCI机器学习知识库](https://archive.ics.uci.edu/ml/datasets/Census+Income)。这个数据集是由Ron Kohavi和Barry Becker在发表文章_\"Scaling Up the Accuracy of Naive-Bayes Classifiers: A Decision-Tree Hybrid\"_之后捐赠的，你可以在Ron Kohavi提供的[在线版本](https://www.aaai.org/Papers/KDD/1996/KDD96-033.pdf)中找到这个文章。我们在这里探索的数据集相比于原有的数据集有一些小小的改变，比如说移除了特征`'fnlwgt'` 以及一些遗失的或者是格式不正确的记录。"
   ]
  },
  {
   "cell_type": "markdown",
   "metadata": {},
   "source": [
    "----\n",
    "## 探索数据\n",
    "运行下面的代码单元以载入需要的Python库并导入人口普查数据。注意数据集的最后一列`'income'`将是我们需要预测的列（表示被调查者的年收入会大于或者是最多50,000美元），人口普查数据中的每一列都将是关于被调查者的特征。"
   ]
  },
  {
   "cell_type": "code",
   "execution_count": 1,
   "metadata": {},
   "outputs": [
    {
     "data": {
      "text/html": [
       "<div>\n",
       "<style>\n",
       "    .dataframe thead tr:only-child th {\n",
       "        text-align: right;\n",
       "    }\n",
       "\n",
       "    .dataframe thead th {\n",
       "        text-align: left;\n",
       "    }\n",
       "\n",
       "    .dataframe tbody tr th {\n",
       "        vertical-align: top;\n",
       "    }\n",
       "</style>\n",
       "<table border=\"1\" class=\"dataframe\">\n",
       "  <thead>\n",
       "    <tr style=\"text-align: right;\">\n",
       "      <th></th>\n",
       "      <th>age</th>\n",
       "      <th>workclass</th>\n",
       "      <th>education_level</th>\n",
       "      <th>education-num</th>\n",
       "      <th>marital-status</th>\n",
       "      <th>occupation</th>\n",
       "      <th>relationship</th>\n",
       "      <th>race</th>\n",
       "      <th>sex</th>\n",
       "      <th>capital-gain</th>\n",
       "      <th>capital-loss</th>\n",
       "      <th>hours-per-week</th>\n",
       "      <th>native-country</th>\n",
       "      <th>income</th>\n",
       "    </tr>\n",
       "  </thead>\n",
       "  <tbody>\n",
       "    <tr>\n",
       "      <th>0</th>\n",
       "      <td>39</td>\n",
       "      <td>State-gov</td>\n",
       "      <td>Bachelors</td>\n",
       "      <td>13.0</td>\n",
       "      <td>Never-married</td>\n",
       "      <td>Adm-clerical</td>\n",
       "      <td>Not-in-family</td>\n",
       "      <td>White</td>\n",
       "      <td>Male</td>\n",
       "      <td>2174.0</td>\n",
       "      <td>0.0</td>\n",
       "      <td>40.0</td>\n",
       "      <td>United-States</td>\n",
       "      <td>&lt;=50K</td>\n",
       "    </tr>\n",
       "  </tbody>\n",
       "</table>\n",
       "</div>"
      ],
      "text/plain": [
       "   age   workclass education_level  education-num  marital-status  \\\n",
       "0   39   State-gov       Bachelors           13.0   Never-married   \n",
       "\n",
       "      occupation    relationship    race    sex  capital-gain  capital-loss  \\\n",
       "0   Adm-clerical   Not-in-family   White   Male        2174.0           0.0   \n",
       "\n",
       "   hours-per-week  native-country income  \n",
       "0            40.0   United-States  <=50K  "
      ]
     },
     "metadata": {},
     "output_type": "display_data"
    }
   ],
   "source": [
    "# 为这个项目导入需要的库\n",
    "import numpy as np\n",
    "import pandas as pd\n",
    "from time import time\n",
    "from IPython.display import display # 允许为DataFrame使用display()\n",
    "\n",
    "# 导入附加的可视化代码visuals.py\n",
    "import visuals as vs\n",
    "\n",
    "# 为notebook提供更加漂亮的可视化\n",
    "%matplotlib inline\n",
    "\n",
    "# 导入人口普查数据\n",
    "data = pd.read_csv(\"census.csv\")\n",
    "\n",
    "# 成功 - 显示第一条记录\n",
    "display(data.head(n=1))"
   ]
  },
  {
   "cell_type": "markdown",
   "metadata": {},
   "source": [
    "### 练习：数据探索\n",
    "首先我们对数据集进行一个粗略的探索，我们将看看每一个类别里会有多少被调查者？并且告诉我们这些里面多大比例是年收入大于50,000美元的。在下面的代码单元中，你将需要计算以下量：\n",
    "\n",
    "- 总的记录数量，`'n_records'`\n",
    "- 年收入大于50,000美元的人数，`'n_greater_50k'`.\n",
    "- 年收入最多为50,000美元的人数 `'n_at_most_50k'`.\n",
    "- 年收入大于50,000美元的人所占的比例， `'greater_percent'`.\n",
    "\n",
    "**提示：** 您可能需要查看上面的生成的表，以了解`'income'`条目的格式是什么样的。 "
   ]
  },
  {
   "cell_type": "code",
   "execution_count": 2,
   "metadata": {},
   "outputs": [
    {
     "name": "stdout",
     "output_type": "stream",
     "text": [
      "Total number of records: 633108\n",
      "Individuals making more than $50,000: 156912\n",
      "Individuals making at most $50,000: 476196\n",
      "Percentage of individuals making more than $50,000: 0.25%\n"
     ]
    }
   ],
   "source": [
    "# TODO：总的记录数\n",
    "n_records = data.size\n",
    "\n",
    "# TODO：被调查者的收入大于$50,000的人数\n",
    "n_greater_50k = data[data['income'] == '>50K'].size\n",
    "\n",
    "# TODO：被调查者的收入最多为$50,000的人数\n",
    "n_at_most_50k = data[data['income'] == '<=50K'].size\n",
    "\n",
    "# TODO：被调查者收入大于$50,000所占的比例\n",
    "greater_percent = n_greater_50k * 1.0/n_records\n",
    "\n",
    "# 打印结果\n",
    "print \"Total number of records: {}\".format(n_records)\n",
    "print \"Individuals making more than $50,000: {}\".format(n_greater_50k)\n",
    "print \"Individuals making at most $50,000: {}\".format(n_at_most_50k)\n",
    "print \"Percentage of individuals making more than $50,000: {:.2f}%\".format(greater_percent)"
   ]
  },
  {
   "cell_type": "markdown",
   "metadata": {},
   "source": [
    "----\n",
    "## 准备数据\n",
    "在数据能够被作为输入提供给机器学习算法之前，它经常需要被清洗，格式化，和重新组织 - 这通常被叫做**预处理**。幸运的是，对于这个数据集，没有我们必须处理的无效或丢失的条目，然而，由于某一些特征存在的特性我们必须进行一定的调整。这个预处理都可以极大地帮助我们提升几乎所有的学习算法的结果和预测能力。"
   ]
  },
  {
   "cell_type": "markdown",
   "metadata": {},
   "source": [
    "### 转换倾斜的连续特征\n",
    "\n",
    "一个数据集有时可能包含至少一个靠近某个数字的特征，但有时也会有一些相对来说存在极大值或者极小值的不平凡分布的的特征。算法对这种分布的数据会十分敏感，并且如果这种数据没有能够很好地规一化处理会使得算法表现不佳。在人口普查数据集的两个特征符合这个描述：'`capital-gain'`和`'capital-loss'`。\n",
    "\n",
    "运行下面的代码单元以创建一个关于这两个特征的条形图。请注意当前的值的范围和它们是如何分布的。"
   ]
  },
  {
   "cell_type": "code",
   "execution_count": 3,
   "metadata": {},
   "outputs": [
    {
     "data": {
      "image/png": "[encoded data removed]",
      "text/plain": [
       "<matplotlib.figure.Figure at 0x7f6d7c090610>"
      ]
     },
     "metadata": {},
     "output_type": "display_data"
    }
   ],
   "source": [
    "# 将数据切分成特征和对应的标签\n",
    "income_raw = data['income']\n",
    "features_raw = data.drop('income', axis = 1)\n",
    "\n",
    "# 可视化原来数据的倾斜的连续特征\n",
    "vs.distribution(data)"
   ]
  },
  {
   "cell_type": "markdown",
   "metadata": {},
   "source": [
    "对于高度倾斜分布的特征如`'capital-gain'`和`'capital-loss'`，常见的做法是对数据施加一个<a href=\"https://en.wikipedia.org/wiki/Data_transformation_(statistics)\">对数转换</a>，将数据转换成对数，这样非常大和非常小的值不会对学习算法产生负面的影响。并且使用对数变换显著降低了由于异常值所造成的数据范围异常。但是在应用这个变换时必须小心：因为0的对数是没有定义的，所以我们必须先将数据处理成一个比0稍微大一点的数以成功完成对数转换。\n",
    "\n",
    "运行下面的代码单元来执行数据的转换和可视化结果。再次，注意值的范围和它们是如何分布的。"
   ]
  },
  {
   "cell_type": "code",
   "execution_count": 4,
   "metadata": {},
   "outputs": [
    {
     "data": {
      "image/png": "[encoded data removed]",
      "text/plain": [
       "<matplotlib.figure.Figure at 0x7f6d7c090290>"
      ]
     },
     "metadata": {},
     "output_type": "display_data"
    }
   ],
   "source": [
    "# 对于倾斜的数据使用Log转换\n",
    "skewed = ['capital-gain', 'capital-loss']\n",
    "features_raw[skewed] = data[skewed].apply(lambda x: np.log(x + 1))\n",
    "\n",
    "# 可视化经过log之后的数据分布\n",
    "vs.distribution(features_raw, transformed = True)"
   ]
  },
  {
   "cell_type": "markdown",
   "metadata": {},
   "source": [
    "### 规一化数字特征\n",
    "除了对于高度倾斜的特征施加转换，对数值特征施加一些形式的缩放通常会是一个好的习惯。在数据上面施加一个缩放并不会改变数据分布的形式（比如上面说的'capital-gain' or 'capital-loss'）；但是，规一化保证了每一个特征在使用监督学习器的时候能够被平等的对待。注意一旦使用了缩放，观察数据的原始形式不再具有它本来的意义了，就像下面的例子展示的。\n",
    "\n",
    "运行下面的代码单元来规一化每一个数字特征。我们将使用[`sklearn.preprocessing.MinMaxScaler`](http://scikit-learn.org/stable/modules/generated/sklearn.preprocessing.MinMaxScaler.html)来完成这个任务。"
   ]
  },
  {
   "cell_type": "code",
   "execution_count": 5,
   "metadata": {},
   "outputs": [
    {
     "data": {
      "text/html": [
       "<div>\n",
       "<style>\n",
       "    .dataframe thead tr:only-child th {\n",
       "        text-align: right;\n",
       "    }\n",
       "\n",
       "    .dataframe thead th {\n",
       "        text-align: left;\n",
       "    }\n",
       "\n",
       "    .dataframe tbody tr th {\n",
       "        vertical-align: top;\n",
       "    }\n",
       "</style>\n",
       "<table border=\"1\" class=\"dataframe\">\n",
       "  <thead>\n",
       "    <tr style=\"text-align: right;\">\n",
       "      <th></th>\n",
       "      <th>age</th>\n",
       "      <th>workclass</th>\n",
       "      <th>education_level</th>\n",
       "      <th>education-num</th>\n",
       "      <th>marital-status</th>\n",
       "      <th>occupation</th>\n",
       "      <th>relationship</th>\n",
       "      <th>race</th>\n",
       "      <th>sex</th>\n",
       "      <th>capital-gain</th>\n",
       "      <th>capital-loss</th>\n",
       "      <th>hours-per-week</th>\n",
       "      <th>native-country</th>\n",
       "    </tr>\n",
       "  </thead>\n",
       "  <tbody>\n",
       "    <tr>\n",
       "      <th>0</th>\n",
       "      <td>0.301370</td>\n",
       "      <td>State-gov</td>\n",
       "      <td>Bachelors</td>\n",
       "      <td>0.800000</td>\n",
       "      <td>Never-married</td>\n",
       "      <td>Adm-clerical</td>\n",
       "      <td>Not-in-family</td>\n",
       "      <td>White</td>\n",
       "      <td>Male</td>\n",
       "      <td>0.02174</td>\n",
       "      <td>0.0</td>\n",
       "      <td>0.397959</td>\n",
       "      <td>United-States</td>\n",
       "    </tr>\n",
       "    <tr>\n",
       "      <th>1</th>\n",
       "      <td>0.452055</td>\n",
       "      <td>Self-emp-not-inc</td>\n",
       "      <td>Bachelors</td>\n",
       "      <td>0.800000</td>\n",
       "      <td>Married-civ-spouse</td>\n",
       "      <td>Exec-managerial</td>\n",
       "      <td>Husband</td>\n",
       "      <td>White</td>\n",
       "      <td>Male</td>\n",
       "      <td>0.00000</td>\n",
       "      <td>0.0</td>\n",
       "      <td>0.122449</td>\n",
       "      <td>United-States</td>\n",
       "    </tr>\n",
       "    <tr>\n",
       "      <th>2</th>\n",
       "      <td>0.287671</td>\n",
       "      <td>Private</td>\n",
       "      <td>HS-grad</td>\n",
       "      <td>0.533333</td>\n",
       "      <td>Divorced</td>\n",
       "      <td>Handlers-cleaners</td>\n",
       "      <td>Not-in-family</td>\n",
       "      <td>White</td>\n",
       "      <td>Male</td>\n",
       "      <td>0.00000</td>\n",
       "      <td>0.0</td>\n",
       "      <td>0.397959</td>\n",
       "      <td>United-States</td>\n",
       "    </tr>\n",
       "    <tr>\n",
       "      <th>3</th>\n",
       "      <td>0.493151</td>\n",
       "      <td>Private</td>\n",
       "      <td>11th</td>\n",
       "      <td>0.400000</td>\n",
       "      <td>Married-civ-spouse</td>\n",
       "      <td>Handlers-cleaners</td>\n",
       "      <td>Husband</td>\n",
       "      <td>Black</td>\n",
       "      <td>Male</td>\n",
       "      <td>0.00000</td>\n",
       "      <td>0.0</td>\n",
       "      <td>0.397959</td>\n",
       "      <td>United-States</td>\n",
       "    </tr>\n",
       "    <tr>\n",
       "      <th>4</th>\n",
       "      <td>0.150685</td>\n",
       "      <td>Private</td>\n",
       "      <td>Bachelors</td>\n",
       "      <td>0.800000</td>\n",
       "      <td>Married-civ-spouse</td>\n",
       "      <td>Prof-specialty</td>\n",
       "      <td>Wife</td>\n",
       "      <td>Black</td>\n",
       "      <td>Female</td>\n",
       "      <td>0.00000</td>\n",
       "      <td>0.0</td>\n",
       "      <td>0.397959</td>\n",
       "      <td>Cuba</td>\n",
       "    </tr>\n",
       "  </tbody>\n",
       "</table>\n",
       "</div>"
      ],
      "text/plain": [
       "        age          workclass education_level  education-num  \\\n",
       "0  0.301370          State-gov       Bachelors       0.800000   \n",
       "1  0.452055   Self-emp-not-inc       Bachelors       0.800000   \n",
       "2  0.287671            Private         HS-grad       0.533333   \n",
       "3  0.493151            Private            11th       0.400000   \n",
       "4  0.150685            Private       Bachelors       0.800000   \n",
       "\n",
       "        marital-status          occupation    relationship    race      sex  \\\n",
       "0        Never-married        Adm-clerical   Not-in-family   White     Male   \n",
       "1   Married-civ-spouse     Exec-managerial         Husband   White     Male   \n",
       "2             Divorced   Handlers-cleaners   Not-in-family   White     Male   \n",
       "3   Married-civ-spouse   Handlers-cleaners         Husband   Black     Male   \n",
       "4   Married-civ-spouse      Prof-specialty            Wife   Black   Female   \n",
       "\n",
       "   capital-gain  capital-loss  hours-per-week  native-country  \n",
       "0       0.02174           0.0        0.397959   United-States  \n",
       "1       0.00000           0.0        0.122449   United-States  \n",
       "2       0.00000           0.0        0.397959   United-States  \n",
       "3       0.00000           0.0        0.397959   United-States  \n",
       "4       0.00000           0.0        0.397959            Cuba  "
      ]
     },
     "metadata": {},
     "output_type": "display_data"
    }
   ],
   "source": [
    "# 导入sklearn.preprocessing.StandardScaler\n",
    "from sklearn.preprocessing import MinMaxScaler\n",
    "\n",
    "# 初始化一个 scaler，并将它施加到特征上\n",
    "scaler = MinMaxScaler()\n",
    "numerical = ['age', 'education-num', 'capital-gain', 'capital-loss', 'hours-per-week']\n",
    "features_raw[numerical] = scaler.fit_transform(data[numerical])\n",
    "\n",
    "# 显示一个经过缩放的样例记录\n",
    "display(features_raw.head(5))"
   ]
  },
  {
   "cell_type": "markdown",
   "metadata": {},
   "source": [
    "### 练习：数据预处理\n",
    "\n",
    "从上面的**数据探索**中的表中，我们可以看到有几个属性的每一条记录都是非数字的。通常情况下，学习算法期望输入是数字的，这要求非数字的特征（称为类别变量）被转换。转换类别变量的一种流行的方法是使用**独热编码**方案。独热编码为每一个非数字特征的每一个可能的类别创建一个_“虚拟”_变量。例如，假设`someFeature`有三个可能的取值`A`，`B`或者`C`，。我们将把这个特征编码成`someFeature_A`, `someFeature_B`和`someFeature_C`.\n",
    "\n",
    "|   | 一些特征 |                    | 特征_A | 特征_B | 特征_C |\n",
    "| :-: | :-: |                            | :-: | :-: | :-: |\n",
    "| 0 |  B  |  | 0 | 1 | 0 |\n",
    "| 1 |  C  | ----> 独热编码 ----> | 0 | 0 | 1 |\n",
    "| 2 |  A  |  | 1 | 0 | 0 |\n",
    "\n",
    "此外，对于非数字的特征，我们需要将非数字的标签`'income'`转换成数值以保证学习算法能够正常工作。因为这个标签只有两种可能的类别（\"<=50K\"和\">50K\"），我们不必要使用独热编码，可以直接将他们编码分别成两个类`0`和`1`，在下面的代码单元中你将实现以下功能：\n",
    " - 使用[`pandas.get_dummies()`](http://pandas.pydata.org/pandas-docs/stable/generated/pandas.get_dummies.html?highlight=get_dummies#pandas.get_dummies)对`'features_raw'`数据来施加一个独热编码。\n",
    " - 将目标标签`'income_raw'`转换成数字项。\n",
    "   - 将\"<=50K\"转换成`0`；将\">50K\"转换成`1`。"
   ]
  },
  {
   "cell_type": "code",
   "execution_count": 6,
   "metadata": {
    "scrolled": false
   },
   "outputs": [
    {
     "name": "stdout",
     "output_type": "stream",
     "text": [
      "['age', 'education-num', 'capital-gain', 'capital-loss', 'hours-per-week', 'workclass_ Federal-gov', 'workclass_ Local-gov', 'workclass_ Private', 'workclass_ Self-emp-inc', 'workclass_ Self-emp-not-inc', 'workclass_ State-gov', 'workclass_ Without-pay', 'education_level_ 10th', 'education_level_ 11th', 'education_level_ 12th', 'education_level_ 1st-4th', 'education_level_ 5th-6th', 'education_level_ 7th-8th', 'education_level_ 9th', 'education_level_ Assoc-acdm', 'education_level_ Assoc-voc', 'education_level_ Bachelors', 'education_level_ Doctorate', 'education_level_ HS-grad', 'education_level_ Masters', 'education_level_ Preschool', 'education_level_ Prof-school', 'education_level_ Some-college', 'marital-status_ Divorced', 'marital-status_ Married-AF-spouse', 'marital-status_ Married-civ-spouse', 'marital-status_ Married-spouse-absent', 'marital-status_ Never-married', 'marital-status_ Separated', 'marital-status_ Widowed', 'occupation_ Adm-clerical', 'occupation_ Armed-Forces', 'occupation_ Craft-repair', 'occupation_ Exec-managerial', 'occupation_ Farming-fishing', 'occupation_ Handlers-cleaners', 'occupation_ Machine-op-inspct', 'occupation_ Other-service', 'occupation_ Priv-house-serv', 'occupation_ Prof-specialty', 'occupation_ Protective-serv', 'occupation_ Sales', 'occupation_ Tech-support', 'occupation_ Transport-moving', 'relationship_ Husband', 'relationship_ Not-in-family', 'relationship_ Other-relative', 'relationship_ Own-child', 'relationship_ Unmarried', 'relationship_ Wife', 'race_ Amer-Indian-Eskimo', 'race_ Asian-Pac-Islander', 'race_ Black', 'race_ Other', 'race_ White', 'sex_ Female', 'sex_ Male', 'native-country_ Cambodia', 'native-country_ Canada', 'native-country_ China', 'native-country_ Columbia', 'native-country_ Cuba', 'native-country_ Dominican-Republic', 'native-country_ Ecuador', 'native-country_ El-Salvador', 'native-country_ England', 'native-country_ France', 'native-country_ Germany', 'native-country_ Greece', 'native-country_ Guatemala', 'native-country_ Haiti', 'native-country_ Holand-Netherlands', 'native-country_ Honduras', 'native-country_ Hong', 'native-country_ Hungary', 'native-country_ India', 'native-country_ Iran', 'native-country_ Ireland', 'native-country_ Italy', 'native-country_ Jamaica', 'native-country_ Japan', 'native-country_ Laos', 'native-country_ Mexico', 'native-country_ Nicaragua', 'native-country_ Outlying-US(Guam-USVI-etc)', 'native-country_ Peru', 'native-country_ Philippines', 'native-country_ Poland', 'native-country_ Portugal', 'native-country_ Puerto-Rico', 'native-country_ Scotland', 'native-country_ South', 'native-country_ Taiwan', 'native-country_ Thailand', 'native-country_ Trinadad&Tobago', 'native-country_ United-States', 'native-country_ Vietnam', 'native-country_ Yugoslavia']\n"
     ]
    }
   ],
   "source": [
    "# TODO：使用pandas.get_dummies()对'features_raw'数据进行独热编码\n",
    "features = pd.get_dummies(features_raw)\n",
    "\n",
    "# TODO：将'income_raw'编码成数字值\n",
    "income = ((income_raw == '>50K') + 0).values\n",
    "\n",
    "# 打印经过独热编码之后的特征数量\n",
    "encoded = list(features.columns)\n",
    "#print \"{} total features after one-hot encoding.\".format(len(encoded))\n",
    "\n",
    "# 移除下面一行的注释以观察编码的特征名字\n",
    "print encoded"
   ]
  },
  {
   "cell_type": "markdown",
   "metadata": {},
   "source": [
    "### 混洗和切分数据\n",
    "现在所有的 _类别变量_ 已被转换成数值特征，而且所有的数值特征已被规一化。和我们一般情况下做的一样，我们现在将数据（包括特征和它们的标签）切分成训练和测试集。其中80%的数据将用于训练和20%的数据用于测试。\n",
    "\n",
    "运行下面的代码单元来完成切分。"
   ]
  },
  {
   "cell_type": "code",
   "execution_count": 7,
   "metadata": {},
   "outputs": [
    {
     "name": "stdout",
     "output_type": "stream",
     "text": [
      "Training set has 36177 samples.\n",
      "Testing set has 9045 samples.\n"
     ]
    }
   ],
   "source": [
    "# 导入 train_test_split\n",
    "from sklearn.model_selection import train_test_split\n",
    "\n",
    "# 将'features'和'income'数据切分成训练集和测试集\n",
    "X_train, X_test, y_train, y_test = train_test_split(features, income, test_size = 0.2, random_state = 0)\n",
    "\n",
    "# 显示切分的结果\n",
    "print \"Training set has {} samples.\".format(X_train.shape[0])\n",
    "print \"Testing set has {} samples.\".format(X_test.shape[0])"
   ]
  },
  {
   "cell_type": "markdown",
   "metadata": {},
   "source": [
    "----\n",
    "## 评价模型性能\n",
    "在这一部分中，我们将尝试四种不同的算法，并确定哪一个能够最好地建模数据。这里面的三个将是你选择的监督学习器，而第四种算法被称为一个*朴素的预测器*。\n"
   ]
  },
  {
   "cell_type": "markdown",
   "metadata": {},
   "source": [
    "### 评价方法和朴素的预测器\n",
    "*CharityML*通过他们的研究人员知道被调查者的年收入大于\\$50,000最有可能向他们捐款。因为这个原因*CharityML*对于准确预测谁能够获得\\$50,000以上收入尤其有兴趣。这样看起来使用**准确率**作为评价模型的标准是合适的。另外，把*没有*收入大于\\$50,000的人识别成年收入大于\\$50,000对于*CharityML*来说是有害的，因为他想要找到的是有意愿捐款的用户。这样，我们期望的模型具有准确预测那些能够年收入大于\\$50,000的能力比模型去**召回**这些被调查者*更重要*。我们能够使用**F-beta score**作为评价指标，这样能够同时考虑准确率和召回率：\n",
    "\n",
    "$$ F_{\\beta} = (1 + \\beta^2) \\cdot \\frac{precision \\cdot recall}{\\left( \\beta^2 \\cdot precision \\right) + recall} $$\n",
    "\n",
    "\n",
    "尤其是，当$\\beta = 0.5$的时候更多的强调准确率，这叫做**F$_{0.5}$ score** （或者为了简单叫做F-score）。\n",
    "\n",
    "通过查看不同类别的数据分布（那些最多赚\\$50,000和那些能够赚更多的），我们能发现：很明显的是很多的被调查者年收入没有超过\\$50,000。这点会显著地影响**准确率**，因为我们可以简单地预测说*“这个人的收入没有超过\\$50,000”*，这样我们甚至不用看数据就能做到我们的预测在一般情况下是正确的！做这样一个预测被称作是**朴素的**，因为我们没有任何信息去证实这种说法。通常考虑对你的数据使用一个*朴素的预测器*是十分重要的，这样能够帮助我们建立一个模型的表现是否好的基准。那有人说，使用这样一个预测是没有意义的：如果我们预测所有人的收入都低于\\$50,000，那么*CharityML*就不会有人捐款了。"
   ]
  },
  {
   "cell_type": "markdown",
   "metadata": {},
   "source": [
    "### 问题 1 - 朴素预测器的性能\n",
    "*如果我们选择一个无论什么情况都预测被调查者年收入大于\\$50,000的模型，那么这个模型在这个数据集上的准确率和F-score是多少？*  \n",
    "**注意：** 你必须使用下面的代码单元将你的计算结果赋值给`'accuracy'` 和 `'fscore'`，这些值会在后面被使用，请注意这里不能使用scikit-learn，你需要根据公式自己实现相关计算。"
   ]
  },
  {
   "cell_type": "code",
   "execution_count": 8,
   "metadata": {},
   "outputs": [
    {
     "name": "stdout",
     "output_type": "stream",
     "text": [
      "Naive Predictor: [Accuracy score: 0.2489, F-score: 0.2929]\n"
     ]
    }
   ],
   "source": [
    "def h1(X_train):\n",
    "    \"\"\"无论什么情况都返回年收入大于50K的模型，大于50K用1表示\"\"\"\n",
    "    return [1 for x in X_train.iterrows()]\n",
    "\n",
    "def count_data(Y_pred, Y_train):\n",
    "    \"\"\"计算精确度和召回率，不使用scikit-learn，不依赖pandas\"\"\"\n",
    "    true_positive, false_positive, true_negative, false_negative  = 0, 0, 0, 0\n",
    "    for i,_ in enumerate(Y_pred):\n",
    "        if(Y_pred[i] == Y_train[i]):\n",
    "            if Y_pred[i] == 1:\n",
    "                true_positive += 1\n",
    "            else:\n",
    "                true_negative += 1\n",
    "        else:\n",
    "            if Y_pred[i] == 1:\n",
    "                false_positive += 1\n",
    "            else:\n",
    "                false_negative += 1\n",
    "            \n",
    "    \n",
    "    return true_positive, false_positive, true_negative, false_negative\n",
    "\n",
    "def calc_fscore(beta, tp, fp, tn, fn):\n",
    "    precision = tp * 1.0/(tp + fp)\n",
    "    recall = tp * 1.0/(tp + fn)\n",
    "    return (1 + beta ** 2) * precision * recall /(beta ** 2 * precision + recall)\n",
    "\n",
    "Y_pred = h1(X_train)\n",
    "tp, fp, tn, fn = count_data(Y_pred, y_train)\n",
    "\n",
    "# TODO： 计算准确率\n",
    "accuracy = (tp + tn)*1.0/len(Y_pred)\n",
    "\n",
    "# TODO： 使用上面的公式，并设置beta=0.5计算F-score\n",
    "fscore = calc_fscore(0.5, tp, fp, tn, fn)\n",
    "\n",
    "# 打印结果\n",
    "print \"Naive Predictor: [Accuracy score: {:.4f}, F-score: {:.4f}]\".format(accuracy, fscore)"
   ]
  },
  {
   "cell_type": "markdown",
   "metadata": {},
   "source": [
    "### 监督学习模型\n",
    "**下面的监督学习模型是现在在** [`scikit-learn`](http://scikit-learn.org/stable/supervised_learning.html) **中你能够选择的模型**\n",
    "- 高斯朴素贝叶斯 (GaussianNB)\n",
    "- 决策树\n",
    "- 集成方法 (Bagging, AdaBoost, Random Forest, Gradient Boosting)\n",
    "- K近邻 (KNeighbors)\n",
    "- 随机梯度下降分类器 (SGDC)\n",
    "- 支撑向量机 (SVM)\n",
    "- Logistic回归\n"
   ]
  },
  {
   "cell_type": "markdown",
   "metadata": {},
   "source": [
    "### 问题 2 - 模型应用\n",
    "\n",
    "列出从上面的监督学习模型中选择的三个适合我们这个问题的模型，你将在人口普查数据上测试这每个算法。对于你选择的每一个算法：\n",
    "\n",
    "- *描述一个该模型在真实世界的一个应用场景。（你需要为此做点研究，并给出你的引用出处）*\n",
    "- *这个模型的优势是什么？他什么情况下表现最好？*\n",
    "- *这个模型的缺点是什么？什么条件下它表现很差？*\n",
    "- *根据我们当前数据集的特点，为什么这个模型适合这个问题。*"
   ]
  },
  {
   "cell_type": "code",
   "execution_count": 9,
   "metadata": {
    "scrolled": true
   },
   "outputs": [
    {
     "name": "stdout",
     "output_type": "stream",
     "text": [
      "shape:(36177, 103)\n",
      "feature size:103\n",
      "non-numerical feature size:98\n"
     ]
    }
   ],
   "source": [
    "print \"shape:{}\".format(X_train.shape)\n",
    "print \"feature size:{}\".format(X_train.columns.size)\n",
    "non_numerical_columns = list(X_train.columns.drop(numerical))\n",
    "print \"non-numerical feature size:{}\".format(len(non_numerical_columns))"
   ]
  },
  {
   "cell_type": "markdown",
   "metadata": {},
   "source": [
    "### 数据可视化"
   ]
  },
  {
   "cell_type": "code",
   "execution_count": 10,
   "metadata": {},
   "outputs": [
    {
     "name": "stdout",
     "output_type": "stream",
     "text": [
      "361\n"
     ]
    }
   ],
   "source": [
    "show_size=int(X_train.shape[0] * 0.01)\n",
    "x_sample = X_train[:show_size]\n",
    "y_sample = y_train[:show_size]\n",
    "\n",
    "print show_size"
   ]
  },
  {
   "cell_type": "markdown",
   "metadata": {},
   "source": [
    "#### 2D形式展现数据"
   ]
  },
  {
   "cell_type": "code",
   "execution_count": 11,
   "metadata": {
    "scrolled": true
   },
   "outputs": [
    {
     "name": "stdout",
     "output_type": "stream",
     "text": [
      "(361, 2)\n"
     ]
    }
   ],
   "source": [
    "from sklearn.manifold import TSNE\n",
    "\n",
    "tsne = TSNE(n_components=2, init='pca', random_state=0)\n",
    "X_tsne = tsne.fit_transform(x_sample)\n",
    "\n",
    "print X_tsne.shape"
   ]
  },
  {
   "cell_type": "code",
   "execution_count": 12,
   "metadata": {},
   "outputs": [
    {
     "data": {
      "text/html": [
       "\n",
       "    <div class=\"bk-root\">\n",
       "        <a href=\"http://bokeh.pydata.org\" target=\"_blank\" class=\"bk-logo bk-logo-small bk-logo-notebook\"></a>\n",
       "        <span id=\"252d94e1-d685-4fcc-a14c-504c68c9561a\">Loading BokehJS ...</span>\n",
       "    </div>"
      ]
     },
     "metadata": {},
     "output_type": "display_data"
    },
    {
     "data": {
      "application/javascript": [
       "\n",
       "(function(global) {\n",
       "  function now() {\n",
       "    return new Date();\n",
       "  }\n",
       "\n",
       "  var force = true;\n",
       "\n",
       "  if (typeof (window._bokeh_onload_callbacks) === \"undefined\" || force === true) {\n",
       "    window._bokeh_onload_callbacks = [];\n",
       "    window._bokeh_is_loading = undefined;\n",
       "  }\n",
       "\n",
       "\n",
       "  \n",
       "  if (typeof (window._bokeh_timeout) === \"undefined\" || force === true) {\n",
       "    window._bokeh_timeout = Date.now() + 5000;\n",
       "    window._bokeh_failed_load = false;\n",
       "  }\n",
       "\n",
       "  var NB_LOAD_WARNING = {'data': {'text/html':\n",
       "     \"<div style='background-color: #fdd'>\\n\"+\n",
       "     \"<p>\\n\"+\n",
       "     \"BokehJS does not appear to have successfully loaded. If loading BokehJS from CDN, this \\n\"+\n",
       "     \"may be due to a slow or bad network connection. Possible fixes:\\n\"+\n",
       "     \"</p>\\n\"+\n",
       "     \"<ul>\\n\"+\n",
       "     \"<li>re-rerun `output_notebook()` to attempt to load from CDN again, or</li>\\n\"+\n",
       "     \"<li>use INLINE resources instead, as so:</li>\\n\"+\n",
       "     \"</ul>\\n\"+\n",
       "     \"<code>\\n\"+\n",
       "     \"from bokeh.resources import INLINE\\n\"+\n",
       "     \"output_notebook(resources=INLINE)\\n\"+\n",
       "     \"</code>\\n\"+\n",
       "     \"</div>\"}};\n",
       "\n",
       "  function display_loaded() {\n",
       "    if (window.Bokeh !== undefined) {\n",
       "      var el = document.getElementById(\"252d94e1-d685-4fcc-a14c-504c68c9561a\");\n",
       "      el.textContent = \"BokehJS \" + Bokeh.version + \" successfully loaded.\";\n",
       "    } else if (Date.now() < window._bokeh_timeout) {\n",
       "      setTimeout(display_loaded, 100)\n",
       "    }\n",
       "  }\n",
       "\n",
       "  function run_callbacks() {\n",
       "    try {\n",
       "      window._bokeh_onload_callbacks.forEach(function(callback) { callback() });\n",
       "    }\n",
       "    finally {\n",
       "      delete window._bokeh_onload_callbacks\n",
       "    }\n",
       "    console.info(\"Bokeh: all callbacks have finished\");\n",
       "  }\n",
       "\n",
       "  function load_libs(js_urls, callback) {\n",
       "    window._bokeh_onload_callbacks.push(callback);\n",
       "    if (window._bokeh_is_loading > 0) {\n",
       "      console.log(\"Bokeh: BokehJS is being loaded, scheduling callback at\", now());\n",
       "      return null;\n",
       "    }\n",
       "    if (js_urls == null || js_urls.length === 0) {\n",
       "      run_callbacks();\n",
       "      return null;\n",
       "    }\n",
       "    console.log(\"Bokeh: BokehJS not loaded, scheduling load and callback at\", now());\n",
       "    window._bokeh_is_loading = js_urls.length;\n",
       "    for (var i = 0; i < js_urls.length; i++) {\n",
       "      var url = js_urls[i];\n",
       "      var s = document.createElement('script');\n",
       "      s.src = url;\n",
       "      s.async = false;\n",
       "      s.onreadystatechange = s.onload = function() {\n",
       "        window._bokeh_is_loading--;\n",
       "        if (window._bokeh_is_loading === 0) {\n",
       "          console.log(\"Bokeh: all BokehJS libraries loaded\");\n",
       "          run_callbacks()\n",
       "        }\n",
       "      };\n",
       "      s.onerror = function() {\n",
       "        console.warn(\"failed to load library \" + url);\n",
       "      };\n",
       "      console.log(\"Bokeh: injecting script tag for BokehJS library: \", url);\n",
       "      document.getElementsByTagName(\"head\")[0].appendChild(s);\n",
       "    }\n",
       "  };var element = document.getElementById(\"252d94e1-d685-4fcc-a14c-504c68c9561a\");\n",
       "  if (element == null) {\n",
       "    console.log(\"Bokeh: ERROR: autoload.js configured with elementid '252d94e1-d685-4fcc-a14c-504c68c9561a' but no matching script tag was found. \")\n",
       "    return false;\n",
       "  }\n",
       "\n",
       "  var js_urls = [\"https://cdn.pydata.org/bokeh/release/bokeh-0.12.6.min.js\", \"https://cdn.pydata.org/bokeh/release/bokeh-widgets-0.12.6.min.js\"];\n",
       "\n",
       "  var inline_js = [\n",
       "    function(Bokeh) {\n",
       "      Bokeh.set_log_level(\"info\");\n",
       "    },\n",
       "    \n",
       "    function(Bokeh) {\n",
       "      \n",
       "    },\n",
       "    \n",
       "    function(Bokeh) {\n",
       "      \n",
       "      document.getElementById(\"252d94e1-d685-4fcc-a14c-504c68c9561a\").textContent = \"BokehJS is loading...\";\n",
       "    },\n",
       "    function(Bokeh) {\n",
       "      console.log(\"Bokeh: injecting CSS: https://cdn.pydata.org/bokeh/release/bokeh-0.12.6.min.css\");\n",
       "      Bokeh.embed.inject_css(\"https://cdn.pydata.org/bokeh/release/bokeh-0.12.6.min.css\");\n",
       "      console.log(\"Bokeh: injecting CSS: https://cdn.pydata.org/bokeh/release/bokeh-widgets-0.12.6.min.css\");\n",
       "      Bokeh.embed.inject_css(\"https://cdn.pydata.org/bokeh/release/bokeh-widgets-0.12.6.min.css\");\n",
       "    }\n",
       "  ];\n",
       "\n",
       "  function run_inline_js() {\n",
       "    \n",
       "    if ((window.Bokeh !== undefined) || (force === true)) {\n",
       "      for (var i = 0; i < inline_js.length; i++) {\n",
       "        inline_js[i](window.Bokeh);\n",
       "      }if (force === true) {\n",
       "        display_loaded();\n",
       "      }} else if (Date.now() < window._bokeh_timeout) {\n",
       "      setTimeout(run_inline_js, 100);\n",
       "    } else if (!window._bokeh_failed_load) {\n",
       "      console.log(\"Bokeh: BokehJS failed to load within specified timeout.\");\n",
       "      window._bokeh_failed_load = true;\n",
       "    } else if (force !== true) {\n",
       "      var cell = $(document.getElementById(\"252d94e1-d685-4fcc-a14c-504c68c9561a\")).parents('.cell').data().cell;\n",
       "      cell.output_area.append_execute_result(NB_LOAD_WARNING)\n",
       "    }\n",
       "\n",
       "  }\n",
       "\n",
       "  if (window._bokeh_is_loading === 0) {\n",
       "    console.log(\"Bokeh: BokehJS loaded, going straight to plotting\");\n",
       "    run_inline_js();\n",
       "  } else {\n",
       "    load_libs(js_urls, function() {\n",
       "      console.log(\"Bokeh: BokehJS plotting callback run at\", now());\n",
       "      run_inline_js();\n",
       "    });\n",
       "  }\n",
       "}(this));"
      ]
     },
     "metadata": {},
     "output_type": "display_data"
    }
   ],
   "source": [
    "from bokeh.io import output_notebook, show\n",
    "output_notebook()"
   ]
  },
  {
   "cell_type": "code",
   "execution_count": 13,
   "metadata": {
    "scrolled": false
   },
   "outputs": [
    {
     "data": {
      "text/html": [
       "\n",
       "\n",
       "    <div class=\"bk-root\">\n",
       "        <div class=\"bk-plotdiv\" id=\"c419c931-e2c9-406b-a7d6-0870f758a962\"></div>\n",
       "    </div>\n",
       "<script type=\"text/javascript\">\n",
       "  \n",
       "  (function(global) {\n",
       "    function now() {\n",
       "      return new Date();\n",
       "    }\n",
       "  \n",
       "    var force = false;\n",
       "  \n",
       "    if (typeof (window._bokeh_onload_callbacks) === \"undefined\" || force === true) {\n",
       "      window._bokeh_onload_callbacks = [];\n",
       "      window._bokeh_is_loading = undefined;\n",
       "    }\n",
       "  \n",
       "  \n",
       "    \n",
       "    if (typeof (window._bokeh_timeout) === \"undefined\" || force === true) {\n",
       "      window._bokeh_timeout = Date.now() + 0;\n",
       "      window._bokeh_failed_load = false;\n",
       "    }\n",
       "  \n",
       "    var NB_LOAD_WARNING = {'data': {'text/html':\n",
       "       \"<div style='background-color: #fdd'>\\n\"+\n",
       "       \"<p>\\n\"+\n",
       "       \"BokehJS does not appear to have successfully loaded. If loading BokehJS from CDN, this \\n\"+\n",
       "       \"may be due to a slow or bad network connection. Possible fixes:\\n\"+\n",
       "       \"</p>\\n\"+\n",
       "       \"<ul>\\n\"+\n",
       "       \"<li>re-rerun `output_notebook()` to attempt to load from CDN again, or</li>\\n\"+\n",
       "       \"<li>use INLINE resources instead, as so:</li>\\n\"+\n",
       "       \"</ul>\\n\"+\n",
       "       \"<code>\\n\"+\n",
       "       \"from bokeh.resources import INLINE\\n\"+\n",
       "       \"output_notebook(resources=INLINE)\\n\"+\n",
       "       \"</code>\\n\"+\n",
       "       \"</div>\"}};\n",
       "  \n",
       "    function display_loaded() {\n",
       "      if (window.Bokeh !== undefined) {\n",
       "        var el = document.getElementById(\"c419c931-e2c9-406b-a7d6-0870f758a962\");\n",
       "        el.textContent = \"BokehJS \" + Bokeh.version + \" successfully loaded.\";\n",
       "      } else if (Date.now() < window._bokeh_timeout) {\n",
       "        setTimeout(display_loaded, 100)\n",
       "      }\n",
       "    }\n",
       "  \n",
       "    function run_callbacks() {\n",
       "      try {\n",
       "        window._bokeh_onload_callbacks.forEach(function(callback) { callback() });\n",
       "      }\n",
       "      finally {\n",
       "        delete window._bokeh_onload_callbacks\n",
       "      }\n",
       "      console.info(\"Bokeh: all callbacks have finished\");\n",
       "    }\n",
       "  \n",
       "    function load_libs(js_urls, callback) {\n",
       "      window._bokeh_onload_callbacks.push(callback);\n",
       "      if (window._bokeh_is_loading > 0) {\n",
       "        console.log(\"Bokeh: BokehJS is being loaded, scheduling callback at\", now());\n",
       "        return null;\n",
       "      }\n",
       "      if (js_urls == null || js_urls.length === 0) {\n",
       "        run_callbacks();\n",
       "        return null;\n",
       "      }\n",
       "      console.log(\"Bokeh: BokehJS not loaded, scheduling load and callback at\", now());\n",
       "      window._bokeh_is_loading = js_urls.length;\n",
       "      for (var i = 0; i < js_urls.length; i++) {\n",
       "        var url = js_urls[i];\n",
       "        var s = document.createElement('script');\n",
       "        s.src = url;\n",
       "        s.async = false;\n",
       "        s.onreadystatechange = s.onload = function() {\n",
       "          window._bokeh_is_loading--;\n",
       "          if (window._bokeh_is_loading === 0) {\n",
       "            console.log(\"Bokeh: all BokehJS libraries loaded\");\n",
       "            run_callbacks()\n",
       "          }\n",
       "        };\n",
       "        s.onerror = function() {\n",
       "          console.warn(\"failed to load library \" + url);\n",
       "        };\n",
       "        console.log(\"Bokeh: injecting script tag for BokehJS library: \", url);\n",
       "        document.getElementsByTagName(\"head\")[0].appendChild(s);\n",
       "      }\n",
       "    };var element = document.getElementById(\"c419c931-e2c9-406b-a7d6-0870f758a962\");\n",
       "    if (element == null) {\n",
       "      console.log(\"Bokeh: ERROR: autoload.js configured with elementid 'c419c931-e2c9-406b-a7d6-0870f758a962' but no matching script tag was found. \")\n",
       "      return false;\n",
       "    }\n",
       "  \n",
       "    var js_urls = [];\n",
       "  \n",
       "    var inline_js = [\n",
       "      function(Bokeh) {\n",
       "        (function() {\n",
       "          var fn = function() {\n",
       "            var docs_json = {\"496368a5-e343-4012-94bb-68d2271576ec\":{\"roots\":{\"references\":[{\"attributes\":{\"overlay\":{\"id\":\"05ecb4b6-3fa4-4440-af45-76ae9990aaab\",\"type\":\"BoxAnnotation\"},\"plot\":{\"id\":\"585bfb42-fee2-4dfe-bb04-ec49c2b8c45f\",\"subtype\":\"Chart\",\"type\":\"Plot\"}},\"id\":\"5236bb68-2151-47ab-b490-50f33c8fa275\",\"type\":\"BoxZoomTool\"},{\"attributes\":{},\"id\":\"d21bb386-287a-45bc-89b4-68331ad85aaa\",\"type\":\"BasicTickFormatter\"},{\"attributes\":{\"items\":[{\"id\":\"e9b3d1ef-c7d2-4b8e-9ebe-7748dc4de4d0\",\"type\":\"LegendItem\"},{\"id\":\"fb0b8829-f777-49da-9ece-52cf7c3cd44b\",\"type\":\"LegendItem\"}],\"location\":\"top_left\",\"plot\":{\"id\":\"585bfb42-fee2-4dfe-bb04-ec49c2b8c45f\",\"subtype\":\"Chart\",\"type\":\"Plot\"}},\"id\":\"f0cac252-0b57-495a-b2a0-bd4d3bf696bf\",\"type\":\"Legend\"},{\"attributes\":{\"callback\":null,\"end\":72.4781877532001,\"start\":-97.56148496699588},\"id\":\"c4da734e-d6ef-4349-89f1-0b6da7cb751d\",\"type\":\"Range1d\"},{\"attributes\":{\"fill_alpha\":{\"value\":0.7},\"fill_color\":{\"value\":\"#f22c40\"},\"line_color\":{\"value\":\"#f22c40\"},\"size\":{\"units\":\"screen\",\"value\":8},\"x\":{\"field\":\"x_values\"},\"y\":{\"field\":\"y_values\"}},\"id\":\"1dad3bc1-17c3-4e50-92cb-c2bd2f576e31\",\"type\":\"Circle\"},{\"attributes\":{\"label\":{\"value\":\"0\"},\"renderers\":[{\"id\":\"0d40d4e1-8d98-4123-943b-cac1b8b700c5\",\"type\":\"GlyphRenderer\"}]},\"id\":\"e9b3d1ef-c7d2-4b8e-9ebe-7748dc4de4d0\",\"type\":\"LegendItem\"},{\"attributes\":{},\"id\":\"34d20cdf-241e-4fac-a711-c711205083be\",\"type\":\"LinearScale\"},{\"attributes\":{\"bottom_units\":\"screen\",\"fill_alpha\":{\"value\":0.5},\"fill_color\":{\"value\":\"lightgrey\"},\"left_units\":\"screen\",\"level\":\"overlay\",\"line_alpha\":{\"value\":1.0},\"line_color\":{\"value\":\"black\"},\"line_dash\":[4,4],\"line_width\":{\"value\":2},\"plot\":null,\"render_mode\":\"css\",\"right_units\":\"screen\",\"top_units\":\"screen\"},\"id\":\"05ecb4b6-3fa4-4440-af45-76ae9990aaab\",\"type\":\"BoxAnnotation\"},{\"attributes\":{},\"id\":\"e8624b3a-337b-477d-804a-1964ec3cb91d\",\"type\":\"BasicTicker\"},{\"attributes\":{\"plot\":{\"id\":\"585bfb42-fee2-4dfe-bb04-ec49c2b8c45f\",\"subtype\":\"Chart\",\"type\":\"Plot\"},\"ticker\":{\"id\":\"e8624b3a-337b-477d-804a-1964ec3cb91d\",\"type\":\"BasicTicker\"}},\"id\":\"167b2f58-6c05-4af4-a09a-8404a4322117\",\"type\":\"Grid\"},{\"attributes\":{\"axis_label\":\"x\",\"formatter\":{\"id\":\"d21bb386-287a-45bc-89b4-68331ad85aaa\",\"type\":\"BasicTickFormatter\"},\"plot\":{\"id\":\"585bfb42-fee2-4dfe-bb04-ec49c2b8c45f\",\"subtype\":\"Chart\",\"type\":\"Plot\"},\"ticker\":{\"id\":\"e8624b3a-337b-477d-804a-1964ec3cb91d\",\"type\":\"BasicTicker\"}},\"id\":\"32a085ee-ad7d-4d0b-90a9-55810d61bc88\",\"type\":\"LinearAxis\"},{\"attributes\":{\"plot\":{\"id\":\"585bfb42-fee2-4dfe-bb04-ec49c2b8c45f\",\"subtype\":\"Chart\",\"type\":\"Plot\"}},\"id\":\"9b3b0520-2c3f-4df4-9fa7-4dadece32ed5\",\"type\":\"SaveTool\"},{\"attributes\":{\"plot\":{\"id\":\"585bfb42-fee2-4dfe-bb04-ec49c2b8c45f\",\"subtype\":\"Chart\",\"type\":\"Plot\"}},\"id\":\"2da71fd8-7d3d-43d8-879d-6f2aa50a58a1\",\"type\":\"HelpTool\"},{\"attributes\":{\"fill_alpha\":{\"value\":0.7},\"fill_color\":{\"value\":\"#5ab738\"},\"line_color\":{\"value\":\"#5ab738\"},\"size\":{\"units\":\"screen\",\"value\":8},\"x\":{\"field\":\"x_values\"},\"y\":{\"field\":\"y_values\"}},\"id\":\"4f1b13c3-8323-43d9-a166-a7f9d1fb2821\",\"type\":\"Circle\"},{\"attributes\":{\"plot\":{\"id\":\"585bfb42-fee2-4dfe-bb04-ec49c2b8c45f\",\"subtype\":\"Chart\",\"type\":\"Plot\"}},\"id\":\"4167db57-19e0-4a85-8e60-c3484837f9e0\",\"type\":\"ResetTool\"},{\"attributes\":{},\"id\":\"c26b88ce-518c-4a11-8fd4-50dd5994251b\",\"type\":\"ToolEvents\"},{\"attributes\":{\"callback\":null,\"end\":64.07932582151679,\"start\":-64.10175929965034},\"id\":\"e3472d55-081d-4049-a581-a959464852ea\",\"type\":\"Range1d\"},{\"attributes\":{\"plot\":null,\"text\":null},\"id\":\"69edc035-2960-4178-8cdf-da204a06df86\",\"type\":\"Title\"},{\"attributes\":{},\"id\":\"4572a8fa-3639-4a93-925f-532106244a52\",\"type\":\"LinearScale\"},{\"attributes\":{},\"id\":\"999a77bc-15a7-4338-9f33-43b18de777b3\",\"type\":\"BasicTickFormatter\"},{\"attributes\":{\"label\":{\"value\":\"1\"},\"renderers\":[{\"id\":\"a46dfa52-f04d-4180-a297-4977ab4e92be\",\"type\":\"GlyphRenderer\"}]},\"id\":\"fb0b8829-f777-49da-9ece-52cf7c3cd44b\",\"type\":\"LegendItem\"},{\"attributes\":{},\"id\":\"d97e86d1-dad6-457b-87a0-5d4b401c8431\",\"type\":\"BasicTicker\"},{\"attributes\":{\"data_source\":{\"id\":\"cc3c56a8-cc07-4edc-a42d-895c5132a62c\",\"type\":\"ColumnDataSource\"},\"glyph\":{\"id\":\"1dad3bc1-17c3-4e50-92cb-c2bd2f576e31\",\"type\":\"Circle\"},\"hover_glyph\":null,\"muted_glyph\":null},\"id\":\"0d40d4e1-8d98-4123-943b-cac1b8b700c5\",\"type\":\"GlyphRenderer\"},{\"attributes\":{\"data_source\":{\"id\":\"c4bd67b4-0061-4ce3-80a5-61fda939939c\",\"type\":\"ColumnDataSource\"},\"glyph\":{\"id\":\"4f1b13c3-8323-43d9-a166-a7f9d1fb2821\",\"type\":\"Circle\"},\"hover_glyph\":null,\"muted_glyph\":null},\"id\":\"a46dfa52-f04d-4180-a297-4977ab4e92be\",\"type\":\"GlyphRenderer\"},{\"attributes\":{\"below\":[{\"id\":\"32a085ee-ad7d-4d0b-90a9-55810d61bc88\",\"type\":\"LinearAxis\"}],\"css_classes\":null,\"left\":[{\"id\":\"6cdba190-fa0d-4f5f-8714-eeb632198c09\",\"type\":\"LinearAxis\"}],\"renderers\":[{\"id\":\"05ecb4b6-3fa4-4440-af45-76ae9990aaab\",\"type\":\"BoxAnnotation\"},{\"id\":\"0d40d4e1-8d98-4123-943b-cac1b8b700c5\",\"type\":\"GlyphRenderer\"},{\"id\":\"a46dfa52-f04d-4180-a297-4977ab4e92be\",\"type\":\"GlyphRenderer\"},{\"id\":\"f0cac252-0b57-495a-b2a0-bd4d3bf696bf\",\"type\":\"Legend\"},{\"id\":\"32a085ee-ad7d-4d0b-90a9-55810d61bc88\",\"type\":\"LinearAxis\"},{\"id\":\"6cdba190-fa0d-4f5f-8714-eeb632198c09\",\"type\":\"LinearAxis\"},{\"id\":\"167b2f58-6c05-4af4-a09a-8404a4322117\",\"type\":\"Grid\"},{\"id\":\"f06fea1d-7307-4a7d-be19-a0b95c0f8637\",\"type\":\"Grid\"}],\"title\":{\"id\":\"69edc035-2960-4178-8cdf-da204a06df86\",\"type\":\"Title\"},\"tool_events\":{\"id\":\"c26b88ce-518c-4a11-8fd4-50dd5994251b\",\"type\":\"ToolEvents\"},\"toolbar\":{\"id\":\"b0a3a9c2-a3ab-4bfa-a867-c4dd5684a013\",\"type\":\"Toolbar\"},\"x_range\":{\"id\":\"c4da734e-d6ef-4349-89f1-0b6da7cb751d\",\"type\":\"Range1d\"},\"x_scale\":{\"id\":\"4572a8fa-3639-4a93-925f-532106244a52\",\"type\":\"LinearScale\"},\"y_range\":{\"id\":\"e3472d55-081d-4049-a581-a959464852ea\",\"type\":\"Range1d\"},\"y_scale\":{\"id\":\"34d20cdf-241e-4fac-a711-c711205083be\",\"type\":\"LinearScale\"}},\"id\":\"585bfb42-fee2-4dfe-bb04-ec49c2b8c45f\",\"subtype\":\"Chart\",\"type\":\"Plot\"},{\"attributes\":{\"active_drag\":\"auto\",\"active_inspect\":\"auto\",\"active_scroll\":\"auto\",\"active_tap\":\"auto\",\"tools\":[{\"id\":\"12078de3-ebb8-4c99-ab8f-c97b7a2fb269\",\"type\":\"PanTool\"},{\"id\":\"e9b4ee2b-6baa-4277-bf6c-a8f8e5289880\",\"type\":\"WheelZoomTool\"},{\"id\":\"5236bb68-2151-47ab-b490-50f33c8fa275\",\"type\":\"BoxZoomTool\"},{\"id\":\"9b3b0520-2c3f-4df4-9fa7-4dadece32ed5\",\"type\":\"SaveTool\"},{\"id\":\"4167db57-19e0-4a85-8e60-c3484837f9e0\",\"type\":\"ResetTool\"},{\"id\":\"2da71fd8-7d3d-43d8-879d-6f2aa50a58a1\",\"type\":\"HelpTool\"}]},\"id\":\"b0a3a9c2-a3ab-4bfa-a867-c4dd5684a013\",\"type\":\"Toolbar\"},{\"attributes\":{\"plot\":{\"id\":\"585bfb42-fee2-4dfe-bb04-ec49c2b8c45f\",\"subtype\":\"Chart\",\"type\":\"Plot\"}},\"id\":\"12078de3-ebb8-4c99-ab8f-c97b7a2fb269\",\"type\":\"PanTool\"},{\"attributes\":{\"axis_label\":\"y\",\"formatter\":{\"id\":\"999a77bc-15a7-4338-9f33-43b18de777b3\",\"type\":\"BasicTickFormatter\"},\"plot\":{\"id\":\"585bfb42-fee2-4dfe-bb04-ec49c2b8c45f\",\"subtype\":\"Chart\",\"type\":\"Plot\"},\"ticker\":{\"id\":\"d97e86d1-dad6-457b-87a0-5d4b401c8431\",\"type\":\"BasicTicker\"}},\"id\":\"6cdba190-fa0d-4f5f-8714-eeb632198c09\",\"type\":\"LinearAxis\"},{\"attributes\":{\"callback\":null,\"column_names\":[\"x_values\",\"y_values\"],\"data\":{\"chart_index\":[{\"z\":1},{\"z\":1},{\"z\":1},{\"z\":1},{\"z\":1},{\"z\":1},{\"z\":1},{\"z\":1},{\"z\":1},{\"z\":1},{\"z\":1},{\"z\":1},{\"z\":1},{\"z\":1},{\"z\":1},{\"z\":1},{\"z\":1},{\"z\":1},{\"z\":1},{\"z\":1},{\"z\":1},{\"z\":1},{\"z\":1},{\"z\":1},{\"z\":1},{\"z\":1},{\"z\":1},{\"z\":1},{\"z\":1},{\"z\":1},{\"z\":1},{\"z\":1},{\"z\":1},{\"z\":1},{\"z\":1},{\"z\":1},{\"z\":1},{\"z\":1},{\"z\":1},{\"z\":1},{\"z\":1},{\"z\":1},{\"z\":1},{\"z\":1},{\"z\":1},{\"z\":1},{\"z\":1},{\"z\":1},{\"z\":1},{\"z\":1},{\"z\":1},{\"z\":1},{\"z\":1},{\"z\":1},{\"z\":1},{\"z\":1},{\"z\":1},{\"z\":1},{\"z\":1},{\"z\":1},{\"z\":1},{\"z\":1},{\"z\":1},{\"z\":1},{\"z\":1},{\"z\":1},{\"z\":1},{\"z\":1},{\"z\":1},{\"z\":1},{\"z\":1},{\"z\":1},{\"z\":1},{\"z\":1},{\"z\":1},{\"z\":1},{\"z\":1},{\"z\":1},{\"z\":1},{\"z\":1},{\"z\":1},{\"z\":1},{\"z\":1},{\"z\":1}],\"x_values\":{\"__ndarray__\":\"9cl/Q9hbQMALjLGIeGw1wH2lKenMMEbA4nwJIImhQ8CPExXNPIhBwFwHTIu47+O/CAbrkrnOIcDQjueKBBRJwGLZwIrNZTNASLGQBX4kR8Dy/AoQQQ83wAQ4dx0aWjTAeAU1CTwuRsARe410SgcwwE0/rNbsvzPACjZrV7IWDcDVoWLEd7ozQH8qbxl7yUHAlA3Qmnf4C0BBxCk8Px5IwELrsQTA3yBAemZyoiywS8BDHzzGsoxJwPOd1vJMw0nA/BvuPKADMsC0qfxRzjA5wJM5nvANejvA/ywJ/SqQPcB4B+WPcoUkwDrG6FsTizbAdcSBj6ojT8DAmZTOSkM5wP0OX81ukSrAgQ8tQ8MBNsAN4Ku1xXk2QLL+Nxii6EbACNtKu3elR8DGW3I5VnEvwI0GF5H4LkHAfRBCOd78M8DOdYuo0SVQwLZYUuZxei3AlK1e2nIKBsDyEZDnVXYzQO4hg6sv0xxAOK7O1y9/L8DQBld2PWY+wGEnqFrn7TZA3VQhK45fOcDen6l7O98xwERpQ22AqSPA+pu6gg/aQ8AdKYiRXXlQwEiTWIPRzkXAWkG9TFoiHMAmckdtLf05wL8JIzSp1RvAxc+UUDtvJMAmsDswOSlOwDQk7kmgyDDAHWr0nDMXS8BEdzlkOCg3QNan1tiSCDfAJ4tucEvYQMADwheZ50BDwIImvaVg/DnAk94XbyKUOcD6DMx28OkaQEpoVeXKPzzAu8O7ls2TNMBKFqgbIGcrwHk9L9iRHx5AyHPAW3aBPMCdGwiqbLI3wG1pmiYPWzNAnSV3uHNiN8DADuu+IENAwN7lJaLFykHASNa1QTFbO8BFbeY8IhQzwBC5vhA/5zTAAfZg9dr1Q8CSnPJHB2Y/wE5vv4ECmEHA\",\"dtype\":\"float64\",\"shape\":[84]},\"y_values\":{\"__ndarray__\":\"3roCbHl2MkBQPYxHt2VAQBKp369GfiRAjBUeUcC+OsBwx7twXXf6P2Np0zJNvT1AtPHeZ+c/P0Dow0tF4RgiwEU+xyd7+DXAzDNw9TJgMUC+gEvQniwqQCEq0/MKszJAQxgRzXC8MkB4NXFg6mM6QFLmkUwmeTdAeGHYqkapNEDGqP9v7CYmwB7whqBQwjHAC4QwOUypQ0CRXHEAteI8wHXf8bFRoTdA1rkIWvdqBUBhWegvS2IiQBOiH1vXNz/ANH/J1Qu8uL/k6+9E45QSwFr4Z6x7kEZATDeaalCKLkBcC2jz4x0ZQOYJvkdQOwzAjUoPZX4+LsDYFlgfcPQwQHzDwXwW8S7AQK9P2tpcRMBpPp6fk1Y6QAhH1ZalmDjAUe6FUnftJcBSlqmZjn1AQF84PJJP3znAsMdGmASfOkCo1ls4fJUzwB1BTsQ2vjtA+do6/9BlJUBP3ixATiA5QDtBN95mX/E/HG7kXxJWPkCLZOXuX/8WwCCXe+EkFcC/PIdTKbgKOsAuo7zU8IlBQNgPWOxdWyXAzRCOTF9ZKcAabyXfWg0owJnVhvi79TvAjp0rDZEkGECeL3yY5+k/QHGFNojjskpAQOosDMjRQkAobhJ6OVclwFJ2hCPc6jFA5EuFixlpO0BZwNwgifopQBs+F8yyNzLAF/nayPhVJsACDSHXBPxAQC95MO+WrTnASO/rjfgrMcD/BMEragQJwEp+/i47gjlAZFElJq8xIsC6O7vedUsgQIJld68pHirAOm8Zs6BWK8AMwr9zjFAzQA+3ZlDUuiHAthi4i57wKECb5SFn46QPwIKcD2tCkT5AEVZUVT6eN0AWFlONOmkoQFMEuCYdLUPAm8h4giIOBcBWWFPKinlDQGRkZwm93zTA\",\"dtype\":\"float64\",\"shape\":[84]},\"z\":[1,1,1,1,1,1,1,1,1,1,1,1,1,1,1,1,1,1,1,1,1,1,1,1,1,1,1,1,1,1,1,1,1,1,1,1,1,1,1,1,1,1,1,1,1,1,1,1,1,1,1,1,1,1,1,1,1,1,1,1,1,1,1,1,1,1,1,1,1,1,1,1,1,1,1,1,1,1,1,1,1,1,1,1]}},\"id\":\"c4bd67b4-0061-4ce3-80a5-61fda939939c\",\"type\":\"ColumnDataSource\"},{\"attributes\":{\"dimension\":1,\"plot\":{\"id\":\"585bfb42-fee2-4dfe-bb04-ec49c2b8c45f\",\"subtype\":\"Chart\",\"type\":\"Plot\"},\"ticker\":{\"id\":\"d97e86d1-dad6-457b-87a0-5d4b401c8431\",\"type\":\"BasicTicker\"}},\"id\":\"f06fea1d-7307-4a7d-be19-a0b95c0f8637\",\"type\":\"Grid\"},{\"attributes\":{\"callback\":null,\"column_names\":[\"x_values\",\"y_values\"],\"data\":{\"chart_index\":[{\"z\":0},{\"z\":0},{\"z\":0},{\"z\":0},{\"z\":0},{\"z\":0},{\"z\":0},{\"z\":0},{\"z\":0},{\"z\":0},{\"z\":0},{\"z\":0},{\"z\":0},{\"z\":0},{\"z\":0},{\"z\":0},{\"z\":0},{\"z\":0},{\"z\":0},{\"z\":0},{\"z\":0},{\"z\":0},{\"z\":0},{\"z\":0},{\"z\":0},{\"z\":0},{\"z\":0},{\"z\":0},{\"z\":0},{\"z\":0},{\"z\":0},{\"z\":0},{\"z\":0},{\"z\":0},{\"z\":0},{\"z\":0},{\"z\":0},{\"z\":0},{\"z\":0},{\"z\":0},{\"z\":0},{\"z\":0},{\"z\":0},{\"z\":0},{\"z\":0},{\"z\":0},{\"z\":0},{\"z\":0},{\"z\":0},{\"z\":0},{\"z\":0},{\"z\":0},{\"z\":0},{\"z\":0},{\"z\":0},{\"z\":0},{\"z\":0},{\"z\":0},{\"z\":0},{\"z\":0},{\"z\":0},{\"z\":0},{\"z\":0},{\"z\":0},{\"z\":0},{\"z\":0},{\"z\":0},{\"z\":0},{\"z\":0},{\"z\":0},{\"z\":0},{\"z\":0},{\"z\":0},{\"z\":0},{\"z\":0},{\"z\":0},{\"z\":0},{\"z\":0},{\"z\":0},{\"z\":0},{\"z\":0},{\"z\":0},{\"z\":0},{\"z\":0},{\"z\":0},{\"z\":0},{\"z\":0},{\"z\":0},{\"z\":0},{\"z\":0},{\"z\":0},{\"z\":0},{\"z\":0},{\"z\":0},{\"z\":0},{\"z\":0},{\"z\":0},{\"z\":0},{\"z\":0},{\"z\":0},{\"z\":0},{\"z\":0},{\"z\":0},{\"z\":0},{\"z\":0},{\"z\":0},{\"z\":0},{\"z\":0},{\"z\":0},{\"z\":0},{\"z\":0},{\"z\":0},{\"z\":0},{\"z\":0},{\"z\":0},{\"z\":0},{\"z\":0},{\"z\":0},{\"z\":0},{\"z\":0},{\"z\":0},{\"z\":0},{\"z\":0},{\"z\":0},{\"z\":0},{\"z\":0},{\"z\":0},{\"z\":0},{\"z\":0},{\"z\":0},{\"z\":0},{\"z\":0},{\"z\":0},{\"z\":0},{\"z\":0},{\"z\":0},{\"z\":0},{\"z\":0},{\"z\":0},{\"z\":0},{\"z\":0},{\"z\":0},{\"z\":0},{\"z\":0},{\"z\":0},{\"z\":0},{\"z\":0},{\"z\":0},{\"z\":0},{\"z\":0},{\"z\":0},{\"z\":0},{\"z\":0},{\"z\":0},{\"z\":0},{\"z\":0},{\"z\":0},{\"z\":0},{\"z\":0},{\"z\":0},{\"z\":0},{\"z\":0},{\"z\":0},{\"z\":0},{\"z\":0},{\"z\":0},{\"z\":0},{\"z\":0},{\"z\":0},{\"z\":0},{\"z\":0},{\"z\":0},{\"z\":0},{\"z\":0},{\"z\":0},{\"z\":0},{\"z\":0},{\"z\":0},{\"z\":0},{\"z\":0},{\"z\":0},{\"z\":0},{\"z\":0},{\"z\":0},{\"z\":0},{\"z\":0},{\"z\":0},{\"z\":0},{\"z\":0},{\"z\":0},{\"z\":0},{\"z\":0},{\"z\":0},{\"z\":0},{\"z\":0},{\"z\":0},{\"z\":0},{\"z\":0},{\"z\":0},{\"z\":0},{\"z\":0},{\"z\":0},{\"z\":0},{\"z\":0},{\"z\":0},{\"z\":0},{\"z\":0},{\"z\":0},{\"z\":0},{\"z\":0},{\"z\":0},{\"z\":0},{\"z\":0},{\"z\":0},{\"z\":0},{\"z\":0},{\"z\":0},{\"z\":0},{\"z\":0},{\"z\":0},{\"z\":0},{\"z\":0},{\"z\":0},{\"z\":0},{\"z\":0},{\"z\":0},{\"z\":0},{\"z\":0},{\"z\":0},{\"z\":0},{\"z\":0},{\"z\":0},{\"z\":0},{\"z\":0},{\"z\":0},{\"z\":0},{\"z\":0},{\"z\":0},{\"z\":0},{\"z\":0},{\"z\":0},{\"z\":0},{\"z\":0},{\"z\":0},{\"z\":0},{\"z\":0},{\"z\":0},{\"z\":0},{\"z\":0},{\"z\":0},{\"z\":0},{\"z\":0},{\"z\":0},{\"z\":0},{\"z\":0},{\"z\":0},{\"z\":0},{\"z\":0},{\"z\":0},{\"z\":0},{\"z\":0},{\"z\":0},{\"z\":0},{\"z\":0},{\"z\":0},{\"z\":0},{\"z\":0},{\"z\":0},{\"z\":0},{\"z\":0},{\"z\":0},{\"z\":0},{\"z\":0},{\"z\":0},{\"z\":0},{\"z\":0},{\"z\":0}],\"x_values\":{\"__ndarray__\":\"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\",\"dtype\":\"float64\",\"shape\":[277]},\"y_values\":{\"__ndarray__\":\"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\",\"dtype\":\"float64\",\"shape\":[277]},\"z\":[0,0,0,0,0,0,0,0,0,0,0,0,0,0,0,0,0,0,0,0,0,0,0,0,0,0,0,0,0,0,0,0,0,0,0,0,0,0,0,0,0,0,0,0,0,0,0,0,0,0,0,0,0,0,0,0,0,0,0,0,0,0,0,0,0,0,0,0,0,0,0,0,0,0,0,0,0,0,0,0,0,0,0,0,0,0,0,0,0,0,0,0,0,0,0,0,0,0,0,0,0,0,0,0,0,0,0,0,0,0,0,0,0,0,0,0,0,0,0,0,0,0,0,0,0,0,0,0,0,0,0,0,0,0,0,0,0,0,0,0,0,0,0,0,0,0,0,0,0,0,0,0,0,0,0,0,0,0,0,0,0,0,0,0,0,0,0,0,0,0,0,0,0,0,0,0,0,0,0,0,0,0,0,0,0,0,0,0,0,0,0,0,0,0,0,0,0,0,0,0,0,0,0,0,0,0,0,0,0,0,0,0,0,0,0,0,0,0,0,0,0,0,0,0,0,0,0,0,0,0,0,0,0,0,0,0,0,0,0,0,0,0,0,0,0,0,0,0,0,0,0,0,0,0,0,0,0,0,0,0,0,0,0,0,0,0,0,0,0,0,0,0,0,0,0,0,0]}},\"id\":\"cc3c56a8-cc07-4edc-a42d-895c5132a62c\",\"type\":\"ColumnDataSource\"},{\"attributes\":{\"plot\":{\"id\":\"585bfb42-fee2-4dfe-bb04-ec49c2b8c45f\",\"subtype\":\"Chart\",\"type\":\"Plot\"}},\"id\":\"e9b4ee2b-6baa-4277-bf6c-a8f8e5289880\",\"type\":\"WheelZoomTool\"}],\"root_ids\":[\"585bfb42-fee2-4dfe-bb04-ec49c2b8c45f\"]},\"title\":\"Bokeh Application\",\"version\":\"0.12.6\"}};\n",
       "            var render_items = [{\"docid\":\"496368a5-e343-4012-94bb-68d2271576ec\",\"elementid\":\"c419c931-e2c9-406b-a7d6-0870f758a962\",\"modelid\":\"585bfb42-fee2-4dfe-bb04-ec49c2b8c45f\"}];\n",
       "            \n",
       "            Bokeh.embed.embed_items(docs_json, render_items);\n",
       "          };\n",
       "          if (document.readyState != \"loading\") fn();\n",
       "          else document.addEventListener(\"DOMContentLoaded\", fn);\n",
       "        })();\n",
       "      },\n",
       "      function(Bokeh) {\n",
       "      }\n",
       "    ];\n",
       "  \n",
       "    function run_inline_js() {\n",
       "      \n",
       "      if ((window.Bokeh !== undefined) || (force === true)) {\n",
       "        for (var i = 0; i < inline_js.length; i++) {\n",
       "          inline_js[i](window.Bokeh);\n",
       "        }if (force === true) {\n",
       "          display_loaded();\n",
       "        }} else if (Date.now() < window._bokeh_timeout) {\n",
       "        setTimeout(run_inline_js, 100);\n",
       "      } else if (!window._bokeh_failed_load) {\n",
       "        console.log(\"Bokeh: BokehJS failed to load within specified timeout.\");\n",
       "        window._bokeh_failed_load = true;\n",
       "      } else if (force !== true) {\n",
       "        var cell = $(document.getElementById(\"c419c931-e2c9-406b-a7d6-0870f758a962\")).parents('.cell').data().cell;\n",
       "        cell.output_area.append_execute_result(NB_LOAD_WARNING)\n",
       "      }\n",
       "  \n",
       "    }\n",
       "  \n",
       "    if (window._bokeh_is_loading === 0) {\n",
       "      console.log(\"Bokeh: BokehJS loaded, going straight to plotting\");\n",
       "      run_inline_js();\n",
       "    } else {\n",
       "      load_libs(js_urls, function() {\n",
       "        console.log(\"Bokeh: BokehJS plotting callback run at\", now());\n",
       "        run_inline_js();\n",
       "      });\n",
       "    }\n",
       "  }(this));\n",
       "</script>"
      ]
     },
     "metadata": {},
     "output_type": "display_data"
    }
   ],
   "source": [
    "from bkcharts import Scatter\n",
    "visual_sample = pd.DataFrame(X_tsne)\n",
    "visual_sample['z'] = y_sample\n",
    "visual_sample.columns.values[0] = 'x'\n",
    "visual_sample.columns.values[1] = 'y'\n",
    "p = Scatter(visual_sample, x='x', y='y', color='z', legend='top_left')\n",
    "show(p)"
   ]
  },
  {
   "cell_type": "markdown",
   "metadata": {},
   "source": [
    "#### 3D形式展现数据"
   ]
  },
  {
   "cell_type": "code",
   "execution_count": 14,
   "metadata": {
    "collapsed": true
   },
   "outputs": [],
   "source": [
    "tsne_3d = TSNE(n_components=3, random_state=0)\n",
    "X_tsne_3d = tsne_3d.fit_transform(x_sample)"
   ]
  },
  {
   "cell_type": "code",
   "execution_count": 15,
   "metadata": {},
   "outputs": [
    {
     "name": "stdout",
     "output_type": "stream",
     "text": [
      "(361, 3)\n"
     ]
    },
    {
     "data": {
      "application/vnd.jupyter.widget-view+json": {
       "model_id": "6b10dba74a0540d89abb7e2fd52252f5",
       "version_major": 2,
       "version_minor": 0
      },
      "text/plain": [
       "A Jupyter Widget"
      ]
     },
     "metadata": {},
     "output_type": "display_data"
    }
   ],
   "source": [
    "import ipyvolume as ipv \n",
    "\n",
    "print X_tsne_3d.shape\n",
    "visual_sample_3d = pd.DataFrame(X_tsne_3d)\n",
    "visual_sample_3d['label'] = y_sample\n",
    "visual_sample_3d.columns.values[0] = 'x'\n",
    "visual_sample_3d.columns.values[1] = 'y'\n",
    "visual_sample_3d.columns.values[2] = 'z'\n",
    "\n",
    "selected = visual_sample_3d[visual_sample_3d['label'] == 1].index\n",
    "ipv.quickscatter(visual_sample_3d['x'], visual_sample_3d['y'], visual_sample_3d['z'], selected=selected, color_selected='green', marker='sphere',size=1.5,size_selected=1.5)"
   ]
  },
  {
   "cell_type": "markdown",
   "metadata": {},
   "source": [
    "**回答： **  \n",
    "\n",
    "通过降维后做数据可视化，并不能观察出数据在二维、三维情况下是线性可分的。但是本着简单、快速验证的原则，先尝试线性模型和一般效果比较好的模型。\n",
    "\n",
    "### 1. Logistic回归\n",
    "#### 真实世界应用场景\n",
    "垃圾邮件判别、是否患病判别、是否金融诈骗判别、是否为虚假账号判别。  \n",
    "参考：[逻辑回归](http://www.solinx.co/archives/880)\n",
    "#### 优点\n",
    "- 实现简单，广泛的应用于工业问题上;\n",
    "- 分类时计算量非常小，速度很快，存储资源低;\n",
    "- 便利的观测样本概率分数;\n",
    "- 对逻辑回归而言，多重共线性并不是问题，它可以结合L2正则化来解决该问题  \n",
    "\n",
    "#### 什么情况下表现最好？\n",
    "缺失值少，每个特征都有大量数据样本，特征维度低，时表现最好。\n",
    "#### 缺点\n",
    "- 当特征空间很大时，逻辑回归的性能不是很好;\n",
    "- 容易欠拟合，一般准确度不太高\n",
    "- 不能很好地处理大量多类特征或变量;\n",
    "- 只能处理两分类问题(在此基础上衍生出来的softmax可以用于多分类)，且必须线性可分;\n",
    "- 对于非线性特征，需要进行转换\n",
    "- 受数据噪声影响较大\n",
    "\n",
    "#### 什么情况下表现很差？\n",
    "特征维度高，样本少时表现很差\n",
    "#### 为什么这个模型适合这个问题？\n",
    "逻辑回归主要用于分类问题，本问题是二分类问题。问题特征较少，多数特征是离散值，适合使用逻辑回归。逻辑回归是线性方法，属于第一优先尝试方法,即使表现不好，也可以作为对照组。\n",
    "\n",
    "### 2. Random Forest \n",
    "#### 真实世界应用场景\n",
    "人体姿态识别、人脸识别。  \n",
    "参考：[计算机视觉：随机森林算法在人体识别中的应用](http://dataunion.org/12046.html)\n",
    "#### 优点\n",
    "- 适用与回归和分类问题\n",
    "- 准确度高\n",
    "- 训练速度快\n",
    "- 原理简单\n",
    "- 不需要做数据归一化\n",
    "- 可用于大规模数据集\n",
    "- 天生支持并行\n",
    "- 自动选择特征\n",
    "- 可以对高维数据降维\n",
    "- 鲁棒性性好，在有噪声和缺失大量数据的情况下也能获得较高的精确度  \n",
    "\n",
    "#### 什么情况下表现最好？\n",
    "用于分类问题，特征之间无关联，噪声较小情况下表现最好\n",
    "#### 缺点\n",
    "- 可解释性不强\n",
    "- 噪声较大的分类和回归问题上可能会过拟合\n",
    "- 对于有不同级别的属性的数据，级别划分较多的属性会对随机森林产生更大的影响，所以随机森林在这种数据上产出的属性权值是不可信的\n",
    "- 当进行回归时，随机森林不能够作出超越训练集数据范围的预测，这可能导致在对某些还有特定噪声的数据进行建模时出现过度拟合\n",
    "- 数据集大时生成模型也会很大，可能不适合在线预测   \n",
    "\n",
    "#### 什么情况下表现很差？\n",
    "只有一个子树时效果很差\n",
    "#### 为什么这个模型适合这个问题？\n",
    "这个问题是一个二分类问题，分类是随机森林的强项，随机森林大多数情况下不调参数可获得较高精度，是第二优先尝试算法。\n",
    "\n",
    "### 3. SVM\n",
    "#### 真实世界应用场景\n",
    "文本分类，图像分类，生物序列分析和生物数据挖掘，手写字符识别等领域有很多的应用。  \n",
    "参见：[支持向量机通俗导论（理解SVM的三层境界）](http://blog.csdn.net/v_july_v/article/details/7624837)  \n",
    "#### 优点\n",
    "- 具有较好的鲁棒性\n",
    "- 分类效果较好\n",
    "- 分类思想很简单，就是将样本与决策面的间隔最大化\n",
    "- 可以向高维空间进行映射\n",
    "- 可以解决非线性的分类\n",
    "- 计算的复杂性取决于支持向量的数目,在某种意义上避免了维数灾难\n",
    "- 不同于统计方法，基本上不涉及概率测度及大数定律等,它避开了从归纳到演绎的传统过程,简化了通常的分类和回归等问题\n",
    "\n",
    "#### 什么情况下表现最好？\n",
    "数据集小，缺失值少，二分类情况下表现好\n",
    " \n",
    "#### 缺点\n",
    "- 对大规模数据训练比较困难\n",
    "- 无法直接支持多分类\n",
    "- 对于核函数的高维映射解释力不强，尤其是径向基函数\n",
    "- 对缺失数据敏感\n",
    "- 对非线性问题没有通用解决方案，必须使用核函数\n",
    "- 使用核函数预测结果难以解释\n",
    "\n",
    "#### 什么情况下表现很差？\n",
    "数据集很大，缺失值较多情况下表现很差\n",
    "#### 为什么这个模型适合这个问题？\n",
    "本问题是二分类问题，数据量小，目前不知道是否线性可分，但可以尝试"
   ]
  },
  {
   "cell_type": "markdown",
   "metadata": {},
   "source": [
    "### 练习 - 创建一个训练和预测的流水线\n",
    "为了正确评估你选择的每一个模型的性能，创建一个能够帮助你快速有效地使用不同大小的训练集并在测试集上做预测的训练和测试的流水线是十分重要的。\n",
    "你在这里实现的功能将会在接下来的部分中被用到。在下面的代码单元中，你将实现以下功能：\n",
    "\n",
    " - 从[`sklearn.metrics`](http://scikit-learn.org/stable/modules/classes.html#sklearn-metrics-metrics)中导入`fbeta_score`和`accuracy_score`。\n",
    " - 用样例训练集拟合学习器，并记录训练时间。\n",
    " - 用学习器来对训练集进行预测并记录预测时间。\n",
    " - 在最前面的500个*训练数据*上做预测。\n",
    " - 计算训练数据和测试数据的准确率。\n",
    " - 计算训练数据和测试数据的F-score。"
   ]
  },
  {
   "cell_type": "code",
   "execution_count": 16,
   "metadata": {
    "collapsed": true
   },
   "outputs": [],
   "source": [
    "# TODO：从sklearn中导入两个评价指标 - fbeta_score和accuracy_score\n",
    "from sklearn.metrics import fbeta_score, accuracy_score\n",
    "\n",
    "def train_predict(learner, sample_size, X_train, y_train, X_test, y_test): \n",
    "    '''\n",
    "    inputs:\n",
    "       - learner: the learning algorithm to be trained and predicted on\n",
    "       - sample_size: the size of samples (number) to be drawn from training set\n",
    "       - X_train: features training set\n",
    "       - y_train: income training set\n",
    "       - X_test: features testing set\n",
    "       - y_test: income testing set\n",
    "    '''\n",
    "    \n",
    "    results = {}\n",
    "    \n",
    "    # TODO：使用sample_size大小的训练数据来拟合学习器\n",
    "    # TODO: Fit the learner to the training data using slicing with 'sample_size'\n",
    "    start = time() # 获得程序开始时间\n",
    "    learner = learner.fit(X_train[:sample_size], y_train[:sample_size])\n",
    "    end = time() # 获得程序结束时间\n",
    "    \n",
    "    # TODO：计算训练时间\n",
    "    results['train_time'] = end - start\n",
    "    \n",
    "    # TODO: 得到在测试集上的预测值\n",
    "    #       然后得到对前300个训练数据的预测结果\n",
    "    start = time() # 获得程序开始时间\n",
    "    predictions_test = learner.predict(X_test)\n",
    "    predictions_train = learner.predict(X_train[:300])\n",
    "    end = time() # 获得程序结束时间 \n",
    "    \n",
    "    # TODO：计算预测用时\n",
    "    results['pred_time'] = end - start\n",
    "            \n",
    "    # TODO：计算在最前面的300个训练数据的准确率\n",
    "    results['acc_train'] = accuracy_score(y_train[:300], predictions_train)\n",
    "        \n",
    "    # TODO：计算在测试集上的准确率\n",
    "    results['acc_test'] = accuracy_score(y_test, predictions_test)\n",
    "    \n",
    "    # TODO：计算在最前面300个训练数据上的F-score\n",
    "    results['f_train'] = fbeta_score(y_train[:300], predictions_train, 0.5)\n",
    "        \n",
    "    # TODO：计算测试集上的F-score\n",
    "    results['f_test'] = fbeta_score(y_test, predictions_test, 0.5)\n",
    "       \n",
    "    # 成功\n",
    "    print \"{} trained on {} samples.\".format(learner.__class__.__name__, sample_size)\n",
    "        \n",
    "    # 返回结果\n",
    "    return results"
   ]
  },
  {
   "cell_type": "markdown",
   "metadata": {},
   "source": [
    "### 练习：初始模型的评估\n",
    "在下面的代码单元中，您将需要实现以下功能：             \n",
    "- 导入你在前面讨论的三个监督学习模型。             \n",
    "- 初始化三个模型并存储在`'clf_A'`，`'clf_B'`和`'clf_C'`中。         \n",
    "  - 如果可能对每一个模型都设置一个`random_state`。       \n",
    "  - **注意：**这里先使用每一个模型的默认参数，在接下来的部分中你将需要对某一个模型的参数进行调整。             \n",
    "- 计算记录的数目等于1%，10%，和100%的训练数据，并将这些值存储在`'samples'`中             \n",
    "\n",
    "**注意：**取决于你选择的算法，下面实现的代码可能需要一些时间来运行！"
   ]
  },
  {
   "cell_type": "markdown",
   "metadata": {},
   "source": [
    "> 为了对比效果，这里增加了决策树算法作为参照。"
   ]
  },
  {
   "cell_type": "code",
   "execution_count": 17,
   "metadata": {
    "scrolled": false
   },
   "outputs": [
    {
     "name": "stdout",
     "output_type": "stream",
     "text": [
      "LogisticRegression trained on 361 samples.\n",
      "LogisticRegression trained on 3617 samples.\n",
      "LogisticRegression trained on 36177 samples.\n",
      "RandomForestClassifier trained on 361 samples.\n",
      "RandomForestClassifier trained on 3617 samples.\n",
      "RandomForestClassifier trained on 36177 samples.\n",
      "LinearSVC trained on 361 samples.\n",
      "LinearSVC trained on 3617 samples.\n",
      "LinearSVC trained on 36177 samples.\n",
      "DecisionTreeClassifier trained on 361 samples.\n",
      "DecisionTreeClassifier trained on 3617 samples.\n",
      "DecisionTreeClassifier trained on 36177 samples.\n"
     ]
    },
    {
     "data": {
      "image/png": "[encoded data removed]",
      "text/plain": [
       "<matplotlib.figure.Figure at 0x7f6d46586510>"
      ]
     },
     "metadata": {},
     "output_type": "display_data"
    }
   ],
   "source": [
    "# TODO：从sklearn中导入三个监督学习模型\n",
    "from sklearn.linear_model import LogisticRegression\n",
    "from sklearn.naive_bayes import GaussianNB\n",
    "from sklearn.tree import DecisionTreeClassifier\n",
    "from sklearn.neighbors import KNeighborsClassifier\n",
    "from sklearn.ensemble import RandomForestClassifier\n",
    "from sklearn.linear_model import SGDClassifier\n",
    "from sklearn.svm import LinearSVC\n",
    "\n",
    "# TODO：初始化三个模型\n",
    "clf_A = LogisticRegression(random_state=10)\n",
    "clf_B = RandomForestClassifier(random_state=10)\n",
    "clf_C = LinearSVC(random_state=10)\n",
    "# 附加三个分类器\n",
    "clf_D = DecisionTreeClassifier(random_state=10)\n",
    "clf_E = SGDClassifier(random_state=10)\n",
    "clf_F = KNeighborsClassifier()\n",
    "\n",
    "# TODO：计算1%， 10%， 100%的训练数据分别对应多少点\n",
    "samples_1 = int(X_train.shape[0] * 0.01)\n",
    "samples_10 = int(X_train.shape[0] * 0.1)\n",
    "samples_100 = X_train.shape[0]\n",
    "\n",
    "# 收集学习器的结果\n",
    "results = {}\n",
    "for clf in [clf_A, clf_B, clf_C, clf_D]: \n",
    "    clf_name = clf.__class__.__name__\n",
    "    results[clf_name] = {}\n",
    "    for i, samples in enumerate([samples_1, samples_10, samples_100]):\n",
    "        results[clf_name][i] = \\\n",
    "        train_predict(clf, samples, X_train, y_train, X_test, y_test)\n",
    "\n",
    "# 对选择的三个模型得到的评价结果进行可视化\n",
    "vs.evaluate(results, accuracy, fscore)"
   ]
  },
  {
   "cell_type": "markdown",
   "metadata": {},
   "source": [
    "----\n",
    "## 提高效果\n",
    "\n",
    "在这最后一节中，您将从三个有监督的学习模型中选择*最好的*模型来使用学生数据。你将在整个训练集（`X_train`和`y_train`）上通过使用网格搜索优化至少调节一个参数以获得一个比没有调节之前更好的F-score。"
   ]
  },
  {
   "cell_type": "markdown",
   "metadata": {},
   "source": [
    "### 问题 3 - 选择最佳的模型\n",
    "\n",
    "*基于你前面做的评价，用一到两段向*CharityML*解释这三个模型中哪一个对于判断被调查者的年收入大于\\$50,000是最合适的。*             \n",
    "**提示：**你的答案应该包括关于评价指标，预测/训练时间，以及该算法是否适合这里的数据的讨论。"
   ]
  },
  {
   "cell_type": "markdown",
   "metadata": {},
   "source": [
    "**回答：**  \n",
    "结论：LinerSVC最合适。\n",
    "\n",
    "从准确率、F-Score来看，训练集上SVC准确率和F-Score低于随机森林和决策树，但高于其他算法。在测试集上10%和100%的数据里，LinerSVC准确率和F-Score均高于其他算法。\n",
    "\n",
    "从训练时间和预测时间来看，LinerSVC时间最长。而预测时间上LinerSVC远低于随机森林，而与其他算法时间相差不大。\n",
    "\n",
    "总体表现上来看，LinerSVC在训练集和测试集上表现均比较稳定。而我们的数据量不大，训练时间虽然比其他算法长，但在可接受范围，在给定的这些数据和这几种算法里，LinerSVC最合适。"
   ]
  },
  {
   "cell_type": "markdown",
   "metadata": {},
   "source": [
    "### 问题 4 - 用通俗的话解释模型\n",
    "\n",
    "*用一到两段话，向*CharityML*用外行也听得懂的话来解释最终模型是如何工作的。你需要解释所选模型的主要特点。例如，这个模型是怎样被训练的，它又是如何做出预测的。避免使用高级的数学或技术术语，不要使用公式或特定的算法名词。*"
   ]
  },
  {
   "cell_type": "markdown",
   "metadata": {},
   "source": [
    "**回答： ** \n",
    "\n",
    "** 如何工作的 **： \n",
    "SVM是将数据在高维空间中标定，然后寻找低一维度的分隔平面（即超平面，三维空间中超平面就是平面，二维空间中超平面就是直线）来分隔开数据点。\n",
    "\n",
    "** 如何被训练的 **：   \n",
    "当然这样的分隔平面会有很多，我们需要找出泛化性最好的那个，即能让距离分隔面两边的点到分隔平面的距离（SVM里叫做间距，margin）最大的那个分隔平面。间距的大小我们使用数值来量化，就需要引入数学公式来定义分隔平面和间距，我们的目标就转化为求解使得间距最大化的参数，通过数学上的专门解决优化问题的方法，我们可以得到这些参数，将这些参数带入公式，即得到了最终模型。\n",
    "\n",
    "如何预测的：当我们找到这个分隔平面后，新的数据预测只需要将数据代入分隔平面公式，即可求得其在分隔平面的哪一侧，就知道属于哪个分类了。\n",
    "\n",
    "** 主要特点 **：  \n",
    "1.用trick解决计算复杂问题：当我们无法在当前空间中通过直线或平面分隔数据时，我们将数据映射到更高维度的空间以便可分，但是维度越高计算量越大，随着数据量的增大甚至这个计算量是不可接受的，所以我们利用一种在低维空间计算，而效果却等价于高维空间计算的方法。\n",
    "\n",
    "2.不依赖概率，不依赖数据分布假设。\n",
    "\n",
    "3.鲁棒性好，不决定分隔平面的数据增加或删除不影响算法的准确性。\n",
    "\n",
    "5.泛化性好，不仅考虑了预测数据与真实数据的差异风险，还考虑了算法本身的复杂度风险。\n",
    "\n",
    "6.计算量大，推广到大规模数据上有性能问题和内存资源消耗太大问题。\n",
    "\n",
    "7.算法本身是解决二分类问题，不支持多分类，需要使用组合其他算法来支持。"
   ]
  },
  {
   "cell_type": "markdown",
   "metadata": {},
   "source": [
    "### 练习：模型调优\n",
    "调节选择的模型的参数。使用网格搜索（GridSearchCV）来至少调整模型的重要参数（至少调整一个），这个参数至少需给出并尝试3个不同的值。你要使用整个训练集来完成这个过程。在接下来的代码单元中，你需要实现以下功能：\n",
    "\n",
    "- 导入[`sklearn.grid_search.gridSearchCV`](http://scikit-learn.org/stable/modules/generated/sklearn.grid_search.GridSearchCV.html)和[`sklearn.metrics.make_scorer`](http://scikit-learn.org/stable/modules/generated/sklearn.metrics.make_scorer.html).\n",
    "- 初始化你选择的分类器，并将其存储在`clf`中。\n",
    " - 如果能够设置的话，设置`random_state`。\n",
    "- 创建一个对于这个模型你希望调整参数的字典。\n",
    " - 例如: parameters = {'parameter' : [list of values]}。\n",
    " - **注意：** 如果你的学习器（learner）有 `max_features` 参数，请不要调节它！\n",
    "- 使用`make_scorer`来创建一个`fbeta_score`评分对象（设置$\\beta = 0.5$）。\n",
    "- 在分类器clf上用'scorer'作为评价函数运行网格搜索，并将结果存储在grid_obj中。\n",
    "- 用训练集（X_train, y_train）训练grid search object,并将结果存储在`grid_fit`中。\n",
    "\n",
    "**注意：** 取决于你选择的参数列表，下面实现的代码可能需要花一些时间运行！"
   ]
  },
  {
   "cell_type": "code",
   "execution_count": 18,
   "metadata": {
    "scrolled": false
   },
   "outputs": [
    {
     "name": "stdout",
     "output_type": "stream",
     "text": [
      "best params\n",
      "------\n",
      "{'loss': 'squared_hinge', 'C': 2.0, 'verbose': 0, 'intercept_scaling': 1, 'fit_intercept': True, 'max_iter': 1000, 'penalty': 'l2', 'multi_class': 'ovr', 'random_state': 0, 'dual': True, 'tol': 0.0001, 'class_weight': None}\n",
      "\n",
      "Unoptimized model\n",
      "------\n",
      "Accuracy score on testing data: 0.8507\n",
      "F-score on testing data: 0.7054\n",
      "\n",
      "Optimized Model\n",
      "------\n",
      "Final accuracy score on the testing data: 0.8504\n",
      "Final F-score on the testing data: 0.7047\n"
     ]
    }
   ],
   "source": [
    "# TODO：导入'GridSearchCV', 'make_scorer'和其他一些需要的库\n",
    "from sklearn.model_selection import GridSearchCV\n",
    "from sklearn.metrics import make_scorer\n",
    "\n",
    "# TODO：初始化分类器\n",
    "clf = LinearSVC()\n",
    "\n",
    "# TODO：创建你希望调节的参数列表\n",
    "parameters = {'C':[0.05, 0.5, 1.0, 1.5, 2.0, 2.5, 3.0], 'random_state': [0, 1, 10, 15], 'dual':[True, False]}\n",
    "\n",
    "# TODO：创建一个fbeta_score打分对象\n",
    "scorer = make_scorer(fbeta_score, beta=0.5)\n",
    "\n",
    "# TODO：在分类器上使用网格搜索，使用'scorer'作为评价函数\n",
    "grid_obj = GridSearchCV(clf, parameters)\n",
    "\n",
    "# TODO：用训练数据拟合网格搜索对象并找到最佳参数\n",
    "grid_obj.fit(X_train, y_train)\n",
    "\n",
    "# 得到estimator\n",
    "best_clf = grid_obj.best_estimator_\n",
    "\n",
    "print \"best params\\n------\"\n",
    "print best_clf.get_params()\n",
    "print \"\"\n",
    "\n",
    "# 使用没有调优的模型做预测\n",
    "predictions = (clf.fit(X_train, y_train)).predict(X_test)\n",
    "best_predictions = best_clf.predict(X_test)\n",
    "\n",
    "# 汇报调参前和调参后的分数\n",
    "print \"Unoptimized model\\n------\"\n",
    "print \"Accuracy score on testing data: {:.4f}\".format(accuracy_score(y_test, predictions))\n",
    "print \"F-score on testing data: {:.4f}\".format(fbeta_score(y_test, predictions, beta = 0.5))\n",
    "print \"\\nOptimized Model\\n------\"\n",
    "print \"Final accuracy score on the testing data: {:.4f}\".format(accuracy_score(y_test, best_predictions))\n",
    "print \"Final F-score on the testing data: {:.4f}\".format(fbeta_score(y_test, best_predictions, beta = 0.5))"
   ]
  },
  {
   "cell_type": "markdown",
   "metadata": {},
   "source": [
    "### 问题 5 - 最终模型评估\n",
    "\n",
    "_你的最优模型在训练数据上的准确率和F-score是多少？这些分数比没有优化的模型好还是差？你优化的结果相比于你在**问题 1**中得到的朴素预测器怎么样？_  \n",
    "**注意：**请在下面的表格中填写你的结果，然后在答案框中提供讨论。"
   ]
  },
  {
   "cell_type": "markdown",
   "metadata": {},
   "source": [
    "#### 结果:\n",
    "\n",
    "|    评价指标     |            基准预测器 | 未优化的模型        | 优化的模型       |\n",
    "| :------------: | :-----------------: | :---------------: | :-------------: | \n",
    "| 准确率          | 0.2489              | 0.8507            | 0.8504          |\n",
    "| F-score        | 0.2929              | 0.7054            | 0.7047          |\n"
   ]
  },
  {
   "cell_type": "markdown",
   "metadata": {},
   "source": [
    "**回答：**  \n",
    "优化后的模型比没优化的模型差，默认参数已经能取得较好的效果。  \n",
    "优化的结果相比朴素预测器效果好很多。"
   ]
  },
  {
   "cell_type": "markdown",
   "metadata": {},
   "source": [
    "----\n",
    "## 特征的重要性\n",
    "\n",
    "在数据上（比如我们这里使用的人口普查的数据）使用监督学习算法的一个重要的任务是决定哪些特征能够提供最强的预测能力。通过专注于一些少量的有效特征和标签之间的关系，我们能够更加简单地理解这些现象，这在很多情况下都是十分有用的。在这个项目的情境下这表示我们希望选择一小部分特征，这些特征能够在预测被调查者是否年收入大于\\$50,000这个问题上有很强的预测能力。\n",
    "\n",
    "选择一个有`feature_importance_`属性（这是一个根据这个选择的分类器来对特征的重要性进行排序的函数）的scikit学习分类器（例如，AdaBoost，随机森林）。在下一个Python代码单元中用这个分类器拟合训练集数据并使用这个属性来决定这个人口普查数据中最重要的5个特征。"
   ]
  },
  {
   "cell_type": "markdown",
   "metadata": {},
   "source": [
    "### 问题 6 - 观察特征相关性\n",
    "\n",
    "当**探索数据**的时候，它显示在这个人口普查数据集中每一条记录我们有十三个可用的特征。             \n",
    "_在这十三个记录中，你认为哪五个特征对于预测是最重要的，你会怎样对他们排序？理由是什么？_"
   ]
  },
  {
   "cell_type": "markdown",
   "metadata": {},
   "source": [
    "**回答：** \n",
    "特征排序：race > occupation > education-num > age > workclass 。  \n",
    "理由：翻译过来是 种族 > 职业 > 受教育年数 > 年龄 > 工作类别，  \n",
    "1. 根据历史数据来看，美国白人、黑人收入差距很大。\n",
    "2. 同种族间，不同职业收入差异很大。\n",
    "3. 受教育年数决定知识水平，没有选education-level是因为education-num越大education-level也相应高，而且education-num是数字，更直观。\n",
    "4. 一般来讲同职业、同等教育水平的人，年龄越大经验越丰富，收入越高。\n",
    "5. 同样的种族，同样的工作，同样的年龄，同样的学历，在公立单位和在私立单位，或是个体户，收入差距也很大。"
   ]
  },
  {
   "cell_type": "markdown",
   "metadata": {},
   "source": [
    "### 练习 - 提取特征重要性\n",
    "\n",
    "选择一个`scikit-learn`中有`feature_importance_`属性的监督学习分类器，这个属性是一个在做预测的时候根据所选择的算法来对特征重要性进行排序的功能。\n",
    "\n",
    "在下面的代码单元中，你将要实现以下功能：\n",
    " - 如果这个模型和你前面使用的三个模型不一样的话从sklearn中导入一个监督学习模型。\n",
    " - 在整个训练集上训练一个监督学习模型。\n",
    " - 使用模型中的`'.feature_importances_'`提取特征的重要性。"
   ]
  },
  {
   "cell_type": "code",
   "execution_count": 22,
   "metadata": {},
   "outputs": [
    {
     "data": {
      "image/png": "[encoded data removed]",
      "text/plain": [
       "<matplotlib.figure.Figure at 0x7f6d45edb910>"
      ]
     },
     "metadata": {},
     "output_type": "display_data"
    }
   ],
   "source": [
    "# TODO：导入一个有'feature_importances_'的监督学习模型\n",
    "from sklearn.ensemble import AdaBoostClassifier\n",
    "# TODO：在训练集上训练一个监督学习模型\n",
    "model = AdaBoostClassifier()\n",
    "model.fit(X_train, y_train)\n",
    "\n",
    "# TODO： 提取特征重要性\n",
    "importances = model.feature_importances_ \n",
    "\n",
    "# 绘图\n",
    "vs.feature_plot(importances, X_train, y_train)"
   ]
  },
  {
   "cell_type": "markdown",
   "metadata": {},
   "source": [
    "### 问题 7 - 提取特征重要性\n",
    "观察上面创建的展示五个用于预测被调查者年收入是否大于\\$50,000最相关的特征的可视化图像。\n",
    "_这五个特征和你在**问题 6**中讨论的特征比较怎么样？如果说你的答案和这里的相近，那么这个可视化怎样佐证了你的想法？如果你的选择不相近，那么为什么你觉得这些特征更加相关？_"
   ]
  },
  {
   "cell_type": "markdown",
   "metadata": {},
   "source": [
    "**回答：**  \n",
    "与我的选择差异较大，居然职业不排在前5。对模型选择的特征猜测如下：\n",
    "- capital-loss：投资损失越大的人说明他越富有，不富有的人能承担的资金损失风险绝对值是小于富人的。\n",
    "- age：绝大多数情况下收入随年龄增长。\n",
    "- capital-loss：投资盈利越多的人，收入越多。\n",
    "- hours-per-week：工作时间长，越努力的人收入越高\n",
    "- education-num：学历越高，收入越高。"
   ]
  },
  {
   "cell_type": "markdown",
   "metadata": {},
   "source": [
    "### 特征选择\n",
    "\n",
    "如果我们只是用可用特征的一个子集的话模型表现会怎么样？通过使用更少的特征来训练，在评价指标的角度来看我们的期望是训练和预测的时间会更少。从上面的可视化来看，我们可以看到前五个最重要的特征贡献了数据中**所有**特征中超过一半的重要性。这提示我们可以尝试去*减小特征空间*，并简化模型需要学习的信息。下面代码单元将使用你前面发现的优化模型，并*只使用五个最重要的特征*在相同的训练集上训练模型。"
   ]
  },
  {
   "cell_type": "code",
   "execution_count": 20,
   "metadata": {},
   "outputs": [
    {
     "name": "stdout",
     "output_type": "stream",
     "text": [
      "Final Model trained on full data\n",
      "------\n",
      "Accuracy on testing data: 0.8504\n",
      "F-score on testing data: 0.7047\n",
      "\n",
      "Final Model trained on reduced data\n",
      "------\n",
      "Accuracy on testing data: 0.8093\n",
      "F-score on testing data: 0.5972\n"
     ]
    }
   ],
   "source": [
    "# 导入克隆模型的功能\n",
    "from sklearn.base import clone\n",
    "\n",
    "# 减小特征空间\n",
    "X_train_reduced = X_train[X_train.columns.values[(np.argsort(importances)[::-1])[:5]]]\n",
    "X_test_reduced = X_test[X_test.columns.values[(np.argsort(importances)[::-1])[:5]]]\n",
    "\n",
    "# 在前面的网格搜索的基础上训练一个“最好的”模型\n",
    "clf = (clone(best_clf)).fit(X_train_reduced, y_train)\n",
    "\n",
    "# 做一个新的预测\n",
    "reduced_predictions = clf.predict(X_test_reduced)\n",
    "\n",
    "# 对于每一个版本的数据汇报最终模型的分数\n",
    "print \"Final Model trained on full data\\n------\"\n",
    "print \"Accuracy on testing data: {:.4f}\".format(accuracy_score(y_test, best_predictions))\n",
    "print \"F-score on testing data: {:.4f}\".format(fbeta_score(y_test, best_predictions, beta = 0.5))\n",
    "print \"\\nFinal Model trained on reduced data\\n------\"\n",
    "print \"Accuracy on testing data: {:.4f}\".format(accuracy_score(y_test, reduced_predictions))\n",
    "print \"F-score on testing data: {:.4f}\".format(fbeta_score(y_test, reduced_predictions, beta = 0.5))"
   ]
  },
  {
   "cell_type": "markdown",
   "metadata": {},
   "source": [
    "### 问题 8 - 特征选择的影响\n",
    "\n",
    "*最终模型在只是用五个特征的数据上和使用所有的特征数据上的F-score和准确率相比怎么样？*  \n",
    "*如果训练时间是一个要考虑的因素，你会考虑使用部分特征的数据作为你的训练集吗？*"
   ]
  },
  {
   "cell_type": "markdown",
   "metadata": {},
   "source": [
    "**回答：**  \n",
    "使用五个特征准确率比全部特征的准确率低，差0.0411，五个特征F-Score低于全部特征的，差0.1075，总体来看差异不算太大，说明这五个特征确实重要性比较高。   \n",
    "如果训练时间非常长，可以考虑只使用部分特征。"
   ]
  },
  {
   "cell_type": "markdown",
   "metadata": {},
   "source": [
    "> **注意：** 当你写完了所有的代码，并且回答了所有的问题。你就可以把你的 iPython Notebook 导出成 HTML 文件。你可以在菜单栏，这样导出**File -> Download as -> HTML (.html)**把这个 HTML 和这个 iPython notebook 一起做为你的作业提交。"
   ]
  }
 ],
 "metadata": {
  "anaconda-cloud": {},
  "kernelspec": {
   "display_name": "Python 2",
   "language": "python",
   "name": "python2"
  },
  "language_info": {
   "codemirror_mode": {
    "name": "ipython",
    "version": 2
   },
   "file_extension": ".py",
   "mimetype": "text/x-python",
   "name": "python",
   "nbconvert_exporter": "python",
   "pygments_lexer": "ipython2",
   "version": "2.7.13"
  },
  "latex_envs": {
   "LaTeX_envs_menu_present": true,
   "autocomplete": true,
   "bibliofile": "biblio.bib",
   "cite_by": "apalike",
   "current_citInitial": 1,
   "eqLabelWithNumbers": true,
   "eqNumInitial": 1,
   "hotkeys": {
    "equation": "Ctrl-E",
    "itemize": "Ctrl-I"
   },
   "labels_anchors": false,
   "latex_user_defs": false,
   "report_style_numbering": false,
   "user_envs_cfg": false
  }
 },
 "nbformat": 4,
 "nbformat_minor": 1
}
