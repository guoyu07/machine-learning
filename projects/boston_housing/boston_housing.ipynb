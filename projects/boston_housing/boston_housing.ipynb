{
 "cells": [
  {
   "cell_type": "markdown",
   "metadata": {},
   "source": [
    "# 机器学习工程师纳米学位\n",
    "## 模型评价与验证\n",
    "## 项目 1: 预测波士顿房价\n",
    "\n",
    "\n",
    "欢迎来到机器学习工程师纳米学位的第一个项目！在此文件中，有些示例代码已经提供给你，但你还需要实现更多的功能来让项目成功运行。除非有明确要求，你无须修改任何已给出的代码。以**'练习'**开始的标题表示接下来的内容中有需要你必须实现的功能。每一部分都会有详细的指导，需要实现的部分也会在注释中以**'TODO'**标出。请仔细阅读所有的提示！\n",
    "\n",
    "除了实现代码外，你还**必须**回答一些与项目和实现有关的问题。每一个需要你回答的问题都会以**'问题 X'**为标题。请仔细阅读每个问题，并且在问题后的**'回答'**文字框中写出完整的答案。你的项目将会根据你对问题的回答和撰写代码所实现的功能来进行评分。\n",
    "\n",
    ">**提示：**Code 和 Markdown 区域可通过 **Shift + Enter** 快捷键运行。此外，Markdown可以通过双击进入编辑模式。"
   ]
  },
  {
   "cell_type": "markdown",
   "metadata": {},
   "source": [
    "## 开始\n",
    "在这个项目中，你将利用马萨诸塞州波士顿郊区的房屋信息数据训练和测试一个模型，并对模型的性能和预测能力进行测试。通过该数据训练后的好的模型可以被用来对房屋做特定预测---尤其是对房屋的价值。对于房地产经纪等人的日常工作来说，这样的预测模型被证明非常有价值。\n",
    "\n",
    "此项目的数据集来自[UCI机器学习知识库](https://archive.ics.uci.edu/ml/datasets/Housing)。波士顿房屋这些数据于1978年开始统计，共506个数据点，涵盖了麻省波士顿不同郊区房屋14种特征的信息。本项目对原始数据集做了以下处理：\n",
    "- 有16个`'MEDV'` 值为50.0的数据点被移除。 这很可能是由于这些数据点包含**遗失**或**看不到的值**。\n",
    "- 有1个数据点的 `'RM'` 值为8.78. 这是一个异常值，已经被移除。\n",
    "- 对于本项目，房屋的`'RM'`， `'LSTAT'`，`'PTRATIO'`以及`'MEDV'`特征是必要的，其余不相关特征已经被移除。\n",
    "- `'MEDV'`特征的值已经过必要的数学转换，可以反映35年来市场的通货膨胀效应。\n",
    "\n",
    "运行下面区域的代码以载入波士顿房屋数据集，以及一些此项目所需的Python库。如果成功返回数据集的大小，表示数据集已载入成功。"
   ]
  },
  {
   "cell_type": "code",
   "execution_count": 1,
   "metadata": {
    "collapsed": false
   },
   "outputs": [
    {
     "name": "stdout",
     "output_type": "stream",
     "text": [
      "Boston housing dataset has 489 data points with 4 variables each.\n"
     ]
    },
    {
     "name": "stderr",
     "output_type": "stream",
     "text": [
      "/home/bigdata/bin/anaconda2/envs/tensorflow/lib/python2.7/site-packages/sklearn/cross_validation.py:44: DeprecationWarning: This module was deprecated in version 0.18 in favor of the model_selection module into which all the refactored classes and functions are moved. Also note that the interface of the new CV iterators are different from that of this module. This module will be removed in 0.20.\n",
      "  \"This module will be removed in 0.20.\", DeprecationWarning)\n",
      "/home/bigdata/bin/anaconda2/envs/tensorflow/lib/python2.7/site-packages/sklearn/learning_curve.py:23: DeprecationWarning: This module was deprecated in version 0.18 in favor of the model_selection module into which all the functions are moved. This module will be removed in 0.20\n",
      "  DeprecationWarning)\n"
     ]
    }
   ],
   "source": [
    "# Import libraries necessary for this project\n",
    "# 载入此项目所需要的库\n",
    "import numpy as np\n",
    "import pandas as pd\n",
    "import visuals as vs # Supplementary code\n",
    "from IPython.display import display\n",
    "\n",
    "# Pretty display for notebooks\n",
    "# 让结果在notebook中显示\n",
    "%matplotlib inline\n",
    "\n",
    "# Load the Boston housing dataset\n",
    "# 载入波士顿房屋的数据集\n",
    "data = pd.read_csv('housing.csv')\n",
    "prices = data['MEDV']\n",
    "features = data.drop('MEDV', axis = 1)\n",
    "    \n",
    "# Success\n",
    "# 完成\n",
    "print \"Boston housing dataset has {} data points with {} variables each.\".format(*data.shape)"
   ]
  },
  {
   "cell_type": "markdown",
   "metadata": {},
   "source": [
    "### [debug] 查看数据情况"
   ]
  },
  {
   "cell_type": "code",
   "execution_count": 2,
   "metadata": {
    "collapsed": false
   },
   "outputs": [
    {
     "data": {
      "text/html": [
       "<div>\n",
       "<table border=\"1\" class=\"dataframe\">\n",
       "  <thead>\n",
       "    <tr style=\"text-align: right;\">\n",
       "      <th></th>\n",
       "      <th>RM</th>\n",
       "      <th>LSTAT</th>\n",
       "      <th>PTRATIO</th>\n",
       "    </tr>\n",
       "  </thead>\n",
       "  <tbody>\n",
       "    <tr>\n",
       "      <th>0</th>\n",
       "      <td>6.575</td>\n",
       "      <td>4.98</td>\n",
       "      <td>15.3</td>\n",
       "    </tr>\n",
       "    <tr>\n",
       "      <th>1</th>\n",
       "      <td>6.421</td>\n",
       "      <td>9.14</td>\n",
       "      <td>17.8</td>\n",
       "    </tr>\n",
       "    <tr>\n",
       "      <th>2</th>\n",
       "      <td>7.185</td>\n",
       "      <td>4.03</td>\n",
       "      <td>17.8</td>\n",
       "    </tr>\n",
       "    <tr>\n",
       "      <th>3</th>\n",
       "      <td>6.998</td>\n",
       "      <td>2.94</td>\n",
       "      <td>18.7</td>\n",
       "    </tr>\n",
       "    <tr>\n",
       "      <th>4</th>\n",
       "      <td>7.147</td>\n",
       "      <td>5.33</td>\n",
       "      <td>18.7</td>\n",
       "    </tr>\n",
       "  </tbody>\n",
       "</table>\n",
       "</div>"
      ],
      "text/plain": [
       "      RM  LSTAT  PTRATIO\n",
       "0  6.575   4.98     15.3\n",
       "1  6.421   9.14     17.8\n",
       "2  7.185   4.03     17.8\n",
       "3  6.998   2.94     18.7\n",
       "4  7.147   5.33     18.7"
      ]
     },
     "metadata": {},
     "output_type": "display_data"
    },
    {
     "data": {
      "text/plain": [
       "count    4.890000e+02\n",
       "mean     4.543429e+05\n",
       "std      1.653403e+05\n",
       "min      1.050000e+05\n",
       "25%      3.507000e+05\n",
       "50%      4.389000e+05\n",
       "75%      5.187000e+05\n",
       "max      1.024800e+06\n",
       "Name: MEDV, dtype: float64"
      ]
     },
     "execution_count": 2,
     "metadata": {},
     "output_type": "execute_result"
    }
   ],
   "source": [
    "display(features.head())\n",
    "prices.describe()"
   ]
  },
  {
   "cell_type": "markdown",
   "metadata": {},
   "source": [
    "## 分析数据\n",
    "在项目的第一个部分，你会对波士顿房地产数据进行初步的观察并给出你的分析。通过对数据的探索来熟悉数据可以让你更好地理解和解释你的结果。\n",
    "\n",
    "由于这个项目的最终目标是建立一个预测房屋价值的模型，我们需要将数据集分为**特征(features)**和**目标变量(target variable)**。**特征** `'RM'`， `'LSTAT'`，和 `'PTRATIO'`，给我们提供了每个数据点的数量相关的信息。**目标变量**：` 'MEDV'`，是我们希望预测的变量。他们分别被存在`features`和`prices`两个变量名中。"
   ]
  },
  {
   "cell_type": "markdown",
   "metadata": {},
   "source": [
    "## 练习：基础统计运算\n",
    "你的第一个编程练习是计算有关波士顿房价的描述统计数据。我们已为你导入了` numpy `，你需要使用这个库来执行必要的计算。这些统计数据对于分析模型的预测结果非常重要的。\n",
    "在下面的代码中，你要做的是：\n",
    "- 计算`prices`中的`'MEDV'`的最小值、最大值、均值、中值和标准差；\n",
    "- 将运算结果储存在相应的变量中。"
   ]
  },
  {
   "cell_type": "code",
   "execution_count": 3,
   "metadata": {
    "collapsed": false
   },
   "outputs": [
    {
     "name": "stdout",
     "output_type": "stream",
     "text": [
      "Statistics for Boston housing dataset:\n",
      "\n",
      "Minimum price: $105,000.00\n",
      "Maximum price: $1,024,800.00\n",
      "Mean price: $454,342.94\n",
      "Median price $438,900.00\n",
      "Standard deviation of prices: $165,340.28\n"
     ]
    }
   ],
   "source": [
    "# TODO: Minimum price of the data\n",
    "#目标：计算价值的最小值\n",
    "minimum_price = prices.min()\n",
    "\n",
    "# TODO: Maximum price of the data\n",
    "#目标：计算价值的最大值\n",
    "maximum_price = prices.max()\n",
    "\n",
    "# TODO: Mean price of the data\n",
    "#目标：计算价值的平均值\n",
    "mean_price = prices.mean()\n",
    "\n",
    "# TODO: Median price of the data\n",
    "#目标：计算价值的中值\n",
    "median_price = prices.median()\n",
    "\n",
    "# TODO: Standard deviation of prices of the data\n",
    "#目标：计算价值的标准差\n",
    "std_price = prices.std()\n",
    "\n",
    "# Show the calculated statistics\n",
    "#目标：输出计算的结果\n",
    "print \"Statistics for Boston housing dataset:\\n\"\n",
    "print \"Minimum price: ${:,.2f}\".format(minimum_price)\n",
    "print \"Maximum price: ${:,.2f}\".format(maximum_price)\n",
    "print \"Mean price: ${:,.2f}\".format(mean_price)\n",
    "print \"Median price ${:,.2f}\".format(median_price)\n",
    "print \"Standard deviation of prices: ${:,.2f}\".format(std_price)"
   ]
  },
  {
   "cell_type": "markdown",
   "metadata": {},
   "source": [
    "### 问题1 - 特征观察\n",
    "\n",
    "如前文所述，本项目中我们关注的是其中三个值:`'RM'`、`'LSTAT'` 和`'PTRATIO'`，对每一个数据点:\n",
    "- `'RM'` 是该地区中每个房屋的平均房间数量；\n",
    "- `'LSTAT'` 是指该地区有多少百分比的房东属于是低收入阶层（有工作但收入微薄）；\n",
    "- `'PTRATIO'` 是该地区的中学和小学里，学生和老师的数目比（`学生/老师`）。\n",
    "\n",
    "_凭直觉，上述三个特征中对每一个来说，你认为增大该特征的数值，`'MEDV'`的值会是**增大**还是**减小**呢？每一个答案都需要你给出理由。_\n",
    "\n",
    "**提示：**你预期一个`'RM'` 值是6的房屋跟`'RM'` 值是7的房屋相比，价值更高还是更低呢？"
   ]
  },
  {
   "cell_type": "markdown",
   "metadata": {},
   "source": [
    "**回答: **  \n",
    "- RM： RM增大，MEDV增大。理由：房间数越多，可使用面积越大，房屋的价值越高。  \n",
    "- LSTAT：LSTAT增大,MEDV减小。理由：收入高的人消费能力高，会购买更好的房子，房间数目多，周边环境好，配套设施完善，这样的房子价值自然高，小区的高档程度是跟收入正相关的，反之亦然。  \n",
    "- PTRATIO：PTRATIO增大，MEDV减小。理由：学生和老师数目比反映了房屋周边的教育资源丰富程度，是房屋的附加价值，教育资源越丰富，房价越高。 PTRATIO越大，说明学生多，老师少，教育资源趋向贫乏，从而房价越低。"
   ]
  },
  {
   "cell_type": "markdown",
   "metadata": {},
   "source": [
    "## 建模\n",
    "在项目的第二部分中，你需要了解必要的工具和技巧来让你的模型进行预测。用这些工具和技巧对每一个模型的表现做精确的衡量可以极大地增强你预测的信心。"
   ]
  },
  {
   "cell_type": "markdown",
   "metadata": {},
   "source": [
    "### 练习：定义衡量标准\n",
    "如果不能对模型的训练和测试的表现进行量化地评估，我们就很难衡量模型的好坏。通常我们会定义一些衡量标准，这些标准可以通过对某些误差或者拟合程度的计算来得到。在这个项目中，你将通过运算[*决定系数*](http://stattrek.com/statistics/dictionary.aspx?definition=coefficient_of_determination) R<sup>2</sup> 来量化模型的表现。模型的决定系数是回归分析中十分常用的统计信息，经常被当作衡量模型预测能力好坏的标准。\n",
    "\n",
    "R<sup>2</sup>的数值范围从0至1，表示**目标变量**的预测值和实际值之间的相关程度平方的百分比。一个模型的R<sup>2</sup> 值为0还不如直接用**平均值**来预测效果好；而一个R<sup>2</sup> 值为1的模型则可以对目标变量进行完美的预测。从0至1之间的数值，则表示该模型中目标变量中有百分之多少能够用**特征**来解释。_模型也可能出现负值的R<sup>2</sup>，这种情况下模型所做预测有时会比直接计算目标变量的平均值差很多。_\n",
    "\n",
    "在下方代码的 `performance_metric` 函数中，你要实现：\n",
    "- 使用 `sklearn.metrics` 中的 `r2_score` 来计算 `y_true` 和 `y_predict`的R<sup>2</sup>值，作为对其表现的评判。\n",
    "- 将他们的表现评分储存到`score`变量中。"
   ]
  },
  {
   "cell_type": "code",
   "execution_count": 4,
   "metadata": {
    "collapsed": false
   },
   "outputs": [],
   "source": [
    "# TODO: Import 'r2_score'\n",
    "from sklearn.metrics import r2_score\n",
    "\n",
    "def performance_metric(y_true, y_predict):\n",
    "    \"\"\" Calculates and returns the performance score between \n",
    "        true and predicted values based on the metric chosen. \"\"\"\n",
    "    \n",
    "    # TODO: Calculate the performance score between 'y_true' and 'y_predict'\n",
    "    score = r2_score(y_true, y_predict)\n",
    "    \n",
    "    # Return the score\n",
    "    return score"
   ]
  },
  {
   "cell_type": "markdown",
   "metadata": {},
   "source": [
    "### 问题2 - 拟合程度\n",
    "\n",
    "假设一个数据集有五个数据且一个模型做出下列目标变量的预测：\n",
    "\n",
    "| 真实数值 | 预测数值 |\n",
    "| :-------------: | :--------: |\n",
    "| 3.0 | 2.5 |\n",
    "| -0.5 | 0.0 |\n",
    "| 2.0 | 2.1 |\n",
    "| 7.0 | 7.8 |\n",
    "| 4.2 | 5.3 |\n",
    "*你会觉得这个模型已成功地描述了目标变量的变化吗？如果成功，请解释为什么，如果没有，也请给出原因。*  \n",
    "\n",
    "运行下方的代码，使用`performance_metric`函数来计算模型的决定系数。"
   ]
  },
  {
   "cell_type": "code",
   "execution_count": 5,
   "metadata": {
    "collapsed": false
   },
   "outputs": [
    {
     "name": "stdout",
     "output_type": "stream",
     "text": [
      "Model has a coefficient of determination, R^2, of 0.923.\n"
     ]
    }
   ],
   "source": [
    "# Calculate the performance of this model\n",
    "score = performance_metric([3, -0.5, 2, 7, 4.2], [2.5, 0.0, 2.1, 7.8, 5.3])\n",
    "print \"Model has a coefficient of determination, R^2, of {:.3f}.\".format(score)"
   ]
  },
  {
   "cell_type": "markdown",
   "metadata": {},
   "source": [
    "### [debug]使用自己的方式评估模型"
   ]
  },
  {
   "cell_type": "code",
   "execution_count": 6,
   "metadata": {
    "collapsed": false
   },
   "outputs": [
    {
     "name": "stdout",
     "output_type": "stream",
     "text": [
      "count    5.000000\n",
      "mean     3.140000\n",
      "std      2.765502\n",
      "min     -0.500000\n",
      "25%      2.000000\n",
      "50%      3.000000\n",
      "75%      4.200000\n",
      "max      7.000000\n",
      "dtype: float64\n",
      "\n",
      "count    5.000000\n",
      "mean     3.540000\n",
      "std      3.038585\n",
      "min      0.000000\n",
      "25%      2.100000\n",
      "50%      2.500000\n",
      "75%      5.300000\n",
      "max      7.800000\n",
      "dtype: float64\n",
      "\n",
      "count    5.0000\n",
      "mean    -0.4000\n",
      "std      0.6245\n",
      "min     -1.1000\n",
      "25%     -0.8000\n",
      "50%     -0.5000\n",
      "75%     -0.1000\n",
      "max      0.5000\n",
      "dtype: float64\n",
      "\n",
      "-0.350318471338 0.15923566879\n"
     ]
    }
   ],
   "source": [
    "data_true = pd.Series([3.0, -0.5, 2.0, 7.0, 4.2])\n",
    "data_predict = pd.Series([2.5, 0.0, 2.1, 7.8, 5.3])\n",
    "diff = data_true - data_predict\n",
    "desc_true = data_true.describe()\n",
    "print desc_true\n",
    "print \"\"\n",
    "desc_predict = data_predict.describe()\n",
    "print desc_predict\n",
    "print \"\"\n",
    "desc_diff = diff.describe()\n",
    "print desc_diff\n",
    "print \"\"\n",
    "\n",
    "print desc_diff.ix['min']/desc_true.ix['mean'], desc_diff.ix['max']/desc_true.ix['mean'] "
   ]
  },
  {
   "cell_type": "markdown",
   "metadata": {},
   "source": [
    "**回答:**  \n",
    "未成功描述模板变量的变化，预测数值与真实值的残差范围在[0.1,1.1]之间，残差与真实值平均数之比在[-35%，15%]之间，残差太大。差距幅度在50%，模型也不稳定。"
   ]
  },
  {
   "cell_type": "markdown",
   "metadata": {},
   "source": [
    "### 练习: 数据分割与重排\n",
    "接下来，你需要把波士顿房屋数据集分成训练和测试两个子集。通常在这个过程中，数据也会被重新排序，以消除数据集中由于排序而产生的偏差。\n",
    "在下面的代码中，你需要：\n",
    "- 使用 `sklearn.cross_validation` 中的 `train_test_split`， 将`features`和`prices`的数据都分成用于训练的数据子集和用于测试的数据子集。\n",
    "  - 分割比例为：80%的数据用于训练，20%用于测试；\n",
    "  - 选定一个数值以设定 `train_test_split` 中的 `random_state` ，这会确保结果的一致性；\n",
    "- 最终分离出的子集为`X_train`,`X_test`,`y_train`,和`y_test`。"
   ]
  },
  {
   "cell_type": "code",
   "execution_count": 7,
   "metadata": {
    "collapsed": false
   },
   "outputs": [
    {
     "name": "stdout",
     "output_type": "stream",
     "text": [
      "Training and testing split was successful.\n"
     ]
    }
   ],
   "source": [
    "# TODO: Import 'train_test_split'\n",
    "from sklearn.cross_validation import train_test_split\n",
    "\n",
    "# TODO: Shuffle and split the data into training and testing subsets\n",
    "X_train, X_test, y_train, y_test = train_test_split(features, prices, test_size=0.2, random_state=42)\n",
    "\n",
    "# Success\n",
    "print \"Training and testing split was successful.\""
   ]
  },
  {
   "cell_type": "markdown",
   "metadata": {},
   "source": [
    "### 问题 3- 训练及测试\n",
    "*将数据集按一定比例分为训练用的数据集和测试用的数据集对学习算法有什么好处？*\n",
    "\n",
    "**提示：** 如果没有数据来对模型进行测试，会出现什么问题？"
   ]
  },
  {
   "cell_type": "markdown",
   "metadata": {},
   "source": [
    "**答案: **  \n",
    "按一定比例分割训练数据和测试数据是为了找到能匹配数据特征，泛化又比较好的模型。如果训练数据太多，测试数据太少，可能出现过拟合。如果训练的数据太少，测试数据太多，可能出现欠拟合。"
   ]
  },
  {
   "cell_type": "markdown",
   "metadata": {},
   "source": [
    "----\n",
    "\n",
    "## 分析模型的表现\n",
    "在项目的第三部分，我们来看一下几个模型针对不同的数据集在学习和测试上的表现。另外，你需要专注于一个特定的算法，用全部训练集训练时，提高它的`'max_depth'` 参数，观察这一参数的变化如何影响模型的表现。把你模型的表现画出来对于分析过程十分有益。可视化可以让我们看到一些单看结果看不到的行为。"
   ]
  },
  {
   "cell_type": "markdown",
   "metadata": {},
   "source": [
    "### 学习曲线\n",
    "下方区域内的代码会输出四幅图像，它们是一个决策树模型在不同最大深度下的表现。每一条曲线都直观的显示了随着训练数据量的增加，模型学习曲线的训练评分和测试评分的变化。注意，曲线的阴影区域代表的是该曲线的不确定性（用标准差衡量）。这个模型的训练和测试部分都使用决定系数R<sup>2</sup>来评分。\n",
    "\n",
    "运行下方区域中的代码，并利用输出的图形回答下面的问题。"
   ]
  },
  {
   "cell_type": "code",
   "execution_count": 8,
   "metadata": {
    "collapsed": false,
    "scrolled": false
   },
   "outputs": [
    {
     "data": {
      "image/png": "[encoded data removed]",
      "text/plain": [
       "<matplotlib.figure.Figure at 0x7fd2740ef3d0>"
      ]
     },
     "metadata": {},
     "output_type": "display_data"
    }
   ],
   "source": [
    "# Produce learning curves for varying training set sizes and maximum depths\n",
    "vs.ModelLearning(features, prices)"
   ]
  },
  {
   "cell_type": "markdown",
   "metadata": {},
   "source": [
    "### 问题 4 - 学习数据\n",
    "*选择上述图像中的其中一个，并给出其最大深度。随着训练数据量的增加，训练曲线的评分有怎样的变化？测试曲线呢？如果有更多的训练数据，是否能有效提升模型的表现呢？*\n",
    "**提示：**学习曲线的评分是否最终会收敛到特定的值？"
   ]
  },
  {
   "cell_type": "markdown",
   "metadata": {},
   "source": [
    "**答案: ** \n",
    "第二幅图像，max_depth = 3。随着训练数据量增加，训练曲线逐渐下降并趋于平稳，测试曲线逐渐上升并趋于平稳。  \n",
    "更多的训练数据不能持续提升模型的表现，最终会收敛到某个特定值。因为模型如果见过了数据的所有特征，再多的数据就不会对模型有所影响了。"
   ]
  },
  {
   "cell_type": "markdown",
   "metadata": {},
   "source": [
    "### 复杂度曲线\n",
    "下列代码内的区域会输出一幅图像，它展示了一个已经经过训练和验证的决策树模型在不同最大深度条件下的表现。这个图形将包含两条曲线，一个是训练的变化，一个是测试的变化。跟**学习曲线**相似，阴影区域代表该曲线的不确定性，模型训练和测试部分的评分都用的 `performance_metric` 函数。\n",
    "\n",
    "运行下方区域中的代码，并利用输出的图形并回答下面的两个问题。"
   ]
  },
  {
   "cell_type": "code",
   "execution_count": 9,
   "metadata": {
    "collapsed": false
   },
   "outputs": [
    {
     "data": {
      "image/png": "[encoded data removed]",
      "text/plain": [
       "<matplotlib.figure.Figure at 0x7fd245670490>"
      ]
     },
     "metadata": {},
     "output_type": "display_data"
    }
   ],
   "source": [
    "vs.ModelComplexity(X_train, y_train)"
   ]
  },
  {
   "cell_type": "markdown",
   "metadata": {},
   "source": [
    "### 问题 5- 偏差与方差之间的权衡取舍\n",
    "*当模型以最大深度 1训练时，模型的预测是出现很大的偏差还是出现了很大的方差？当模型以最大深度10训练时，情形又如何呢？图形中的哪些特征能够支持你的结论？*\n",
    "  \n",
    "**提示：** 你如何得知模型是否出现了偏差很大或者方差很大的问题？"
   ]
  },
  {
   "cell_type": "markdown",
   "metadata": {},
   "source": [
    "**答案: **  以最大深度为1训练时，模型预测出现偏差。以最大深度为10训练时，模型预测出现方差。  \n",
    "**论据: **当最大深度分别为1，2，3时，Training Score 和 Validation Score 曲线形状相似，可以通过平移达到一致，但当最大深度为10时，Training Score 和 Validation Score 曲线的趋势已经是相反的了，形态完全不同，无法通过平移达到一致。"
   ]
  },
  {
   "cell_type": "markdown",
   "metadata": {},
   "source": [
    "### 问题 6- 最优模型的猜测\n",
    "*你认为最大深度是多少的模型能够最好地对未见过的数据进行预测？为什么你会得出了这个答案？*"
   ]
  },
  {
   "cell_type": "markdown",
   "metadata": {},
   "source": [
    "**答案: **\n",
    "最大深度为4的模型最好。  \n",
    "**原因:** 在最大深度为4时，已经达到了拐点，最大深度大于4时时，验证数据的分数开始下降，而在4之前，验证数据分数呈上升趋势。"
   ]
  },
  {
   "cell_type": "markdown",
   "metadata": {},
   "source": [
    "-----\n",
    "\n",
    "## 评价模型表现\n",
    "在这个项目的最后，你将自己建立模型，并使用最优化的`fit_model`函数，基于客户房子的特征来预测该房屋的价值。"
   ]
  },
  {
   "cell_type": "markdown",
   "metadata": {},
   "source": [
    "### 问题 7- 网格搜索（Grid Search）\n",
    "*什么是网格搜索法？如何用它来优化学习算法？*\n"
   ]
  },
  {
   "cell_type": "markdown",
   "metadata": {},
   "source": [
    "**回答: **\n",
    "网格搜索在给定模型和参数范围的情况下，遍历所有参数组合，对每个参数组合进行训练、验证，并找出最优的参数组合。使用网格搜索可以大大简化人工尝试参数的过程，节省调参时间。  \n",
    "scikit-lean提供的sklearn.model_selection.GridSearchCV实现了网格搜索，指定模型、参数空间、打分器即可使用。"
   ]
  },
  {
   "cell_type": "markdown",
   "metadata": {},
   "source": [
    "### 问题 8- 交叉验证\n",
    "*什么是K折交叉验证法（k-fold cross-validation）？优化模型时，使用这种方法对网格搜索有什么好处？* \n",
    "\n",
    "**提示：** 跟为何需要一组测试集的原因差不多，网格搜索时如果不使用交叉验证会有什么问题？"
   ]
  },
  {
   "cell_type": "markdown",
   "metadata": {},
   "source": [
    "**答案: **  \n",
    "**K折交叉验证法: **将训练数据分成K组，每组取一份作为验证数据，该组其他数据作为训练数据。使用每组的训练数据和测试数据分布进行训练和测试，该方法是交叉验证运行次数和验证效果的一个折衷。\n",
    "\n",
    "\n",
    "**对于网格搜索的好处: **可使网格搜索在相对短的时间内可以找到最优的参数。如果不使用交叉验证，很可能找出的参数会出现欠拟合，或者过拟合。而如果使用完全交叉验证，由于验证次数太多，导致网格搜索运行时间会比较长。"
   ]
  },
  {
   "cell_type": "markdown",
   "metadata": {},
   "source": [
    "### 练习：训练模型\n",
    "在最后一个练习中，你将需要将所学到的内容整合，使用**决策树演算法**训练一个模型。为了保证你得出的是一个最优模型，你需要使用网格搜索法训练模型，以找到最佳的 `'max_depth'` 参数。你可以把`'max_depth'` 参数理解为决策树算法在做出预测前，允许其对数据提出问题的数量。决策树是**监督学习算法**中的一种。\n",
    "\n",
    "此外，你会发现你的实现使用的是 `ShuffleSplit()` 。它也是交叉验证的一种方式（见变量 `'cv_sets'`）。虽然这不是**问题8**中描述的 K-Fold 交叉验证，这个教程验证方法也很有用！这里 `ShuffleSplit()` 会创造10个(`'n_splits'`)混洗过的集合，每个集合中20%(`'test_size'`)的数据会被用作**验证集**。当你在实现的时候，想一想这跟 K-Fold 交叉验证有哪些相同点，哪些不同点？\n",
    "\n",
    "在下方 `fit_model` 函数中，你需要做的是：\n",
    "- 使用  `sklearn.tree` 中的 [`DecisionTreeRegressor`](http://scikit-learn.org/stable/modules/generated/sklearn.tree.DecisionTreeRegressor.html) 创建一个决策树的回归函数；\n",
    "  - 将这个回归函数储存到 `'regressor'` 变量中；\n",
    "- 为 `'max_depth'` 创造一个字典，它的值是从1至10的数组，并储存到 `'params'` 变量中；\n",
    "- 使用 `sklearn.metrics` 中的 [`make_scorer`](http://scikit-learn.org/stable/modules/generated/sklearn.metrics.make_scorer.html)  创建一个评分函数；\n",
    "  - 将 `performance_metric` 作为参数传至这个函数中；\n",
    "  - 将评分函数储存到 `'scoring_fnc'` 变量中；\n",
    "- 使用 `sklearn.grid_search` 中的 [`GridSearchCV`](http://scikit-learn.org/stable/modules/generated/sklearn.grid_search.GridSearchCV.html) 创建一个网格搜索对象；\n",
    "  - 将变量`'regressor'`, `'params'`, `'scoring_fnc'`, 和 `'cv_sets'` 作为参数传至这个对象中；\n",
    "  - 将 `GridSearchCV` 存到 `'grid'` 变量中。\n",
    "  \n",
    "如果有同学对python函数如何传递多个参数不熟悉，可以参考这个MIT课程的[视频](http://cn-static.udacity.com/mlnd/videos/MIT600XXT114-V004200_DTH.mp4)。"
   ]
  },
  {
   "cell_type": "code",
   "execution_count": 10,
   "metadata": {
    "collapsed": false
   },
   "outputs": [
    {
     "name": "stderr",
     "output_type": "stream",
     "text": [
      "/home/bigdata/bin/anaconda2/envs/tensorflow/lib/python2.7/site-packages/sklearn/grid_search.py:43: DeprecationWarning: This module was deprecated in version 0.18 in favor of the model_selection module into which all the refactored classes and functions are moved. This module will be removed in 0.20.\n",
      "  DeprecationWarning)\n"
     ]
    }
   ],
   "source": [
    "# TODO: Import 'make_scorer', 'DecisionTreeRegressor', and 'GridSearchCV'\n",
    "\n",
    "from sklearn.metrics import make_scorer\n",
    "from sklearn.tree import DecisionTreeRegressor\n",
    "from sklearn.grid_search import GridSearchCV\n",
    "from sklearn.cross_validation import ShuffleSplit\n",
    "\n",
    "def fit_model(X, y):\n",
    "    \"\"\" Performs grid search over the 'max_depth' parameter for a \n",
    "        decision tree regressor trained on the input data [X, y]. \"\"\"\n",
    "    \n",
    "    # Create cross-validation sets from the training data\n",
    "    cv_sets = ShuffleSplit(X.shape[0], n_iter = 10, test_size = 0.20, random_state = 0)\n",
    "\n",
    "    # TODO: Create a decision tree regressor object\n",
    "    regressor = DecisionTreeRegressor()\n",
    "\n",
    "    # TODO: Create a dictionary for the parameter 'max_depth' with a range from 1 to 10\n",
    "    params = {\"max_depth\":[1, 2, 3, 4, 5, 6, 7, 8, 9, 10]}\n",
    "\n",
    "    # TODO: Transform 'performance_metric' into a scoring function using 'make_scorer' \n",
    "    scoring_fnc = make_scorer(performance_metric)\n",
    "\n",
    "    # TODO: Create the grid search object\n",
    "    grid = GridSearchCV(regressor, params, scoring=scoring_fnc)\n",
    "\n",
    "    # Fit the grid search object to the data to compute the optimal model\n",
    "    grid = grid.fit(X, y)\n",
    "\n",
    "    # Return the optimal model after fitting the data\n",
    "    return grid.best_estimator_"
   ]
  },
  {
   "cell_type": "markdown",
   "metadata": {},
   "source": [
    "### 做出预测\n",
    "当我们用数据训练出一个模型，它现在就可用于对新的数据进行预测。在决策树回归函数中，模型已经学会对新输入的数据*提问*，并返回对**目标变量**的预测值。你可以用这个预测来获取数据未知目标变量的信息，这些数据必须是不包含在训练数据之内的。"
   ]
  },
  {
   "cell_type": "markdown",
   "metadata": {},
   "source": [
    "### 问题 9- 最优模型\n",
    "*最优模型的最大深度（maximum depth）是多少？此答案与你在**问题 6**所做的猜测是否相同？*\n",
    "\n",
    "运行下方区域内的代码，将决策树回归函数代入训练数据的集合，以得到最优化的模型。"
   ]
  },
  {
   "cell_type": "code",
   "execution_count": 11,
   "metadata": {
    "collapsed": false,
    "scrolled": true
   },
   "outputs": [
    {
     "name": "stdout",
     "output_type": "stream",
     "text": [
      "Parameter 'max_depth' is 5 for the optimal model.\n"
     ]
    }
   ],
   "source": [
    "# Fit the training data to the model using grid search\n",
    "reg = fit_model(X_train, y_train)\n",
    "\n",
    "# Produce the value for 'max_depth'\n",
    "print \"Parameter 'max_depth' is {} for the optimal model.\".format(reg.get_params()['max_depth'])"
   ]
  },
  {
   "cell_type": "markdown",
   "metadata": {},
   "source": [
    "**Answer: **\n",
    "与问题6答案一致。"
   ]
  },
  {
   "cell_type": "markdown",
   "metadata": {},
   "source": [
    "### 问题 10 - 预测销售价格\n",
    "想像你是一个在波士顿地区的房屋经纪人，并期待使用此模型以帮助你的客户评估他们想出售的房屋。你已经从你的三个客户收集到以下的资讯:\n",
    "\n",
    "| 特征 | 客戶 1 | 客戶 2 | 客戶 3 |\n",
    "| :---: | :---: | :---: | :---: |\n",
    "| 房屋内房间总数 | 5 间房间 | 4 间房间 | 8 间房间 |\n",
    "| 社区贫困指数（％被认为是贫困阶层） | 17% | 32% | 3% |\n",
    "| 邻近学校的学生-老师比例 | 15：1 | 22：1 | 12：1 |\n",
    "\n",
    "*你会建议每位客户的房屋销售的价格为多少？从房屋特征的数值判断，这样的价格合理吗？* \n",
    "\n",
    "**提示：**用你在**分析数据**部分计算出来的统计信息来帮助你证明你的答案。\n",
    "\n",
    "运行下列的代码区域，使用你优化的模型来为每位客户的房屋价值做出预测。"
   ]
  },
  {
   "cell_type": "code",
   "execution_count": 12,
   "metadata": {
    "collapsed": false
   },
   "outputs": [
    {
     "name": "stdout",
     "output_type": "stream",
     "text": [
      "Predicted selling price for Client 1's home: $387,927.27\n",
      "Predicted selling price for Client 2's home: $230,316.28\n",
      "Predicted selling price for Client 3's home: $878,220.00\n"
     ]
    }
   ],
   "source": [
    "# Produce a matrix for client data\n",
    "client_data = [[5, 17, 15], # Client 1\n",
    "               [4, 32, 22], # Client 2\n",
    "               [8, 3, 12]]  # Client 3\n",
    "\n",
    "# Show predictions\n",
    "for i, price in enumerate(reg.predict(client_data)):\n",
    "    print \"Predicted selling price for Client {}'s home: ${:,.2f}\".format(i+1, price)"
   ]
  },
  {
   "cell_type": "markdown",
   "metadata": {},
   "source": [
    "### [debug] RM、LSTAT、PTRATIO与MEDV关系曲线"
   ]
  },
  {
   "cell_type": "code",
   "execution_count": 13,
   "metadata": {
    "collapsed": false
   },
   "outputs": [
    {
     "data": {
      "image/png": "[encoded data removed]",
      "text/plain": [
       "<matplotlib.figure.Figure at 0x7fd2457c8f50>"
      ]
     },
     "metadata": {},
     "output_type": "display_data"
    }
   ],
   "source": [
    "import matplotlib.pyplot as plt\n",
    "plt.figure(1,figsize=(10,5))\n",
    "dt_rm = data.sort_values('RM')\n",
    "dt_lstat = data.sort_values('LSTAT')\n",
    "dt_ptratio = data.sort_values('PTRATIO')\n",
    "\n",
    "line_rm, = plt.plot(dt_rm['RM'], dt_rm['MEDV'], color=\"red\")\n",
    "line_lstat, = plt.plot(dt_lstat['LSTAT'], dt_lstat['MEDV'], color=\"blue\")\n",
    "line_ptratio, = plt.plot(dt_ptratio['PTRATIO'], dt_ptratio['MEDV'], color=\"green\")\n",
    "plt.legend([line_rm, line_lstat, line_ptratio],[\"RM\", \"LSTAT\", \"PTRATIO\"], loc='upper right')\n",
    "\n",
    "ax=plt.gca()  \n",
    "ax.set_xticks(range(0,41,1))\n",
    "#ax.set_xticklabels(())\n",
    "plt.show()"
   ]
  },
  {
   "cell_type": "markdown",
   "metadata": {},
   "source": [
    "### [debug] 查看相似条件房价"
   ]
  },
  {
   "cell_type": "code",
   "execution_count": 14,
   "metadata": {
    "collapsed": false
   },
   "outputs": [
    {
     "name": "stdout",
     "output_type": "stream",
     "text": [
      "[([5, 17, 15], 403025.0), ([4, 32, 22], 237478.72), ([8, 3, 12], 931636.36)]\n"
     ]
    },
    {
     "data": {
      "text/html": [
       "<div>\n",
       "<table border=\"1\" class=\"dataframe\">\n",
       "  <thead>\n",
       "    <tr style=\"text-align: right;\">\n",
       "      <th></th>\n",
       "      <th>RM</th>\n",
       "      <th>LSTAT</th>\n",
       "      <th>PTRATIO</th>\n",
       "      <th>MEDV</th>\n",
       "    </tr>\n",
       "  </thead>\n",
       "  <tbody>\n",
       "    <tr>\n",
       "      <th>146</th>\n",
       "      <td>5.628</td>\n",
       "      <td>16.65</td>\n",
       "      <td>14.7</td>\n",
       "      <td>327600.0</td>\n",
       "    </tr>\n",
       "    <tr>\n",
       "      <th>156</th>\n",
       "      <td>5.272</td>\n",
       "      <td>16.14</td>\n",
       "      <td>14.7</td>\n",
       "      <td>275100.0</td>\n",
       "    </tr>\n",
       "  </tbody>\n",
       "</table>\n",
       "</div>"
      ],
      "text/plain": [
       "        RM  LSTAT  PTRATIO      MEDV\n",
       "146  5.628  16.65     14.7  327600.0\n",
       "156  5.272  16.14     14.7  275100.0"
      ]
     },
     "metadata": {},
     "output_type": "display_data"
    },
    {
     "data": {
      "text/html": [
       "<div>\n",
       "<table border=\"1\" class=\"dataframe\">\n",
       "  <thead>\n",
       "    <tr style=\"text-align: right;\">\n",
       "      <th></th>\n",
       "      <th>RM</th>\n",
       "      <th>LSTAT</th>\n",
       "      <th>PTRATIO</th>\n",
       "      <th>MEDV</th>\n",
       "    </tr>\n",
       "  </thead>\n",
       "  <tbody>\n",
       "    <tr>\n",
       "      <th>367</th>\n",
       "      <td>4.368</td>\n",
       "      <td>30.63</td>\n",
       "      <td>20.2</td>\n",
       "      <td>184800.0</td>\n",
       "    </tr>\n",
       "    <tr>\n",
       "      <th>371</th>\n",
       "      <td>4.880</td>\n",
       "      <td>30.62</td>\n",
       "      <td>20.2</td>\n",
       "      <td>214200.0</td>\n",
       "    </tr>\n",
       "  </tbody>\n",
       "</table>\n",
       "</div>"
      ],
      "text/plain": [
       "        RM  LSTAT  PTRATIO      MEDV\n",
       "367  4.368  30.63     20.2  184800.0\n",
       "371  4.880  30.62     20.2  214200.0"
      ]
     },
     "metadata": {},
     "output_type": "display_data"
    },
    {
     "data": {
      "text/html": [
       "<div>\n",
       "<table border=\"1\" class=\"dataframe\">\n",
       "  <thead>\n",
       "    <tr style=\"text-align: right;\">\n",
       "      <th></th>\n",
       "      <th>RM</th>\n",
       "      <th>LSTAT</th>\n",
       "      <th>PTRATIO</th>\n",
       "      <th>MEDV</th>\n",
       "    </tr>\n",
       "  </thead>\n",
       "  <tbody>\n",
       "    <tr>\n",
       "      <th>190</th>\n",
       "      <td>7.287</td>\n",
       "      <td>4.08</td>\n",
       "      <td>12.6</td>\n",
       "      <td>699300.0</td>\n",
       "    </tr>\n",
       "    <tr>\n",
       "      <th>196</th>\n",
       "      <td>7.610</td>\n",
       "      <td>3.11</td>\n",
       "      <td>14.7</td>\n",
       "      <td>888300.0</td>\n",
       "    </tr>\n",
       "    <tr>\n",
       "      <th>197</th>\n",
       "      <td>7.853</td>\n",
       "      <td>3.81</td>\n",
       "      <td>14.7</td>\n",
       "      <td>1018500.0</td>\n",
       "    </tr>\n",
       "    <tr>\n",
       "      <th>253</th>\n",
       "      <td>8.398</td>\n",
       "      <td>5.91</td>\n",
       "      <td>13.0</td>\n",
       "      <td>1024800.0</td>\n",
       "    </tr>\n",
       "    <tr>\n",
       "      <th>258</th>\n",
       "      <td>7.470</td>\n",
       "      <td>3.16</td>\n",
       "      <td>13.0</td>\n",
       "      <td>913500.0</td>\n",
       "    </tr>\n",
       "    <tr>\n",
       "      <th>270</th>\n",
       "      <td>7.820</td>\n",
       "      <td>3.76</td>\n",
       "      <td>14.9</td>\n",
       "      <td>953400.0</td>\n",
       "    </tr>\n",
       "    <tr>\n",
       "      <th>272</th>\n",
       "      <td>7.645</td>\n",
       "      <td>3.01</td>\n",
       "      <td>14.9</td>\n",
       "      <td>966000.0</td>\n",
       "    </tr>\n",
       "    <tr>\n",
       "      <th>288</th>\n",
       "      <td>7.041</td>\n",
       "      <td>4.74</td>\n",
       "      <td>14.8</td>\n",
       "      <td>609000.0</td>\n",
       "    </tr>\n",
       "  </tbody>\n",
       "</table>\n",
       "</div>"
      ],
      "text/plain": [
       "        RM  LSTAT  PTRATIO       MEDV\n",
       "190  7.287   4.08     12.6   699300.0\n",
       "196  7.610   3.11     14.7   888300.0\n",
       "197  7.853   3.81     14.7  1018500.0\n",
       "253  8.398   5.91     13.0  1024800.0\n",
       "258  7.470   3.16     13.0   913500.0\n",
       "270  7.820   3.76     14.9   953400.0\n",
       "272  7.645   3.01     14.9   966000.0\n",
       "288  7.041   4.74     14.8   609000.0"
      ]
     },
     "metadata": {},
     "output_type": "display_data"
    }
   ],
   "source": [
    "predict_result = zip(client_data, [403025.00,237478.72, 931636.36])\n",
    "\n",
    "def find_data(feture_name, min_value, max_value):\n",
    "    return data[(data[feture_name] < max_value) & (data[feture_name] > min_value)]\n",
    "\n",
    "def find(feture_names, feture_values, feture_delta):\n",
    "    params = zip(feture_names, feture_values, feture_delta)\n",
    "    condition = np.ones(data.shape[0],dtype = np.bool)\n",
    "    for p in params:\n",
    "        condition = condition & (data[p[0]] < p[1] + p[2]) & (data[p[0]] > p[1] - p[2])\n",
    "    return data[condition]\n",
    "\n",
    "print(predict_result)\n",
    "feture_names = ['RM', 'LSTAT', 'PTRATIO']\n",
    "display(find(feture_names, client_data[0], [1, 1, 1]))\n",
    "display(find(feture_names, client_data[1], [1, 2, 2]))\n",
    "display(find(feture_names, client_data[2], [1, 3, 3]))"
   ]
  },
  {
   "cell_type": "markdown",
   "metadata": {},
   "source": [
    "**答案: **  \n",
    "三位客户的房价预测的结果分别是 403025.00, 237478.72, 931636.36，根据历史数据显示，房间数量对房价影响最大，邻近学校的学生-老师比例次之，社区贫困指数对房价影响最小。第一位、第二位客户估值偏高，第三位客户估值偏低。"
   ]
  },
  {
   "cell_type": "markdown",
   "metadata": {},
   "source": [
    "### 敏感度\n",
    "\n",
    "一个最优的模型不一定是一个健壮模型。有的时候模型会过于复杂或者过于简单，以致于难以泛化新增添的数据；有的时候模型采用的学习算法并不适用于特定的数据结构；有的时候样本本身可能有太多噪点或样本过少，使得模型无法准确地预测目标变量。这些情况下我们会说模型是欠拟合的。执行下方区域中的代码，采用不同的训练和测试集执行 `fit_model` 函数10次。注意观察对一个特定的客户来说，预测是如何随训练数据的变化而变化的。"
   ]
  },
  {
   "cell_type": "code",
   "execution_count": 15,
   "metadata": {
    "collapsed": false
   },
   "outputs": [
    {
     "name": "stdout",
     "output_type": "stream",
     "text": [
      "Trial 1: $411,000.00\n",
      "Trial 2: $411,417.39\n",
      "Trial 3: $415,800.00\n",
      "Trial 4: $428,316.00\n",
      "Trial 5: $413,334.78\n",
      "Trial 6: $411,931.58\n",
      "Trial 7: $399,663.16\n",
      "Trial 8: $407,232.00\n",
      "Trial 9: $402,531.82\n",
      "Trial 10: $413,700.00\n",
      "\n",
      "Range in prices: $28,652.84\n"
     ]
    }
   ],
   "source": [
    "vs.PredictTrials(features, prices, fit_model, client_data)"
   ]
  },
  {
   "cell_type": "markdown",
   "metadata": {},
   "source": [
    "### 问题 11 - 实用性探讨\n",
    "*简单地讨论一下你建构的模型能否在现实世界中使用？* \n",
    "\n",
    "**提示：** 回答几个问题：\n",
    "- *1978年所采集的数据，在今天是否仍然适用？*\n",
    "- *数据中呈现的特征是否足够描述一个房屋？*\n",
    "- *模型是否足够健壮来保证预测的一致性？*\n",
    "- *在波士顿这样的大都市采集的数据，能否应用在其它乡镇地区？*"
   ]
  },
  {
   "cell_type": "markdown",
   "metadata": {},
   "source": [
    "**答案: ** 不能在现实世界使用。  \n",
    "1. 1978年所采集的数据与现在的数据差异很大。  \n",
    "2. 数据中呈现的特征太少，仅用于练习，比如地段、是否是别墅、房龄、等因素对房价影响很大，但这些因素都没考虑。  \n",
    "3. 模型不够健壮，使用相同的数据进行预测，多次价格差别很大。  \n",
    "4. 波士顿采集的数据，不一定适用于其他乡镇，城市和乡镇的房价规律会有差别。"
   ]
  },
  {
   "cell_type": "markdown",
   "metadata": {},
   "source": [
    "### 可选问题 - 预测北京房价\n",
    "\n",
    "（本题结果不影响项目是否通过）通过上面的实践，相信你对机器学习的一些常用概念有了很好的领悟和掌握。但利用70年代的波士顿房价数据进行建模的确对我们来说意义不是太大。现在你可以把你上面所学应用到北京房价数据集中`bj_housing.csv`。\n",
    "\n",
    "免责声明：考虑到北京房价受到宏观经济、政策调整等众多因素的直接影响，预测结果仅供参考。\n",
    "\n",
    "这个数据集的特征有：\n",
    "- Area：房屋面积，平方米\n",
    "- Room：房间数，间\n",
    "- Living: 厅数，间\n",
    "- School: 是否为学区房，0或1\n",
    "- Year: 房屋建造时间，年\n",
    "- Floor: 房屋所处楼层，层\n",
    "\n",
    "目标变量：\n",
    "- Value: 房屋人民币售价，万\n",
    "\n",
    "你可以参考上面学到的内容，拿这个数据集来练习数据分割与重排、定义衡量标准、训练模型、评价模型表现、使用交叉验证对参数进行调优并选出最佳参数，比较两者的差别，最终得出最佳模型对验证集的预测分数。"
   ]
  },
  {
   "cell_type": "code",
   "execution_count": 20,
   "metadata": {
    "collapsed": false
   },
   "outputs": [],
   "source": [
    "### 你的代码\n",
    "from sklearn.metrics import mean_squared_error\n",
    "from sklearn.metrics import mean_absolute_error\n",
    "from sklearn.metrics import median_absolute_error\n",
    "from sklearn.metrics import explained_variance_score\n",
    "\n",
    "from sklearn.cross_validation import KFold\n",
    "from sklearn.neighbors import KNeighborsRegressor\n",
    "\n",
    "\n",
    "### 准备数据\n",
    "data_bj = pd.read_csv('bj_housing.csv')\n",
    "features_bj = data_bj.drop('Value', axis=1)\n",
    "prices_bj = data_bj['Value']\n",
    "\n",
    "### 定义衡量标准（平均方差）\n",
    "def performance_metric_bj(y_true, y_predict):\n",
    "    return mean_squared_error(y_true, y_predict)\n",
    "\n",
    "### 打分器\n",
    "scorer_bj = make_scorer(performance_metric_bj)\n",
    "### 分割数据\n",
    "X_train_bj, X_test_bj, y_train_bj, y_test_bj = train_test_split(features_bj, prices_bj, test_size=0.25, random_state=18)\n",
    "\n",
    "\n",
    "### 使用交叉验证训练模型\n",
    "def train_model(regressor, params, scorer, X, y):\n",
    "    # 使用KFold交叉验证\n",
    "    kf = KFold(len(X), 10, shuffle=True, random_state=0)\n",
    "    \n",
    "    grid = GridSearchCV(regressor, params, scorer)\n",
    "    grid = grid.fit(X, y)\n",
    "    return grid.best_estimator_\n",
    "\n",
    "def multi_model_train(regressors, scorers, X_train, y_train, X_test, y_test):\n",
    "    \"\"\"使用多种评估模型和评估指标进行训练，返回每种模型和评估指标组合预测结果与真实值的误差表\"\"\"\n",
    "    result = [] \n",
    "    for regressor_name in regressors:\n",
    "        regressorTuple = regressors[regressor_name]\n",
    "        for scorer_name in scorers:\n",
    "            scorer = scorers[scorer_name]\n",
    "            model = train_model(regressorTuple[0], regressorTuple[1], scorer, X_train, y_train)\n",
    "            params_name, = regressorTuple[1]\n",
    "            # 用测试集数据验证模型\n",
    "            price_pred = []\n",
    "            for price in model.predict(X_test):\n",
    "                price_pred.append(price)\n",
    "\n",
    "            diff = np.abs(np.array(y_test - np.array(price_pred)))\n",
    "            result.append([regressor_name, params_name + \":\" + str(model.get_params()[params_name]), scorer_name, diff.max(), diff.min() , diff.mean(), diff.std()])        \n",
    "            \n",
    "    dt = pd.DataFrame(result, columns=[\"regressor\", \"params\", \"metric\", \"max\", \"min\", \"mean\", \"std\"])\n",
    "    return dt.sort_values(\"std\")\n",
    "\n",
    "\n",
    "def train_model_without_cv(regressor, X_train, y_train, X_test, y_test):\n",
    "    \"\"\"不使用交差验证训练模型，返回预测结果与真实值的误差表\"\"\"\n",
    "    regressor.fit(X_train, y_train)\n",
    "    target = regressor.predict(X_test)\n",
    "    diff = np.abs(np.array(y_test - np.array(target)))\n",
    "    result = [diff.max(), diff.min() , diff.mean(), diff.std()] \n",
    "    dt = pd.DataFrame([result], columns=[\"max\", \"min\", \"mean\", \"std\"])\n",
    "    return dt"
   ]
  },
  {
   "cell_type": "code",
   "execution_count": 17,
   "metadata": {
    "collapsed": false,
    "scrolled": false
   },
   "outputs": [
    {
     "name": "stdout",
     "output_type": "stream",
     "text": [
      "第1次运行\n"
     ]
    },
    {
     "data": {
      "text/html": [
       "<div>\n",
       "<table border=\"1\" class=\"dataframe\">\n",
       "  <thead>\n",
       "    <tr style=\"text-align: right;\">\n",
       "      <th></th>\n",
       "      <th>regressor</th>\n",
       "      <th>params</th>\n",
       "      <th>metric</th>\n",
       "      <th>max</th>\n",
       "      <th>min</th>\n",
       "      <th>mean</th>\n",
       "      <th>std</th>\n",
       "    </tr>\n",
       "  </thead>\n",
       "  <tbody>\n",
       "    <tr>\n",
       "      <th>8</th>\n",
       "      <td>KNeighbors</td>\n",
       "      <td>n_neighbors:20</td>\n",
       "      <td>median_absolute_error</td>\n",
       "      <td>3532.000000</td>\n",
       "      <td>0.250000</td>\n",
       "      <td>92.821720</td>\n",
       "      <td>126.318647</td>\n",
       "    </tr>\n",
       "    <tr>\n",
       "      <th>9</th>\n",
       "      <td>KNeighbors</td>\n",
       "      <td>n_neighbors:20</td>\n",
       "      <td>mean_absolute_error</td>\n",
       "      <td>3532.000000</td>\n",
       "      <td>0.250000</td>\n",
       "      <td>92.821720</td>\n",
       "      <td>126.318647</td>\n",
       "    </tr>\n",
       "    <tr>\n",
       "      <th>6</th>\n",
       "      <td>KNeighbors</td>\n",
       "      <td>n_neighbors:8</td>\n",
       "      <td>explained_variance_score</td>\n",
       "      <td>3778.750000</td>\n",
       "      <td>0.000000</td>\n",
       "      <td>89.305950</td>\n",
       "      <td>130.878840</td>\n",
       "    </tr>\n",
       "    <tr>\n",
       "      <th>7</th>\n",
       "      <td>KNeighbors</td>\n",
       "      <td>n_neighbors:8</td>\n",
       "      <td>r2_score</td>\n",
       "      <td>3778.750000</td>\n",
       "      <td>0.000000</td>\n",
       "      <td>89.305950</td>\n",
       "      <td>130.878840</td>\n",
       "    </tr>\n",
       "    <tr>\n",
       "      <th>1</th>\n",
       "      <td>DecisionTree</td>\n",
       "      <td>max_depth:6</td>\n",
       "      <td>explained_variance_score</td>\n",
       "      <td>3955.000000</td>\n",
       "      <td>0.000000</td>\n",
       "      <td>93.153004</td>\n",
       "      <td>133.854901</td>\n",
       "    </tr>\n",
       "    <tr>\n",
       "      <th>2</th>\n",
       "      <td>DecisionTree</td>\n",
       "      <td>max_depth:6</td>\n",
       "      <td>r2_score</td>\n",
       "      <td>3955.000000</td>\n",
       "      <td>0.000000</td>\n",
       "      <td>93.735004</td>\n",
       "      <td>138.551202</td>\n",
       "    </tr>\n",
       "    <tr>\n",
       "      <th>5</th>\n",
       "      <td>KNeighbors</td>\n",
       "      <td>n_neighbors:1</td>\n",
       "      <td>mean_squared_error</td>\n",
       "      <td>3800.000000</td>\n",
       "      <td>0.000000</td>\n",
       "      <td>61.632400</td>\n",
       "      <td>147.023959</td>\n",
       "    </tr>\n",
       "    <tr>\n",
       "      <th>0</th>\n",
       "      <td>DecisionTree</td>\n",
       "      <td>max_depth:1</td>\n",
       "      <td>mean_squared_error</td>\n",
       "      <td>4392.345369</td>\n",
       "      <td>0.253862</td>\n",
       "      <td>124.792043</td>\n",
       "      <td>156.948607</td>\n",
       "    </tr>\n",
       "    <tr>\n",
       "      <th>3</th>\n",
       "      <td>DecisionTree</td>\n",
       "      <td>max_depth:1</td>\n",
       "      <td>median_absolute_error</td>\n",
       "      <td>4392.345369</td>\n",
       "      <td>0.253862</td>\n",
       "      <td>124.792043</td>\n",
       "      <td>156.948607</td>\n",
       "    </tr>\n",
       "    <tr>\n",
       "      <th>4</th>\n",
       "      <td>DecisionTree</td>\n",
       "      <td>max_depth:1</td>\n",
       "      <td>mean_absolute_error</td>\n",
       "      <td>4392.345369</td>\n",
       "      <td>0.253862</td>\n",
       "      <td>124.792043</td>\n",
       "      <td>156.948607</td>\n",
       "    </tr>\n",
       "  </tbody>\n",
       "</table>\n",
       "</div>"
      ],
      "text/plain": [
       "      regressor          params                    metric          max  \\\n",
       "8    KNeighbors  n_neighbors:20     median_absolute_error  3532.000000   \n",
       "9    KNeighbors  n_neighbors:20       mean_absolute_error  3532.000000   \n",
       "6    KNeighbors   n_neighbors:8  explained_variance_score  3778.750000   \n",
       "7    KNeighbors   n_neighbors:8                  r2_score  3778.750000   \n",
       "1  DecisionTree     max_depth:6  explained_variance_score  3955.000000   \n",
       "2  DecisionTree     max_depth:6                  r2_score  3955.000000   \n",
       "5    KNeighbors   n_neighbors:1        mean_squared_error  3800.000000   \n",
       "0  DecisionTree     max_depth:1        mean_squared_error  4392.345369   \n",
       "3  DecisionTree     max_depth:1     median_absolute_error  4392.345369   \n",
       "4  DecisionTree     max_depth:1       mean_absolute_error  4392.345369   \n",
       "\n",
       "        min        mean         std  \n",
       "8  0.250000   92.821720  126.318647  \n",
       "9  0.250000   92.821720  126.318647  \n",
       "6  0.000000   89.305950  130.878840  \n",
       "7  0.000000   89.305950  130.878840  \n",
       "1  0.000000   93.153004  133.854901  \n",
       "2  0.000000   93.735004  138.551202  \n",
       "5  0.000000   61.632400  147.023959  \n",
       "0  0.253862  124.792043  156.948607  \n",
       "3  0.253862  124.792043  156.948607  \n",
       "4  0.253862  124.792043  156.948607  "
      ]
     },
     "metadata": {},
     "output_type": "display_data"
    },
    {
     "name": "stdout",
     "output_type": "stream",
     "text": [
      "第2次运行\n"
     ]
    },
    {
     "data": {
      "text/html": [
       "<div>\n",
       "<table border=\"1\" class=\"dataframe\">\n",
       "  <thead>\n",
       "    <tr style=\"text-align: right;\">\n",
       "      <th></th>\n",
       "      <th>regressor</th>\n",
       "      <th>params</th>\n",
       "      <th>metric</th>\n",
       "      <th>max</th>\n",
       "      <th>min</th>\n",
       "      <th>mean</th>\n",
       "      <th>std</th>\n",
       "    </tr>\n",
       "  </thead>\n",
       "  <tbody>\n",
       "    <tr>\n",
       "      <th>8</th>\n",
       "      <td>KNeighbors</td>\n",
       "      <td>n_neighbors:20</td>\n",
       "      <td>median_absolute_error</td>\n",
       "      <td>3532.000000</td>\n",
       "      <td>0.250000</td>\n",
       "      <td>92.821720</td>\n",
       "      <td>126.318647</td>\n",
       "    </tr>\n",
       "    <tr>\n",
       "      <th>9</th>\n",
       "      <td>KNeighbors</td>\n",
       "      <td>n_neighbors:20</td>\n",
       "      <td>mean_absolute_error</td>\n",
       "      <td>3532.000000</td>\n",
       "      <td>0.250000</td>\n",
       "      <td>92.821720</td>\n",
       "      <td>126.318647</td>\n",
       "    </tr>\n",
       "    <tr>\n",
       "      <th>6</th>\n",
       "      <td>KNeighbors</td>\n",
       "      <td>n_neighbors:8</td>\n",
       "      <td>explained_variance_score</td>\n",
       "      <td>3778.750000</td>\n",
       "      <td>0.000000</td>\n",
       "      <td>89.305950</td>\n",
       "      <td>130.878840</td>\n",
       "    </tr>\n",
       "    <tr>\n",
       "      <th>7</th>\n",
       "      <td>KNeighbors</td>\n",
       "      <td>n_neighbors:8</td>\n",
       "      <td>r2_score</td>\n",
       "      <td>3778.750000</td>\n",
       "      <td>0.000000</td>\n",
       "      <td>89.305950</td>\n",
       "      <td>130.878840</td>\n",
       "    </tr>\n",
       "    <tr>\n",
       "      <th>2</th>\n",
       "      <td>DecisionTree</td>\n",
       "      <td>max_depth:9</td>\n",
       "      <td>r2_score</td>\n",
       "      <td>3825.000000</td>\n",
       "      <td>0.000000</td>\n",
       "      <td>87.456830</td>\n",
       "      <td>133.607449</td>\n",
       "    </tr>\n",
       "    <tr>\n",
       "      <th>1</th>\n",
       "      <td>DecisionTree</td>\n",
       "      <td>max_depth:6</td>\n",
       "      <td>explained_variance_score</td>\n",
       "      <td>3955.000000</td>\n",
       "      <td>0.000000</td>\n",
       "      <td>93.153004</td>\n",
       "      <td>133.854901</td>\n",
       "    </tr>\n",
       "    <tr>\n",
       "      <th>5</th>\n",
       "      <td>KNeighbors</td>\n",
       "      <td>n_neighbors:1</td>\n",
       "      <td>mean_squared_error</td>\n",
       "      <td>3800.000000</td>\n",
       "      <td>0.000000</td>\n",
       "      <td>61.632400</td>\n",
       "      <td>147.023959</td>\n",
       "    </tr>\n",
       "    <tr>\n",
       "      <th>0</th>\n",
       "      <td>DecisionTree</td>\n",
       "      <td>max_depth:1</td>\n",
       "      <td>mean_squared_error</td>\n",
       "      <td>4392.345369</td>\n",
       "      <td>0.253862</td>\n",
       "      <td>124.792043</td>\n",
       "      <td>156.948607</td>\n",
       "    </tr>\n",
       "    <tr>\n",
       "      <th>3</th>\n",
       "      <td>DecisionTree</td>\n",
       "      <td>max_depth:1</td>\n",
       "      <td>median_absolute_error</td>\n",
       "      <td>4392.345369</td>\n",
       "      <td>0.253862</td>\n",
       "      <td>124.792043</td>\n",
       "      <td>156.948607</td>\n",
       "    </tr>\n",
       "    <tr>\n",
       "      <th>4</th>\n",
       "      <td>DecisionTree</td>\n",
       "      <td>max_depth:1</td>\n",
       "      <td>mean_absolute_error</td>\n",
       "      <td>4392.345369</td>\n",
       "      <td>0.253862</td>\n",
       "      <td>124.792043</td>\n",
       "      <td>156.948607</td>\n",
       "    </tr>\n",
       "  </tbody>\n",
       "</table>\n",
       "</div>"
      ],
      "text/plain": [
       "      regressor          params                    metric          max  \\\n",
       "8    KNeighbors  n_neighbors:20     median_absolute_error  3532.000000   \n",
       "9    KNeighbors  n_neighbors:20       mean_absolute_error  3532.000000   \n",
       "6    KNeighbors   n_neighbors:8  explained_variance_score  3778.750000   \n",
       "7    KNeighbors   n_neighbors:8                  r2_score  3778.750000   \n",
       "2  DecisionTree     max_depth:9                  r2_score  3825.000000   \n",
       "1  DecisionTree     max_depth:6  explained_variance_score  3955.000000   \n",
       "5    KNeighbors   n_neighbors:1        mean_squared_error  3800.000000   \n",
       "0  DecisionTree     max_depth:1        mean_squared_error  4392.345369   \n",
       "3  DecisionTree     max_depth:1     median_absolute_error  4392.345369   \n",
       "4  DecisionTree     max_depth:1       mean_absolute_error  4392.345369   \n",
       "\n",
       "        min        mean         std  \n",
       "8  0.250000   92.821720  126.318647  \n",
       "9  0.250000   92.821720  126.318647  \n",
       "6  0.000000   89.305950  130.878840  \n",
       "7  0.000000   89.305950  130.878840  \n",
       "2  0.000000   87.456830  133.607449  \n",
       "1  0.000000   93.153004  133.854901  \n",
       "5  0.000000   61.632400  147.023959  \n",
       "0  0.253862  124.792043  156.948607  \n",
       "3  0.253862  124.792043  156.948607  \n",
       "4  0.253862  124.792043  156.948607  "
      ]
     },
     "metadata": {},
     "output_type": "display_data"
    },
    {
     "name": "stdout",
     "output_type": "stream",
     "text": [
      "第3次运行\n"
     ]
    },
    {
     "data": {
      "text/html": [
       "<div>\n",
       "<table border=\"1\" class=\"dataframe\">\n",
       "  <thead>\n",
       "    <tr style=\"text-align: right;\">\n",
       "      <th></th>\n",
       "      <th>regressor</th>\n",
       "      <th>params</th>\n",
       "      <th>metric</th>\n",
       "      <th>max</th>\n",
       "      <th>min</th>\n",
       "      <th>mean</th>\n",
       "      <th>std</th>\n",
       "    </tr>\n",
       "  </thead>\n",
       "  <tbody>\n",
       "    <tr>\n",
       "      <th>8</th>\n",
       "      <td>KNeighbors</td>\n",
       "      <td>n_neighbors:20</td>\n",
       "      <td>median_absolute_error</td>\n",
       "      <td>3532.000000</td>\n",
       "      <td>0.250000</td>\n",
       "      <td>92.821720</td>\n",
       "      <td>126.318647</td>\n",
       "    </tr>\n",
       "    <tr>\n",
       "      <th>9</th>\n",
       "      <td>KNeighbors</td>\n",
       "      <td>n_neighbors:20</td>\n",
       "      <td>mean_absolute_error</td>\n",
       "      <td>3532.000000</td>\n",
       "      <td>0.250000</td>\n",
       "      <td>92.821720</td>\n",
       "      <td>126.318647</td>\n",
       "    </tr>\n",
       "    <tr>\n",
       "      <th>6</th>\n",
       "      <td>KNeighbors</td>\n",
       "      <td>n_neighbors:8</td>\n",
       "      <td>explained_variance_score</td>\n",
       "      <td>3778.750000</td>\n",
       "      <td>0.000000</td>\n",
       "      <td>89.305950</td>\n",
       "      <td>130.878840</td>\n",
       "    </tr>\n",
       "    <tr>\n",
       "      <th>7</th>\n",
       "      <td>KNeighbors</td>\n",
       "      <td>n_neighbors:8</td>\n",
       "      <td>r2_score</td>\n",
       "      <td>3778.750000</td>\n",
       "      <td>0.000000</td>\n",
       "      <td>89.305950</td>\n",
       "      <td>130.878840</td>\n",
       "    </tr>\n",
       "    <tr>\n",
       "      <th>1</th>\n",
       "      <td>DecisionTree</td>\n",
       "      <td>max_depth:7</td>\n",
       "      <td>explained_variance_score</td>\n",
       "      <td>3730.000000</td>\n",
       "      <td>0.000000</td>\n",
       "      <td>91.271686</td>\n",
       "      <td>132.854315</td>\n",
       "    </tr>\n",
       "    <tr>\n",
       "      <th>2</th>\n",
       "      <td>DecisionTree</td>\n",
       "      <td>max_depth:6</td>\n",
       "      <td>r2_score</td>\n",
       "      <td>3955.000000</td>\n",
       "      <td>0.000000</td>\n",
       "      <td>93.153004</td>\n",
       "      <td>133.854901</td>\n",
       "    </tr>\n",
       "    <tr>\n",
       "      <th>5</th>\n",
       "      <td>KNeighbors</td>\n",
       "      <td>n_neighbors:1</td>\n",
       "      <td>mean_squared_error</td>\n",
       "      <td>3800.000000</td>\n",
       "      <td>0.000000</td>\n",
       "      <td>61.632400</td>\n",
       "      <td>147.023959</td>\n",
       "    </tr>\n",
       "    <tr>\n",
       "      <th>0</th>\n",
       "      <td>DecisionTree</td>\n",
       "      <td>max_depth:1</td>\n",
       "      <td>mean_squared_error</td>\n",
       "      <td>4392.345369</td>\n",
       "      <td>0.253862</td>\n",
       "      <td>124.792043</td>\n",
       "      <td>156.948607</td>\n",
       "    </tr>\n",
       "    <tr>\n",
       "      <th>3</th>\n",
       "      <td>DecisionTree</td>\n",
       "      <td>max_depth:1</td>\n",
       "      <td>median_absolute_error</td>\n",
       "      <td>4392.345369</td>\n",
       "      <td>0.253862</td>\n",
       "      <td>124.792043</td>\n",
       "      <td>156.948607</td>\n",
       "    </tr>\n",
       "    <tr>\n",
       "      <th>4</th>\n",
       "      <td>DecisionTree</td>\n",
       "      <td>max_depth:1</td>\n",
       "      <td>mean_absolute_error</td>\n",
       "      <td>4392.345369</td>\n",
       "      <td>0.253862</td>\n",
       "      <td>124.792043</td>\n",
       "      <td>156.948607</td>\n",
       "    </tr>\n",
       "  </tbody>\n",
       "</table>\n",
       "</div>"
      ],
      "text/plain": [
       "      regressor          params                    metric          max  \\\n",
       "8    KNeighbors  n_neighbors:20     median_absolute_error  3532.000000   \n",
       "9    KNeighbors  n_neighbors:20       mean_absolute_error  3532.000000   \n",
       "6    KNeighbors   n_neighbors:8  explained_variance_score  3778.750000   \n",
       "7    KNeighbors   n_neighbors:8                  r2_score  3778.750000   \n",
       "1  DecisionTree     max_depth:7  explained_variance_score  3730.000000   \n",
       "2  DecisionTree     max_depth:6                  r2_score  3955.000000   \n",
       "5    KNeighbors   n_neighbors:1        mean_squared_error  3800.000000   \n",
       "0  DecisionTree     max_depth:1        mean_squared_error  4392.345369   \n",
       "3  DecisionTree     max_depth:1     median_absolute_error  4392.345369   \n",
       "4  DecisionTree     max_depth:1       mean_absolute_error  4392.345369   \n",
       "\n",
       "        min        mean         std  \n",
       "8  0.250000   92.821720  126.318647  \n",
       "9  0.250000   92.821720  126.318647  \n",
       "6  0.000000   89.305950  130.878840  \n",
       "7  0.000000   89.305950  130.878840  \n",
       "1  0.000000   91.271686  132.854315  \n",
       "2  0.000000   93.153004  133.854901  \n",
       "5  0.000000   61.632400  147.023959  \n",
       "0  0.253862  124.792043  156.948607  \n",
       "3  0.253862  124.792043  156.948607  \n",
       "4  0.253862  124.792043  156.948607  "
      ]
     },
     "metadata": {},
     "output_type": "display_data"
    },
    {
     "name": "stdout",
     "output_type": "stream",
     "text": [
      "第4次运行\n"
     ]
    },
    {
     "data": {
      "text/html": [
       "<div>\n",
       "<table border=\"1\" class=\"dataframe\">\n",
       "  <thead>\n",
       "    <tr style=\"text-align: right;\">\n",
       "      <th></th>\n",
       "      <th>regressor</th>\n",
       "      <th>params</th>\n",
       "      <th>metric</th>\n",
       "      <th>max</th>\n",
       "      <th>min</th>\n",
       "      <th>mean</th>\n",
       "      <th>std</th>\n",
       "    </tr>\n",
       "  </thead>\n",
       "  <tbody>\n",
       "    <tr>\n",
       "      <th>8</th>\n",
       "      <td>KNeighbors</td>\n",
       "      <td>n_neighbors:20</td>\n",
       "      <td>median_absolute_error</td>\n",
       "      <td>3532.000000</td>\n",
       "      <td>0.250000</td>\n",
       "      <td>92.821720</td>\n",
       "      <td>126.318647</td>\n",
       "    </tr>\n",
       "    <tr>\n",
       "      <th>9</th>\n",
       "      <td>KNeighbors</td>\n",
       "      <td>n_neighbors:20</td>\n",
       "      <td>mean_absolute_error</td>\n",
       "      <td>3532.000000</td>\n",
       "      <td>0.250000</td>\n",
       "      <td>92.821720</td>\n",
       "      <td>126.318647</td>\n",
       "    </tr>\n",
       "    <tr>\n",
       "      <th>6</th>\n",
       "      <td>KNeighbors</td>\n",
       "      <td>n_neighbors:8</td>\n",
       "      <td>explained_variance_score</td>\n",
       "      <td>3778.750000</td>\n",
       "      <td>0.000000</td>\n",
       "      <td>89.305950</td>\n",
       "      <td>130.878840</td>\n",
       "    </tr>\n",
       "    <tr>\n",
       "      <th>7</th>\n",
       "      <td>KNeighbors</td>\n",
       "      <td>n_neighbors:8</td>\n",
       "      <td>r2_score</td>\n",
       "      <td>3778.750000</td>\n",
       "      <td>0.000000</td>\n",
       "      <td>89.305950</td>\n",
       "      <td>130.878840</td>\n",
       "    </tr>\n",
       "    <tr>\n",
       "      <th>1</th>\n",
       "      <td>DecisionTree</td>\n",
       "      <td>max_depth:6</td>\n",
       "      <td>explained_variance_score</td>\n",
       "      <td>3955.000000</td>\n",
       "      <td>0.000000</td>\n",
       "      <td>93.153004</td>\n",
       "      <td>133.854901</td>\n",
       "    </tr>\n",
       "    <tr>\n",
       "      <th>2</th>\n",
       "      <td>DecisionTree</td>\n",
       "      <td>max_depth:4</td>\n",
       "      <td>r2_score</td>\n",
       "      <td>4085.222222</td>\n",
       "      <td>0.000000</td>\n",
       "      <td>98.196476</td>\n",
       "      <td>135.242091</td>\n",
       "    </tr>\n",
       "    <tr>\n",
       "      <th>5</th>\n",
       "      <td>KNeighbors</td>\n",
       "      <td>n_neighbors:1</td>\n",
       "      <td>mean_squared_error</td>\n",
       "      <td>3800.000000</td>\n",
       "      <td>0.000000</td>\n",
       "      <td>61.632400</td>\n",
       "      <td>147.023959</td>\n",
       "    </tr>\n",
       "    <tr>\n",
       "      <th>0</th>\n",
       "      <td>DecisionTree</td>\n",
       "      <td>max_depth:1</td>\n",
       "      <td>mean_squared_error</td>\n",
       "      <td>4392.345369</td>\n",
       "      <td>0.253862</td>\n",
       "      <td>124.792043</td>\n",
       "      <td>156.948607</td>\n",
       "    </tr>\n",
       "    <tr>\n",
       "      <th>3</th>\n",
       "      <td>DecisionTree</td>\n",
       "      <td>max_depth:1</td>\n",
       "      <td>median_absolute_error</td>\n",
       "      <td>4392.345369</td>\n",
       "      <td>0.253862</td>\n",
       "      <td>124.792043</td>\n",
       "      <td>156.948607</td>\n",
       "    </tr>\n",
       "    <tr>\n",
       "      <th>4</th>\n",
       "      <td>DecisionTree</td>\n",
       "      <td>max_depth:1</td>\n",
       "      <td>mean_absolute_error</td>\n",
       "      <td>4392.345369</td>\n",
       "      <td>0.253862</td>\n",
       "      <td>124.792043</td>\n",
       "      <td>156.948607</td>\n",
       "    </tr>\n",
       "  </tbody>\n",
       "</table>\n",
       "</div>"
      ],
      "text/plain": [
       "      regressor          params                    metric          max  \\\n",
       "8    KNeighbors  n_neighbors:20     median_absolute_error  3532.000000   \n",
       "9    KNeighbors  n_neighbors:20       mean_absolute_error  3532.000000   \n",
       "6    KNeighbors   n_neighbors:8  explained_variance_score  3778.750000   \n",
       "7    KNeighbors   n_neighbors:8                  r2_score  3778.750000   \n",
       "1  DecisionTree     max_depth:6  explained_variance_score  3955.000000   \n",
       "2  DecisionTree     max_depth:4                  r2_score  4085.222222   \n",
       "5    KNeighbors   n_neighbors:1        mean_squared_error  3800.000000   \n",
       "0  DecisionTree     max_depth:1        mean_squared_error  4392.345369   \n",
       "3  DecisionTree     max_depth:1     median_absolute_error  4392.345369   \n",
       "4  DecisionTree     max_depth:1       mean_absolute_error  4392.345369   \n",
       "\n",
       "        min        mean         std  \n",
       "8  0.250000   92.821720  126.318647  \n",
       "9  0.250000   92.821720  126.318647  \n",
       "6  0.000000   89.305950  130.878840  \n",
       "7  0.000000   89.305950  130.878840  \n",
       "1  0.000000   93.153004  133.854901  \n",
       "2  0.000000   98.196476  135.242091  \n",
       "5  0.000000   61.632400  147.023959  \n",
       "0  0.253862  124.792043  156.948607  \n",
       "3  0.253862  124.792043  156.948607  \n",
       "4  0.253862  124.792043  156.948607  "
      ]
     },
     "metadata": {},
     "output_type": "display_data"
    },
    {
     "name": "stdout",
     "output_type": "stream",
     "text": [
      "第5次运行\n"
     ]
    },
    {
     "data": {
      "text/html": [
       "<div>\n",
       "<table border=\"1\" class=\"dataframe\">\n",
       "  <thead>\n",
       "    <tr style=\"text-align: right;\">\n",
       "      <th></th>\n",
       "      <th>regressor</th>\n",
       "      <th>params</th>\n",
       "      <th>metric</th>\n",
       "      <th>max</th>\n",
       "      <th>min</th>\n",
       "      <th>mean</th>\n",
       "      <th>std</th>\n",
       "    </tr>\n",
       "  </thead>\n",
       "  <tbody>\n",
       "    <tr>\n",
       "      <th>8</th>\n",
       "      <td>KNeighbors</td>\n",
       "      <td>n_neighbors:20</td>\n",
       "      <td>median_absolute_error</td>\n",
       "      <td>3532.000000</td>\n",
       "      <td>0.250000</td>\n",
       "      <td>92.821720</td>\n",
       "      <td>126.318647</td>\n",
       "    </tr>\n",
       "    <tr>\n",
       "      <th>9</th>\n",
       "      <td>KNeighbors</td>\n",
       "      <td>n_neighbors:20</td>\n",
       "      <td>mean_absolute_error</td>\n",
       "      <td>3532.000000</td>\n",
       "      <td>0.250000</td>\n",
       "      <td>92.821720</td>\n",
       "      <td>126.318647</td>\n",
       "    </tr>\n",
       "    <tr>\n",
       "      <th>6</th>\n",
       "      <td>KNeighbors</td>\n",
       "      <td>n_neighbors:8</td>\n",
       "      <td>explained_variance_score</td>\n",
       "      <td>3778.750000</td>\n",
       "      <td>0.000000</td>\n",
       "      <td>89.305950</td>\n",
       "      <td>130.878840</td>\n",
       "    </tr>\n",
       "    <tr>\n",
       "      <th>7</th>\n",
       "      <td>KNeighbors</td>\n",
       "      <td>n_neighbors:8</td>\n",
       "      <td>r2_score</td>\n",
       "      <td>3778.750000</td>\n",
       "      <td>0.000000</td>\n",
       "      <td>89.305950</td>\n",
       "      <td>130.878840</td>\n",
       "    </tr>\n",
       "    <tr>\n",
       "      <th>1</th>\n",
       "      <td>DecisionTree</td>\n",
       "      <td>max_depth:6</td>\n",
       "      <td>explained_variance_score</td>\n",
       "      <td>3955.000000</td>\n",
       "      <td>0.000000</td>\n",
       "      <td>93.153004</td>\n",
       "      <td>133.854901</td>\n",
       "    </tr>\n",
       "    <tr>\n",
       "      <th>2</th>\n",
       "      <td>DecisionTree</td>\n",
       "      <td>max_depth:6</td>\n",
       "      <td>r2_score</td>\n",
       "      <td>3955.000000</td>\n",
       "      <td>0.000000</td>\n",
       "      <td>93.153004</td>\n",
       "      <td>133.854901</td>\n",
       "    </tr>\n",
       "    <tr>\n",
       "      <th>5</th>\n",
       "      <td>KNeighbors</td>\n",
       "      <td>n_neighbors:1</td>\n",
       "      <td>mean_squared_error</td>\n",
       "      <td>3800.000000</td>\n",
       "      <td>0.000000</td>\n",
       "      <td>61.632400</td>\n",
       "      <td>147.023959</td>\n",
       "    </tr>\n",
       "    <tr>\n",
       "      <th>0</th>\n",
       "      <td>DecisionTree</td>\n",
       "      <td>max_depth:1</td>\n",
       "      <td>mean_squared_error</td>\n",
       "      <td>4392.345369</td>\n",
       "      <td>0.253862</td>\n",
       "      <td>124.792043</td>\n",
       "      <td>156.948607</td>\n",
       "    </tr>\n",
       "    <tr>\n",
       "      <th>3</th>\n",
       "      <td>DecisionTree</td>\n",
       "      <td>max_depth:1</td>\n",
       "      <td>median_absolute_error</td>\n",
       "      <td>4392.345369</td>\n",
       "      <td>0.253862</td>\n",
       "      <td>124.792043</td>\n",
       "      <td>156.948607</td>\n",
       "    </tr>\n",
       "    <tr>\n",
       "      <th>4</th>\n",
       "      <td>DecisionTree</td>\n",
       "      <td>max_depth:1</td>\n",
       "      <td>mean_absolute_error</td>\n",
       "      <td>4392.345369</td>\n",
       "      <td>0.253862</td>\n",
       "      <td>124.792043</td>\n",
       "      <td>156.948607</td>\n",
       "    </tr>\n",
       "  </tbody>\n",
       "</table>\n",
       "</div>"
      ],
      "text/plain": [
       "      regressor          params                    metric          max  \\\n",
       "8    KNeighbors  n_neighbors:20     median_absolute_error  3532.000000   \n",
       "9    KNeighbors  n_neighbors:20       mean_absolute_error  3532.000000   \n",
       "6    KNeighbors   n_neighbors:8  explained_variance_score  3778.750000   \n",
       "7    KNeighbors   n_neighbors:8                  r2_score  3778.750000   \n",
       "1  DecisionTree     max_depth:6  explained_variance_score  3955.000000   \n",
       "2  DecisionTree     max_depth:6                  r2_score  3955.000000   \n",
       "5    KNeighbors   n_neighbors:1        mean_squared_error  3800.000000   \n",
       "0  DecisionTree     max_depth:1        mean_squared_error  4392.345369   \n",
       "3  DecisionTree     max_depth:1     median_absolute_error  4392.345369   \n",
       "4  DecisionTree     max_depth:1       mean_absolute_error  4392.345369   \n",
       "\n",
       "        min        mean         std  \n",
       "8  0.250000   92.821720  126.318647  \n",
       "9  0.250000   92.821720  126.318647  \n",
       "6  0.000000   89.305950  130.878840  \n",
       "7  0.000000   89.305950  130.878840  \n",
       "1  0.000000   93.153004  133.854901  \n",
       "2  0.000000   93.153004  133.854901  \n",
       "5  0.000000   61.632400  147.023959  \n",
       "0  0.253862  124.792043  156.948607  \n",
       "3  0.253862  124.792043  156.948607  \n",
       "4  0.253862  124.792043  156.948607  "
      ]
     },
     "metadata": {},
     "output_type": "display_data"
    },
    {
     "name": "stdout",
     "output_type": "stream",
     "text": [
      "第6次运行\n"
     ]
    },
    {
     "data": {
      "text/html": [
       "<div>\n",
       "<table border=\"1\" class=\"dataframe\">\n",
       "  <thead>\n",
       "    <tr style=\"text-align: right;\">\n",
       "      <th></th>\n",
       "      <th>regressor</th>\n",
       "      <th>params</th>\n",
       "      <th>metric</th>\n",
       "      <th>max</th>\n",
       "      <th>min</th>\n",
       "      <th>mean</th>\n",
       "      <th>std</th>\n",
       "    </tr>\n",
       "  </thead>\n",
       "  <tbody>\n",
       "    <tr>\n",
       "      <th>8</th>\n",
       "      <td>KNeighbors</td>\n",
       "      <td>n_neighbors:20</td>\n",
       "      <td>median_absolute_error</td>\n",
       "      <td>3532.000000</td>\n",
       "      <td>0.250000</td>\n",
       "      <td>92.821720</td>\n",
       "      <td>126.318647</td>\n",
       "    </tr>\n",
       "    <tr>\n",
       "      <th>9</th>\n",
       "      <td>KNeighbors</td>\n",
       "      <td>n_neighbors:20</td>\n",
       "      <td>mean_absolute_error</td>\n",
       "      <td>3532.000000</td>\n",
       "      <td>0.250000</td>\n",
       "      <td>92.821720</td>\n",
       "      <td>126.318647</td>\n",
       "    </tr>\n",
       "    <tr>\n",
       "      <th>6</th>\n",
       "      <td>KNeighbors</td>\n",
       "      <td>n_neighbors:8</td>\n",
       "      <td>explained_variance_score</td>\n",
       "      <td>3778.750000</td>\n",
       "      <td>0.000000</td>\n",
       "      <td>89.305950</td>\n",
       "      <td>130.878840</td>\n",
       "    </tr>\n",
       "    <tr>\n",
       "      <th>7</th>\n",
       "      <td>KNeighbors</td>\n",
       "      <td>n_neighbors:8</td>\n",
       "      <td>r2_score</td>\n",
       "      <td>3778.750000</td>\n",
       "      <td>0.000000</td>\n",
       "      <td>89.305950</td>\n",
       "      <td>130.878840</td>\n",
       "    </tr>\n",
       "    <tr>\n",
       "      <th>2</th>\n",
       "      <td>DecisionTree</td>\n",
       "      <td>max_depth:6</td>\n",
       "      <td>r2_score</td>\n",
       "      <td>3955.000000</td>\n",
       "      <td>0.000000</td>\n",
       "      <td>93.735004</td>\n",
       "      <td>138.551202</td>\n",
       "    </tr>\n",
       "    <tr>\n",
       "      <th>1</th>\n",
       "      <td>DecisionTree</td>\n",
       "      <td>max_depth:5</td>\n",
       "      <td>explained_variance_score</td>\n",
       "      <td>4178.470588</td>\n",
       "      <td>0.000000</td>\n",
       "      <td>96.513201</td>\n",
       "      <td>141.151299</td>\n",
       "    </tr>\n",
       "    <tr>\n",
       "      <th>5</th>\n",
       "      <td>KNeighbors</td>\n",
       "      <td>n_neighbors:1</td>\n",
       "      <td>mean_squared_error</td>\n",
       "      <td>3800.000000</td>\n",
       "      <td>0.000000</td>\n",
       "      <td>61.632400</td>\n",
       "      <td>147.023959</td>\n",
       "    </tr>\n",
       "    <tr>\n",
       "      <th>0</th>\n",
       "      <td>DecisionTree</td>\n",
       "      <td>max_depth:1</td>\n",
       "      <td>mean_squared_error</td>\n",
       "      <td>4392.345369</td>\n",
       "      <td>0.253862</td>\n",
       "      <td>124.792043</td>\n",
       "      <td>156.948607</td>\n",
       "    </tr>\n",
       "    <tr>\n",
       "      <th>3</th>\n",
       "      <td>DecisionTree</td>\n",
       "      <td>max_depth:1</td>\n",
       "      <td>median_absolute_error</td>\n",
       "      <td>4392.345369</td>\n",
       "      <td>0.253862</td>\n",
       "      <td>124.792043</td>\n",
       "      <td>156.948607</td>\n",
       "    </tr>\n",
       "    <tr>\n",
       "      <th>4</th>\n",
       "      <td>DecisionTree</td>\n",
       "      <td>max_depth:1</td>\n",
       "      <td>mean_absolute_error</td>\n",
       "      <td>4392.345369</td>\n",
       "      <td>0.253862</td>\n",
       "      <td>124.792043</td>\n",
       "      <td>156.948607</td>\n",
       "    </tr>\n",
       "  </tbody>\n",
       "</table>\n",
       "</div>"
      ],
      "text/plain": [
       "      regressor          params                    metric          max  \\\n",
       "8    KNeighbors  n_neighbors:20     median_absolute_error  3532.000000   \n",
       "9    KNeighbors  n_neighbors:20       mean_absolute_error  3532.000000   \n",
       "6    KNeighbors   n_neighbors:8  explained_variance_score  3778.750000   \n",
       "7    KNeighbors   n_neighbors:8                  r2_score  3778.750000   \n",
       "2  DecisionTree     max_depth:6                  r2_score  3955.000000   \n",
       "1  DecisionTree     max_depth:5  explained_variance_score  4178.470588   \n",
       "5    KNeighbors   n_neighbors:1        mean_squared_error  3800.000000   \n",
       "0  DecisionTree     max_depth:1        mean_squared_error  4392.345369   \n",
       "3  DecisionTree     max_depth:1     median_absolute_error  4392.345369   \n",
       "4  DecisionTree     max_depth:1       mean_absolute_error  4392.345369   \n",
       "\n",
       "        min        mean         std  \n",
       "8  0.250000   92.821720  126.318647  \n",
       "9  0.250000   92.821720  126.318647  \n",
       "6  0.000000   89.305950  130.878840  \n",
       "7  0.000000   89.305950  130.878840  \n",
       "2  0.000000   93.735004  138.551202  \n",
       "1  0.000000   96.513201  141.151299  \n",
       "5  0.000000   61.632400  147.023959  \n",
       "0  0.253862  124.792043  156.948607  \n",
       "3  0.253862  124.792043  156.948607  \n",
       "4  0.253862  124.792043  156.948607  "
      ]
     },
     "metadata": {},
     "output_type": "display_data"
    },
    {
     "name": "stdout",
     "output_type": "stream",
     "text": [
      "第7次运行\n"
     ]
    },
    {
     "data": {
      "text/html": [
       "<div>\n",
       "<table border=\"1\" class=\"dataframe\">\n",
       "  <thead>\n",
       "    <tr style=\"text-align: right;\">\n",
       "      <th></th>\n",
       "      <th>regressor</th>\n",
       "      <th>params</th>\n",
       "      <th>metric</th>\n",
       "      <th>max</th>\n",
       "      <th>min</th>\n",
       "      <th>mean</th>\n",
       "      <th>std</th>\n",
       "    </tr>\n",
       "  </thead>\n",
       "  <tbody>\n",
       "    <tr>\n",
       "      <th>8</th>\n",
       "      <td>KNeighbors</td>\n",
       "      <td>n_neighbors:20</td>\n",
       "      <td>median_absolute_error</td>\n",
       "      <td>3532.000000</td>\n",
       "      <td>0.250000</td>\n",
       "      <td>92.821720</td>\n",
       "      <td>126.318647</td>\n",
       "    </tr>\n",
       "    <tr>\n",
       "      <th>9</th>\n",
       "      <td>KNeighbors</td>\n",
       "      <td>n_neighbors:20</td>\n",
       "      <td>mean_absolute_error</td>\n",
       "      <td>3532.000000</td>\n",
       "      <td>0.250000</td>\n",
       "      <td>92.821720</td>\n",
       "      <td>126.318647</td>\n",
       "    </tr>\n",
       "    <tr>\n",
       "      <th>6</th>\n",
       "      <td>KNeighbors</td>\n",
       "      <td>n_neighbors:8</td>\n",
       "      <td>explained_variance_score</td>\n",
       "      <td>3778.750000</td>\n",
       "      <td>0.000000</td>\n",
       "      <td>89.305950</td>\n",
       "      <td>130.878840</td>\n",
       "    </tr>\n",
       "    <tr>\n",
       "      <th>7</th>\n",
       "      <td>KNeighbors</td>\n",
       "      <td>n_neighbors:8</td>\n",
       "      <td>r2_score</td>\n",
       "      <td>3778.750000</td>\n",
       "      <td>0.000000</td>\n",
       "      <td>89.305950</td>\n",
       "      <td>130.878840</td>\n",
       "    </tr>\n",
       "    <tr>\n",
       "      <th>1</th>\n",
       "      <td>DecisionTree</td>\n",
       "      <td>max_depth:6</td>\n",
       "      <td>explained_variance_score</td>\n",
       "      <td>3955.000000</td>\n",
       "      <td>0.000000</td>\n",
       "      <td>93.153004</td>\n",
       "      <td>133.854901</td>\n",
       "    </tr>\n",
       "    <tr>\n",
       "      <th>2</th>\n",
       "      <td>DecisionTree</td>\n",
       "      <td>max_depth:6</td>\n",
       "      <td>r2_score</td>\n",
       "      <td>3955.000000</td>\n",
       "      <td>0.000000</td>\n",
       "      <td>93.735004</td>\n",
       "      <td>138.551202</td>\n",
       "    </tr>\n",
       "    <tr>\n",
       "      <th>5</th>\n",
       "      <td>KNeighbors</td>\n",
       "      <td>n_neighbors:1</td>\n",
       "      <td>mean_squared_error</td>\n",
       "      <td>3800.000000</td>\n",
       "      <td>0.000000</td>\n",
       "      <td>61.632400</td>\n",
       "      <td>147.023959</td>\n",
       "    </tr>\n",
       "    <tr>\n",
       "      <th>0</th>\n",
       "      <td>DecisionTree</td>\n",
       "      <td>max_depth:1</td>\n",
       "      <td>mean_squared_error</td>\n",
       "      <td>4392.345369</td>\n",
       "      <td>0.253862</td>\n",
       "      <td>124.792043</td>\n",
       "      <td>156.948607</td>\n",
       "    </tr>\n",
       "    <tr>\n",
       "      <th>3</th>\n",
       "      <td>DecisionTree</td>\n",
       "      <td>max_depth:1</td>\n",
       "      <td>median_absolute_error</td>\n",
       "      <td>4392.345369</td>\n",
       "      <td>0.253862</td>\n",
       "      <td>124.792043</td>\n",
       "      <td>156.948607</td>\n",
       "    </tr>\n",
       "    <tr>\n",
       "      <th>4</th>\n",
       "      <td>DecisionTree</td>\n",
       "      <td>max_depth:1</td>\n",
       "      <td>mean_absolute_error</td>\n",
       "      <td>4392.345369</td>\n",
       "      <td>0.253862</td>\n",
       "      <td>124.792043</td>\n",
       "      <td>156.948607</td>\n",
       "    </tr>\n",
       "  </tbody>\n",
       "</table>\n",
       "</div>"
      ],
      "text/plain": [
       "      regressor          params                    metric          max  \\\n",
       "8    KNeighbors  n_neighbors:20     median_absolute_error  3532.000000   \n",
       "9    KNeighbors  n_neighbors:20       mean_absolute_error  3532.000000   \n",
       "6    KNeighbors   n_neighbors:8  explained_variance_score  3778.750000   \n",
       "7    KNeighbors   n_neighbors:8                  r2_score  3778.750000   \n",
       "1  DecisionTree     max_depth:6  explained_variance_score  3955.000000   \n",
       "2  DecisionTree     max_depth:6                  r2_score  3955.000000   \n",
       "5    KNeighbors   n_neighbors:1        mean_squared_error  3800.000000   \n",
       "0  DecisionTree     max_depth:1        mean_squared_error  4392.345369   \n",
       "3  DecisionTree     max_depth:1     median_absolute_error  4392.345369   \n",
       "4  DecisionTree     max_depth:1       mean_absolute_error  4392.345369   \n",
       "\n",
       "        min        mean         std  \n",
       "8  0.250000   92.821720  126.318647  \n",
       "9  0.250000   92.821720  126.318647  \n",
       "6  0.000000   89.305950  130.878840  \n",
       "7  0.000000   89.305950  130.878840  \n",
       "1  0.000000   93.153004  133.854901  \n",
       "2  0.000000   93.735004  138.551202  \n",
       "5  0.000000   61.632400  147.023959  \n",
       "0  0.253862  124.792043  156.948607  \n",
       "3  0.253862  124.792043  156.948607  \n",
       "4  0.253862  124.792043  156.948607  "
      ]
     },
     "metadata": {},
     "output_type": "display_data"
    },
    {
     "name": "stdout",
     "output_type": "stream",
     "text": [
      "第8次运行\n"
     ]
    },
    {
     "data": {
      "text/html": [
       "<div>\n",
       "<table border=\"1\" class=\"dataframe\">\n",
       "  <thead>\n",
       "    <tr style=\"text-align: right;\">\n",
       "      <th></th>\n",
       "      <th>regressor</th>\n",
       "      <th>params</th>\n",
       "      <th>metric</th>\n",
       "      <th>max</th>\n",
       "      <th>min</th>\n",
       "      <th>mean</th>\n",
       "      <th>std</th>\n",
       "    </tr>\n",
       "  </thead>\n",
       "  <tbody>\n",
       "    <tr>\n",
       "      <th>8</th>\n",
       "      <td>KNeighbors</td>\n",
       "      <td>n_neighbors:20</td>\n",
       "      <td>median_absolute_error</td>\n",
       "      <td>3532.000000</td>\n",
       "      <td>0.250000</td>\n",
       "      <td>92.821720</td>\n",
       "      <td>126.318647</td>\n",
       "    </tr>\n",
       "    <tr>\n",
       "      <th>9</th>\n",
       "      <td>KNeighbors</td>\n",
       "      <td>n_neighbors:20</td>\n",
       "      <td>mean_absolute_error</td>\n",
       "      <td>3532.000000</td>\n",
       "      <td>0.250000</td>\n",
       "      <td>92.821720</td>\n",
       "      <td>126.318647</td>\n",
       "    </tr>\n",
       "    <tr>\n",
       "      <th>6</th>\n",
       "      <td>KNeighbors</td>\n",
       "      <td>n_neighbors:8</td>\n",
       "      <td>explained_variance_score</td>\n",
       "      <td>3778.750000</td>\n",
       "      <td>0.000000</td>\n",
       "      <td>89.305950</td>\n",
       "      <td>130.878840</td>\n",
       "    </tr>\n",
       "    <tr>\n",
       "      <th>7</th>\n",
       "      <td>KNeighbors</td>\n",
       "      <td>n_neighbors:8</td>\n",
       "      <td>r2_score</td>\n",
       "      <td>3778.750000</td>\n",
       "      <td>0.000000</td>\n",
       "      <td>89.305950</td>\n",
       "      <td>130.878840</td>\n",
       "    </tr>\n",
       "    <tr>\n",
       "      <th>1</th>\n",
       "      <td>DecisionTree</td>\n",
       "      <td>max_depth:6</td>\n",
       "      <td>explained_variance_score</td>\n",
       "      <td>3955.000000</td>\n",
       "      <td>0.000000</td>\n",
       "      <td>93.153004</td>\n",
       "      <td>133.854901</td>\n",
       "    </tr>\n",
       "    <tr>\n",
       "      <th>2</th>\n",
       "      <td>DecisionTree</td>\n",
       "      <td>max_depth:6</td>\n",
       "      <td>r2_score</td>\n",
       "      <td>3955.000000</td>\n",
       "      <td>0.000000</td>\n",
       "      <td>93.153004</td>\n",
       "      <td>133.854901</td>\n",
       "    </tr>\n",
       "    <tr>\n",
       "      <th>5</th>\n",
       "      <td>KNeighbors</td>\n",
       "      <td>n_neighbors:1</td>\n",
       "      <td>mean_squared_error</td>\n",
       "      <td>3800.000000</td>\n",
       "      <td>0.000000</td>\n",
       "      <td>61.632400</td>\n",
       "      <td>147.023959</td>\n",
       "    </tr>\n",
       "    <tr>\n",
       "      <th>0</th>\n",
       "      <td>DecisionTree</td>\n",
       "      <td>max_depth:1</td>\n",
       "      <td>mean_squared_error</td>\n",
       "      <td>4392.345369</td>\n",
       "      <td>0.253862</td>\n",
       "      <td>124.792043</td>\n",
       "      <td>156.948607</td>\n",
       "    </tr>\n",
       "    <tr>\n",
       "      <th>3</th>\n",
       "      <td>DecisionTree</td>\n",
       "      <td>max_depth:1</td>\n",
       "      <td>median_absolute_error</td>\n",
       "      <td>4392.345369</td>\n",
       "      <td>0.253862</td>\n",
       "      <td>124.792043</td>\n",
       "      <td>156.948607</td>\n",
       "    </tr>\n",
       "    <tr>\n",
       "      <th>4</th>\n",
       "      <td>DecisionTree</td>\n",
       "      <td>max_depth:1</td>\n",
       "      <td>mean_absolute_error</td>\n",
       "      <td>4392.345369</td>\n",
       "      <td>0.253862</td>\n",
       "      <td>124.792043</td>\n",
       "      <td>156.948607</td>\n",
       "    </tr>\n",
       "  </tbody>\n",
       "</table>\n",
       "</div>"
      ],
      "text/plain": [
       "      regressor          params                    metric          max  \\\n",
       "8    KNeighbors  n_neighbors:20     median_absolute_error  3532.000000   \n",
       "9    KNeighbors  n_neighbors:20       mean_absolute_error  3532.000000   \n",
       "6    KNeighbors   n_neighbors:8  explained_variance_score  3778.750000   \n",
       "7    KNeighbors   n_neighbors:8                  r2_score  3778.750000   \n",
       "1  DecisionTree     max_depth:6  explained_variance_score  3955.000000   \n",
       "2  DecisionTree     max_depth:6                  r2_score  3955.000000   \n",
       "5    KNeighbors   n_neighbors:1        mean_squared_error  3800.000000   \n",
       "0  DecisionTree     max_depth:1        mean_squared_error  4392.345369   \n",
       "3  DecisionTree     max_depth:1     median_absolute_error  4392.345369   \n",
       "4  DecisionTree     max_depth:1       mean_absolute_error  4392.345369   \n",
       "\n",
       "        min        mean         std  \n",
       "8  0.250000   92.821720  126.318647  \n",
       "9  0.250000   92.821720  126.318647  \n",
       "6  0.000000   89.305950  130.878840  \n",
       "7  0.000000   89.305950  130.878840  \n",
       "1  0.000000   93.153004  133.854901  \n",
       "2  0.000000   93.153004  133.854901  \n",
       "5  0.000000   61.632400  147.023959  \n",
       "0  0.253862  124.792043  156.948607  \n",
       "3  0.253862  124.792043  156.948607  \n",
       "4  0.253862  124.792043  156.948607  "
      ]
     },
     "metadata": {},
     "output_type": "display_data"
    },
    {
     "name": "stdout",
     "output_type": "stream",
     "text": [
      "第9次运行\n"
     ]
    },
    {
     "data": {
      "text/html": [
       "<div>\n",
       "<table border=\"1\" class=\"dataframe\">\n",
       "  <thead>\n",
       "    <tr style=\"text-align: right;\">\n",
       "      <th></th>\n",
       "      <th>regressor</th>\n",
       "      <th>params</th>\n",
       "      <th>metric</th>\n",
       "      <th>max</th>\n",
       "      <th>min</th>\n",
       "      <th>mean</th>\n",
       "      <th>std</th>\n",
       "    </tr>\n",
       "  </thead>\n",
       "  <tbody>\n",
       "    <tr>\n",
       "      <th>8</th>\n",
       "      <td>KNeighbors</td>\n",
       "      <td>n_neighbors:20</td>\n",
       "      <td>median_absolute_error</td>\n",
       "      <td>3532.000000</td>\n",
       "      <td>0.250000</td>\n",
       "      <td>92.821720</td>\n",
       "      <td>126.318647</td>\n",
       "    </tr>\n",
       "    <tr>\n",
       "      <th>9</th>\n",
       "      <td>KNeighbors</td>\n",
       "      <td>n_neighbors:20</td>\n",
       "      <td>mean_absolute_error</td>\n",
       "      <td>3532.000000</td>\n",
       "      <td>0.250000</td>\n",
       "      <td>92.821720</td>\n",
       "      <td>126.318647</td>\n",
       "    </tr>\n",
       "    <tr>\n",
       "      <th>6</th>\n",
       "      <td>KNeighbors</td>\n",
       "      <td>n_neighbors:8</td>\n",
       "      <td>explained_variance_score</td>\n",
       "      <td>3778.750000</td>\n",
       "      <td>0.000000</td>\n",
       "      <td>89.305950</td>\n",
       "      <td>130.878840</td>\n",
       "    </tr>\n",
       "    <tr>\n",
       "      <th>7</th>\n",
       "      <td>KNeighbors</td>\n",
       "      <td>n_neighbors:8</td>\n",
       "      <td>r2_score</td>\n",
       "      <td>3778.750000</td>\n",
       "      <td>0.000000</td>\n",
       "      <td>89.305950</td>\n",
       "      <td>130.878840</td>\n",
       "    </tr>\n",
       "    <tr>\n",
       "      <th>2</th>\n",
       "      <td>DecisionTree</td>\n",
       "      <td>max_depth:7</td>\n",
       "      <td>r2_score</td>\n",
       "      <td>3730.000000</td>\n",
       "      <td>0.000000</td>\n",
       "      <td>91.391686</td>\n",
       "      <td>133.108787</td>\n",
       "    </tr>\n",
       "    <tr>\n",
       "      <th>1</th>\n",
       "      <td>DecisionTree</td>\n",
       "      <td>max_depth:9</td>\n",
       "      <td>explained_variance_score</td>\n",
       "      <td>3825.000000</td>\n",
       "      <td>0.000000</td>\n",
       "      <td>87.875053</td>\n",
       "      <td>134.441353</td>\n",
       "    </tr>\n",
       "    <tr>\n",
       "      <th>5</th>\n",
       "      <td>KNeighbors</td>\n",
       "      <td>n_neighbors:1</td>\n",
       "      <td>mean_squared_error</td>\n",
       "      <td>3800.000000</td>\n",
       "      <td>0.000000</td>\n",
       "      <td>61.632400</td>\n",
       "      <td>147.023959</td>\n",
       "    </tr>\n",
       "    <tr>\n",
       "      <th>0</th>\n",
       "      <td>DecisionTree</td>\n",
       "      <td>max_depth:1</td>\n",
       "      <td>mean_squared_error</td>\n",
       "      <td>4392.345369</td>\n",
       "      <td>0.253862</td>\n",
       "      <td>124.792043</td>\n",
       "      <td>156.948607</td>\n",
       "    </tr>\n",
       "    <tr>\n",
       "      <th>3</th>\n",
       "      <td>DecisionTree</td>\n",
       "      <td>max_depth:1</td>\n",
       "      <td>median_absolute_error</td>\n",
       "      <td>4392.345369</td>\n",
       "      <td>0.253862</td>\n",
       "      <td>124.792043</td>\n",
       "      <td>156.948607</td>\n",
       "    </tr>\n",
       "    <tr>\n",
       "      <th>4</th>\n",
       "      <td>DecisionTree</td>\n",
       "      <td>max_depth:1</td>\n",
       "      <td>mean_absolute_error</td>\n",
       "      <td>4392.345369</td>\n",
       "      <td>0.253862</td>\n",
       "      <td>124.792043</td>\n",
       "      <td>156.948607</td>\n",
       "    </tr>\n",
       "  </tbody>\n",
       "</table>\n",
       "</div>"
      ],
      "text/plain": [
       "      regressor          params                    metric          max  \\\n",
       "8    KNeighbors  n_neighbors:20     median_absolute_error  3532.000000   \n",
       "9    KNeighbors  n_neighbors:20       mean_absolute_error  3532.000000   \n",
       "6    KNeighbors   n_neighbors:8  explained_variance_score  3778.750000   \n",
       "7    KNeighbors   n_neighbors:8                  r2_score  3778.750000   \n",
       "2  DecisionTree     max_depth:7                  r2_score  3730.000000   \n",
       "1  DecisionTree     max_depth:9  explained_variance_score  3825.000000   \n",
       "5    KNeighbors   n_neighbors:1        mean_squared_error  3800.000000   \n",
       "0  DecisionTree     max_depth:1        mean_squared_error  4392.345369   \n",
       "3  DecisionTree     max_depth:1     median_absolute_error  4392.345369   \n",
       "4  DecisionTree     max_depth:1       mean_absolute_error  4392.345369   \n",
       "\n",
       "        min        mean         std  \n",
       "8  0.250000   92.821720  126.318647  \n",
       "9  0.250000   92.821720  126.318647  \n",
       "6  0.000000   89.305950  130.878840  \n",
       "7  0.000000   89.305950  130.878840  \n",
       "2  0.000000   91.391686  133.108787  \n",
       "1  0.000000   87.875053  134.441353  \n",
       "5  0.000000   61.632400  147.023959  \n",
       "0  0.253862  124.792043  156.948607  \n",
       "3  0.253862  124.792043  156.948607  \n",
       "4  0.253862  124.792043  156.948607  "
      ]
     },
     "metadata": {},
     "output_type": "display_data"
    },
    {
     "name": "stdout",
     "output_type": "stream",
     "text": [
      "第10次运行\n"
     ]
    },
    {
     "data": {
      "text/html": [
       "<div>\n",
       "<table border=\"1\" class=\"dataframe\">\n",
       "  <thead>\n",
       "    <tr style=\"text-align: right;\">\n",
       "      <th></th>\n",
       "      <th>regressor</th>\n",
       "      <th>params</th>\n",
       "      <th>metric</th>\n",
       "      <th>max</th>\n",
       "      <th>min</th>\n",
       "      <th>mean</th>\n",
       "      <th>std</th>\n",
       "    </tr>\n",
       "  </thead>\n",
       "  <tbody>\n",
       "    <tr>\n",
       "      <th>8</th>\n",
       "      <td>KNeighbors</td>\n",
       "      <td>n_neighbors:20</td>\n",
       "      <td>median_absolute_error</td>\n",
       "      <td>3532.000000</td>\n",
       "      <td>0.250000</td>\n",
       "      <td>92.821720</td>\n",
       "      <td>126.318647</td>\n",
       "    </tr>\n",
       "    <tr>\n",
       "      <th>9</th>\n",
       "      <td>KNeighbors</td>\n",
       "      <td>n_neighbors:20</td>\n",
       "      <td>mean_absolute_error</td>\n",
       "      <td>3532.000000</td>\n",
       "      <td>0.250000</td>\n",
       "      <td>92.821720</td>\n",
       "      <td>126.318647</td>\n",
       "    </tr>\n",
       "    <tr>\n",
       "      <th>6</th>\n",
       "      <td>KNeighbors</td>\n",
       "      <td>n_neighbors:8</td>\n",
       "      <td>explained_variance_score</td>\n",
       "      <td>3778.750000</td>\n",
       "      <td>0.000000</td>\n",
       "      <td>89.305950</td>\n",
       "      <td>130.878840</td>\n",
       "    </tr>\n",
       "    <tr>\n",
       "      <th>7</th>\n",
       "      <td>KNeighbors</td>\n",
       "      <td>n_neighbors:8</td>\n",
       "      <td>r2_score</td>\n",
       "      <td>3778.750000</td>\n",
       "      <td>0.000000</td>\n",
       "      <td>89.305950</td>\n",
       "      <td>130.878840</td>\n",
       "    </tr>\n",
       "    <tr>\n",
       "      <th>1</th>\n",
       "      <td>DecisionTree</td>\n",
       "      <td>max_depth:6</td>\n",
       "      <td>explained_variance_score</td>\n",
       "      <td>3955.000000</td>\n",
       "      <td>0.000000</td>\n",
       "      <td>93.153004</td>\n",
       "      <td>133.854901</td>\n",
       "    </tr>\n",
       "    <tr>\n",
       "      <th>2</th>\n",
       "      <td>DecisionTree</td>\n",
       "      <td>max_depth:5</td>\n",
       "      <td>r2_score</td>\n",
       "      <td>4178.470588</td>\n",
       "      <td>0.000000</td>\n",
       "      <td>95.841813</td>\n",
       "      <td>136.387714</td>\n",
       "    </tr>\n",
       "    <tr>\n",
       "      <th>5</th>\n",
       "      <td>KNeighbors</td>\n",
       "      <td>n_neighbors:1</td>\n",
       "      <td>mean_squared_error</td>\n",
       "      <td>3800.000000</td>\n",
       "      <td>0.000000</td>\n",
       "      <td>61.632400</td>\n",
       "      <td>147.023959</td>\n",
       "    </tr>\n",
       "    <tr>\n",
       "      <th>0</th>\n",
       "      <td>DecisionTree</td>\n",
       "      <td>max_depth:1</td>\n",
       "      <td>mean_squared_error</td>\n",
       "      <td>4392.345369</td>\n",
       "      <td>0.253862</td>\n",
       "      <td>124.792043</td>\n",
       "      <td>156.948607</td>\n",
       "    </tr>\n",
       "    <tr>\n",
       "      <th>3</th>\n",
       "      <td>DecisionTree</td>\n",
       "      <td>max_depth:1</td>\n",
       "      <td>median_absolute_error</td>\n",
       "      <td>4392.345369</td>\n",
       "      <td>0.253862</td>\n",
       "      <td>124.792043</td>\n",
       "      <td>156.948607</td>\n",
       "    </tr>\n",
       "    <tr>\n",
       "      <th>4</th>\n",
       "      <td>DecisionTree</td>\n",
       "      <td>max_depth:1</td>\n",
       "      <td>mean_absolute_error</td>\n",
       "      <td>4392.345369</td>\n",
       "      <td>0.253862</td>\n",
       "      <td>124.792043</td>\n",
       "      <td>156.948607</td>\n",
       "    </tr>\n",
       "  </tbody>\n",
       "</table>\n",
       "</div>"
      ],
      "text/plain": [
       "      regressor          params                    metric          max  \\\n",
       "8    KNeighbors  n_neighbors:20     median_absolute_error  3532.000000   \n",
       "9    KNeighbors  n_neighbors:20       mean_absolute_error  3532.000000   \n",
       "6    KNeighbors   n_neighbors:8  explained_variance_score  3778.750000   \n",
       "7    KNeighbors   n_neighbors:8                  r2_score  3778.750000   \n",
       "1  DecisionTree     max_depth:6  explained_variance_score  3955.000000   \n",
       "2  DecisionTree     max_depth:5                  r2_score  4178.470588   \n",
       "5    KNeighbors   n_neighbors:1        mean_squared_error  3800.000000   \n",
       "0  DecisionTree     max_depth:1        mean_squared_error  4392.345369   \n",
       "3  DecisionTree     max_depth:1     median_absolute_error  4392.345369   \n",
       "4  DecisionTree     max_depth:1       mean_absolute_error  4392.345369   \n",
       "\n",
       "        min        mean         std  \n",
       "8  0.250000   92.821720  126.318647  \n",
       "9  0.250000   92.821720  126.318647  \n",
       "6  0.000000   89.305950  130.878840  \n",
       "7  0.000000   89.305950  130.878840  \n",
       "1  0.000000   93.153004  133.854901  \n",
       "2  0.000000   95.841813  136.387714  \n",
       "5  0.000000   61.632400  147.023959  \n",
       "0  0.253862  124.792043  156.948607  \n",
       "3  0.253862  124.792043  156.948607  \n",
       "4  0.253862  124.792043  156.948607  "
      ]
     },
     "metadata": {},
     "output_type": "display_data"
    }
   ],
   "source": [
    "### 使用多种模型和评估指标训练\n",
    "\n",
    "regressors = {\n",
    "    \"KNeighbors\": (KNeighborsRegressor(), {\"n_neighbors\": [1, 2, 3, 4, 5, 6, 7, 8, 9, 10, 11, 12, 13, 14, 15, 16, 17, 18, 19, 20]}), \n",
    "    \"DecisionTree\": (DecisionTreeRegressor(), {\"max_depth\":[1, 2, 3, 4, 5, 6, 7, 8, 9, 10]})\n",
    "}\n",
    "\n",
    "scorers = {\n",
    "    \"r2_score\": make_scorer(r2_score), \n",
    "    \"mean_squared_error\": make_scorer(mean_squared_error),\n",
    "    \"median_absolute_error\": make_scorer(median_absolute_error),\n",
    "    \"mean_absolute_error\": make_scorer(mean_absolute_error),\n",
    "    \"explained_variance_score\": make_scorer(explained_variance_score)\n",
    "}\n",
    "\n",
    "for i in range(10):\n",
    "    print \"第{}次运行\".format(i + 1)\n",
    "    dt = multi_model_train(regressors, scorers, X_train_bj, y_train_bj, X_test_bj, y_test_bj)    \n",
    "    display(dt)"
   ]
  },
  {
   "cell_type": "markdown",
   "metadata": {},
   "source": [
    "### 从使用交差验证训练来看，预先设定的模型中使用 KNeighbors，参数使用 n_neighbors = 20 时，可以获得最好的结果"
   ]
  },
  {
   "cell_type": "code",
   "execution_count": 21,
   "metadata": {
    "collapsed": false
   },
   "outputs": [
    {
     "name": "stdout",
     "output_type": "stream",
     "text": [
      "第1次运行\n"
     ]
    },
    {
     "data": {
      "text/html": [
       "<div>\n",
       "<table border=\"1\" class=\"dataframe\">\n",
       "  <thead>\n",
       "    <tr style=\"text-align: right;\">\n",
       "      <th></th>\n",
       "      <th>max</th>\n",
       "      <th>min</th>\n",
       "      <th>mean</th>\n",
       "      <th>std</th>\n",
       "    </tr>\n",
       "  </thead>\n",
       "  <tbody>\n",
       "    <tr>\n",
       "      <th>0</th>\n",
       "      <td>3532.0</td>\n",
       "      <td>0.25</td>\n",
       "      <td>92.82172</td>\n",
       "      <td>126.318647</td>\n",
       "    </tr>\n",
       "  </tbody>\n",
       "</table>\n",
       "</div>"
      ],
      "text/plain": [
       "      max   min      mean         std\n",
       "0  3532.0  0.25  92.82172  126.318647"
      ]
     },
     "metadata": {},
     "output_type": "display_data"
    },
    {
     "name": "stdout",
     "output_type": "stream",
     "text": [
      "第2次运行\n"
     ]
    },
    {
     "data": {
      "text/html": [
       "<div>\n",
       "<table border=\"1\" class=\"dataframe\">\n",
       "  <thead>\n",
       "    <tr style=\"text-align: right;\">\n",
       "      <th></th>\n",
       "      <th>max</th>\n",
       "      <th>min</th>\n",
       "      <th>mean</th>\n",
       "      <th>std</th>\n",
       "    </tr>\n",
       "  </thead>\n",
       "  <tbody>\n",
       "    <tr>\n",
       "      <th>0</th>\n",
       "      <td>3532.0</td>\n",
       "      <td>0.25</td>\n",
       "      <td>92.82172</td>\n",
       "      <td>126.318647</td>\n",
       "    </tr>\n",
       "  </tbody>\n",
       "</table>\n",
       "</div>"
      ],
      "text/plain": [
       "      max   min      mean         std\n",
       "0  3532.0  0.25  92.82172  126.318647"
      ]
     },
     "metadata": {},
     "output_type": "display_data"
    },
    {
     "name": "stdout",
     "output_type": "stream",
     "text": [
      "第3次运行\n"
     ]
    },
    {
     "data": {
      "text/html": [
       "<div>\n",
       "<table border=\"1\" class=\"dataframe\">\n",
       "  <thead>\n",
       "    <tr style=\"text-align: right;\">\n",
       "      <th></th>\n",
       "      <th>max</th>\n",
       "      <th>min</th>\n",
       "      <th>mean</th>\n",
       "      <th>std</th>\n",
       "    </tr>\n",
       "  </thead>\n",
       "  <tbody>\n",
       "    <tr>\n",
       "      <th>0</th>\n",
       "      <td>3532.0</td>\n",
       "      <td>0.25</td>\n",
       "      <td>92.82172</td>\n",
       "      <td>126.318647</td>\n",
       "    </tr>\n",
       "  </tbody>\n",
       "</table>\n",
       "</div>"
      ],
      "text/plain": [
       "      max   min      mean         std\n",
       "0  3532.0  0.25  92.82172  126.318647"
      ]
     },
     "metadata": {},
     "output_type": "display_data"
    },
    {
     "name": "stdout",
     "output_type": "stream",
     "text": [
      "第4次运行\n"
     ]
    },
    {
     "data": {
      "text/html": [
       "<div>\n",
       "<table border=\"1\" class=\"dataframe\">\n",
       "  <thead>\n",
       "    <tr style=\"text-align: right;\">\n",
       "      <th></th>\n",
       "      <th>max</th>\n",
       "      <th>min</th>\n",
       "      <th>mean</th>\n",
       "      <th>std</th>\n",
       "    </tr>\n",
       "  </thead>\n",
       "  <tbody>\n",
       "    <tr>\n",
       "      <th>0</th>\n",
       "      <td>3532.0</td>\n",
       "      <td>0.25</td>\n",
       "      <td>92.82172</td>\n",
       "      <td>126.318647</td>\n",
       "    </tr>\n",
       "  </tbody>\n",
       "</table>\n",
       "</div>"
      ],
      "text/plain": [
       "      max   min      mean         std\n",
       "0  3532.0  0.25  92.82172  126.318647"
      ]
     },
     "metadata": {},
     "output_type": "display_data"
    },
    {
     "name": "stdout",
     "output_type": "stream",
     "text": [
      "第5次运行\n"
     ]
    },
    {
     "data": {
      "text/html": [
       "<div>\n",
       "<table border=\"1\" class=\"dataframe\">\n",
       "  <thead>\n",
       "    <tr style=\"text-align: right;\">\n",
       "      <th></th>\n",
       "      <th>max</th>\n",
       "      <th>min</th>\n",
       "      <th>mean</th>\n",
       "      <th>std</th>\n",
       "    </tr>\n",
       "  </thead>\n",
       "  <tbody>\n",
       "    <tr>\n",
       "      <th>0</th>\n",
       "      <td>3532.0</td>\n",
       "      <td>0.25</td>\n",
       "      <td>92.82172</td>\n",
       "      <td>126.318647</td>\n",
       "    </tr>\n",
       "  </tbody>\n",
       "</table>\n",
       "</div>"
      ],
      "text/plain": [
       "      max   min      mean         std\n",
       "0  3532.0  0.25  92.82172  126.318647"
      ]
     },
     "metadata": {},
     "output_type": "display_data"
    },
    {
     "name": "stdout",
     "output_type": "stream",
     "text": [
      "第6次运行\n"
     ]
    },
    {
     "data": {
      "text/html": [
       "<div>\n",
       "<table border=\"1\" class=\"dataframe\">\n",
       "  <thead>\n",
       "    <tr style=\"text-align: right;\">\n",
       "      <th></th>\n",
       "      <th>max</th>\n",
       "      <th>min</th>\n",
       "      <th>mean</th>\n",
       "      <th>std</th>\n",
       "    </tr>\n",
       "  </thead>\n",
       "  <tbody>\n",
       "    <tr>\n",
       "      <th>0</th>\n",
       "      <td>3532.0</td>\n",
       "      <td>0.25</td>\n",
       "      <td>92.82172</td>\n",
       "      <td>126.318647</td>\n",
       "    </tr>\n",
       "  </tbody>\n",
       "</table>\n",
       "</div>"
      ],
      "text/plain": [
       "      max   min      mean         std\n",
       "0  3532.0  0.25  92.82172  126.318647"
      ]
     },
     "metadata": {},
     "output_type": "display_data"
    },
    {
     "name": "stdout",
     "output_type": "stream",
     "text": [
      "第7次运行\n"
     ]
    },
    {
     "data": {
      "text/html": [
       "<div>\n",
       "<table border=\"1\" class=\"dataframe\">\n",
       "  <thead>\n",
       "    <tr style=\"text-align: right;\">\n",
       "      <th></th>\n",
       "      <th>max</th>\n",
       "      <th>min</th>\n",
       "      <th>mean</th>\n",
       "      <th>std</th>\n",
       "    </tr>\n",
       "  </thead>\n",
       "  <tbody>\n",
       "    <tr>\n",
       "      <th>0</th>\n",
       "      <td>3532.0</td>\n",
       "      <td>0.25</td>\n",
       "      <td>92.82172</td>\n",
       "      <td>126.318647</td>\n",
       "    </tr>\n",
       "  </tbody>\n",
       "</table>\n",
       "</div>"
      ],
      "text/plain": [
       "      max   min      mean         std\n",
       "0  3532.0  0.25  92.82172  126.318647"
      ]
     },
     "metadata": {},
     "output_type": "display_data"
    },
    {
     "name": "stdout",
     "output_type": "stream",
     "text": [
      "第8次运行\n"
     ]
    },
    {
     "data": {
      "text/html": [
       "<div>\n",
       "<table border=\"1\" class=\"dataframe\">\n",
       "  <thead>\n",
       "    <tr style=\"text-align: right;\">\n",
       "      <th></th>\n",
       "      <th>max</th>\n",
       "      <th>min</th>\n",
       "      <th>mean</th>\n",
       "      <th>std</th>\n",
       "    </tr>\n",
       "  </thead>\n",
       "  <tbody>\n",
       "    <tr>\n",
       "      <th>0</th>\n",
       "      <td>3532.0</td>\n",
       "      <td>0.25</td>\n",
       "      <td>92.82172</td>\n",
       "      <td>126.318647</td>\n",
       "    </tr>\n",
       "  </tbody>\n",
       "</table>\n",
       "</div>"
      ],
      "text/plain": [
       "      max   min      mean         std\n",
       "0  3532.0  0.25  92.82172  126.318647"
      ]
     },
     "metadata": {},
     "output_type": "display_data"
    },
    {
     "name": "stdout",
     "output_type": "stream",
     "text": [
      "第9次运行\n"
     ]
    },
    {
     "data": {
      "text/html": [
       "<div>\n",
       "<table border=\"1\" class=\"dataframe\">\n",
       "  <thead>\n",
       "    <tr style=\"text-align: right;\">\n",
       "      <th></th>\n",
       "      <th>max</th>\n",
       "      <th>min</th>\n",
       "      <th>mean</th>\n",
       "      <th>std</th>\n",
       "    </tr>\n",
       "  </thead>\n",
       "  <tbody>\n",
       "    <tr>\n",
       "      <th>0</th>\n",
       "      <td>3532.0</td>\n",
       "      <td>0.25</td>\n",
       "      <td>92.82172</td>\n",
       "      <td>126.318647</td>\n",
       "    </tr>\n",
       "  </tbody>\n",
       "</table>\n",
       "</div>"
      ],
      "text/plain": [
       "      max   min      mean         std\n",
       "0  3532.0  0.25  92.82172  126.318647"
      ]
     },
     "metadata": {},
     "output_type": "display_data"
    },
    {
     "name": "stdout",
     "output_type": "stream",
     "text": [
      "第10次运行\n"
     ]
    },
    {
     "data": {
      "text/html": [
       "<div>\n",
       "<table border=\"1\" class=\"dataframe\">\n",
       "  <thead>\n",
       "    <tr style=\"text-align: right;\">\n",
       "      <th></th>\n",
       "      <th>max</th>\n",
       "      <th>min</th>\n",
       "      <th>mean</th>\n",
       "      <th>std</th>\n",
       "    </tr>\n",
       "  </thead>\n",
       "  <tbody>\n",
       "    <tr>\n",
       "      <th>0</th>\n",
       "      <td>3532.0</td>\n",
       "      <td>0.25</td>\n",
       "      <td>92.82172</td>\n",
       "      <td>126.318647</td>\n",
       "    </tr>\n",
       "  </tbody>\n",
       "</table>\n",
       "</div>"
      ],
      "text/plain": [
       "      max   min      mean         std\n",
       "0  3532.0  0.25  92.82172  126.318647"
      ]
     },
     "metadata": {},
     "output_type": "display_data"
    }
   ],
   "source": [
    "### 不使用交叉验证训练模型\n",
    "reg = KNeighborsRegressor(n_neighbors = 20)\n",
    "for i in range(10):\n",
    "    print \"第{}次运行\".format(i + 1)\n",
    "    dt = train_model_without_cv(reg, X_train_bj, y_train_bj, X_test_bj, y_test_bj)\n",
    "    display(dt)"
   ]
  },
  {
   "cell_type": "markdown",
   "metadata": {},
   "source": [
    "你成功的用新的数据集构建了模型了吗？他能对测试数据进行验证吗？它的表现是否符合你的预期？交叉验证是否有助于提升你模型的表现？"
   ]
  },
  {
   "cell_type": "markdown",
   "metadata": {},
   "source": [
    "**答案：**\n",
    "使用新的数据集成功构建了模型，可以对测试数据进行验证，表现低于预期（误差还是有点大），交叉验证不一定能提升模型表现。  \n",
    "\n",
    "- 采用了KNeighbors和DecisionTree两种回归算法，r2_score、mean_squared_error、median_absolute_error、mean_absolute_error、explained_variance_score 五种评估指标，运行了10次，结果标明在这批数据下，KNeighbors表现稳定，误差相对小（使用标准差判断），优于DecisionTree。  \n",
    "- 在相同的数据下，相同的评估算法和参数，使用交叉验证不一定能提升模型的表现。如代码中使用 KNeighbors 回归器，参数 n_neighbors = 20，使用了较差验证和不使用交叉验证的评估结果一样。"
   ]
  },
  {
   "cell_type": "markdown",
   "metadata": {},
   "source": [
    "如果你是从零开始构建机器学习的代码会让你一时觉得无从下手。这时不要着急，你要做的只是查看之前写的代码，把每一行都看明白，然后逐步构建你的模型。当中遇到什么问题也可以在我们论坛寻找答案。也许你会发现你所构建的模型的表现并没有达到你的预期，这说明机器学习并非是一项简单的任务，构建一个表现良好的模型需要长时间的研究和测试。这也是我们接下来的课程中会逐渐学到的。"
   ]
  }
 ],
 "metadata": {
  "kernelspec": {
   "display_name": "Python 2",
   "language": "python",
   "name": "python2"
  },
  "language_info": {
   "codemirror_mode": {
    "name": "ipython",
    "version": 2
   },
   "file_extension": ".py",
   "mimetype": "text/x-python",
   "name": "python",
   "nbconvert_exporter": "python",
   "pygments_lexer": "ipython2",
   "version": "2.7.13"
  }
 },
 "nbformat": 4,
 "nbformat_minor": 0
}
